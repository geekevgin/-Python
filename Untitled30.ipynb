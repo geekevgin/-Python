{
  "nbformat": 4,
  "nbformat_minor": 0,
  "metadata": {
    "colab": {
      "name": "Untitled30.ipynb",
      "provenance": [],
      "authorship_tag": "ABX9TyPVBOFyLphCnih7oWCojcjY",
      "include_colab_link": true
    },
    "kernelspec": {
      "name": "python3",
      "display_name": "Python 3"
    },
    "language_info": {
      "name": "python"
    }
  },
  "cells": [
    {
      "cell_type": "markdown",
      "metadata": {
        "id": "view-in-github",
        "colab_type": "text"
      },
      "source": [
        "<a href=\"https://colab.research.google.com/github/geekevgin/-Python/blob/main/Untitled30.ipynb\" target=\"_parent\"><img src=\"https://colab.research.google.com/assets/colab-badge.svg\" alt=\"Open In Colab\"/></a>"
      ]
    },
    {
      "cell_type": "code",
      "source": [
        "#задача 1 номер 7 из 3го урока\n",
        "import cProfile\n",
        "import timeit\n",
        "\n",
        "def mins(len):\n",
        "    import random\n",
        "\n",
        "    nums = [random.randint(0, 100) for i in range(100)]\n",
        "\n",
        "    min1 = 100\n",
        "    min2 = 100\n",
        "\n",
        "    for i in nums:\n",
        "        if i < min1:\n",
        "            min1 = i\n",
        "        elif i < min2:\n",
        "            min2 = i\n",
        "    return (min1, min2)\n",
        "\n",
        "#100\n",
        "#1000 loops, best of 5: 22.2 usec per loop\n",
        "\n",
        "#500\n",
        "#1000 loops, best of 5: 22.3 usec per loop\n",
        "\n",
        "#cProfile.run(100)\n",
        "#3213 function calls (3151 primitive calls) in 0.053 seconds\n",
        "\n",
        "#cProfile.run(500)\n",
        "#3209 function calls (3147 primitive calls) in 0.034 seconds\n",
        "\n",
        "#способ с cProfile рабоет быстрее. Скорость не зависит от длины массива\n",
        "\n"
      ],
      "metadata": {
        "id": "-smesmmJeFUO"
      },
      "execution_count": 11,
      "outputs": []
    },
    {
      "cell_type": "code",
      "source": [
        "#2\n",
        "import cProfile\n",
        "def Eratosfen(index):\n",
        "  if index < 500:\n",
        "    num = (index//20)*150\n",
        "  elif index < 500000:\n",
        "    num = (index//20)*300\n",
        "  else:\n",
        "    num = (index // 20)*500\n",
        "\n",
        "  \n",
        "    s = [i for i in range(num)]\n",
        "\n",
        "    s[1] = 0\n",
        "\n",
        "    for i in range(2, num):\n",
        "        if s[i] != 0:\n",
        "            j = i * 2\n",
        "            while j < num:\n",
        "                s[j] = 0\n",
        "                j += i\n",
        "\n",
        "  print(Eratosfen(10, 500))\n",
        "\n",
        "# timeit num(100):\n",
        "# 100 loops, best of 3: 393 usec per loop\n",
        "\n",
        "# timeit num(500):\n",
        "# 100 loops, best of 3: 1.5 msec per loop\n",
        "\n",
        "# timeit num(1000):\n",
        "# 100 loops, best of 3: 5.89 msec per loop\n",
        "\n",
        "# cProfile.run('Eratosfen(100)')\n",
        "# 1    0.000    0.000    0.000    0.000 \n",
        "\n",
        "# cProfile.run('Eratosfen(500)')\n",
        "# 1    0.001    0.001    0.001    0.001 \n",
        "\n",
        "# cProfile.run('Eratosfen(1000)')\n",
        "# 1    0.004    0.004    0.005    0.005 \n",
        "\n",
        "\n",
        "\n",
        "# Итог: Решето лучший вариант\n",
        "\n",
        "\n"
      ],
      "metadata": {
        "id": "nedUzfNLkn7S"
      },
      "execution_count": 15,
      "outputs": []
    }
  ]
}