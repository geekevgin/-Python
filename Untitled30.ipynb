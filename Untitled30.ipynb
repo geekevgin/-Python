{
  "nbformat": 4,
  "nbformat_minor": 0,
  "metadata": {
    "colab": {
      "name": "Untitled30.ipynb",
      "provenance": [],
      "authorship_tag": "ABX9TyMofbrRXZz1qcvSjLbRfNuF",
      "include_colab_link": true
    },
    "kernelspec": {
      "name": "python3",
      "display_name": "Python 3"
    },
    "language_info": {
      "name": "python"
    }
  },
  "cells": [
    {
      "cell_type": "markdown",
      "metadata": {
        "id": "view-in-github",
        "colab_type": "text"
      },
      "source": [
        "<a href=\"https://colab.research.google.com/github/geekevgin/-Python/blob/main/Untitled30.ipynb\" target=\"_parent\"><img src=\"https://colab.research.google.com/assets/colab-badge.svg\" alt=\"Open In Colab\"/></a>"
      ]
    },
    {
      "cell_type": "code",
      "source": [
        "#задача 3\n",
        "from random import randint\n",
        "nums = []\n",
        "for i in range(5):\n",
        "  nums.append(randint(0,20))\n",
        "print(nums)\n",
        "nums[nums.index(max(nums))], nums[nums.index(min(nums))] = nums[nums.index(min(nums))], nums[nums.index(max(nums))]\n",
        "print(nums)"
      ],
      "metadata": {
        "colab": {
          "base_uri": "https://localhost:8080/"
        },
        "id": "zNC0BYGNeySg",
        "outputId": "52e27d16-9f25-44d9-c3d4-8765bbcbf169"
      },
      "execution_count": null,
      "outputs": [
        {
          "output_type": "stream",
          "name": "stdout",
          "text": [
            "[12, 0, 16, 1, 18]\n",
            "[12, 18, 16, 1, 0]\n"
          ]
        }
      ]
    },
    {
      "cell_type": "code",
      "source": [
        "#4\n",
        "from random import randint\n",
        "nums = []\n",
        "for i in range(50):\n",
        "  nums.append(randint(10,100))\n",
        "print(f'массив: {nums}')\n",
        "\n",
        "max_index = 0\n",
        "for i in nums:\n",
        "  if nums.count(max_index) < nums.count(i):\n",
        "    max_index = nums.index(i)\n",
        "print(f'Число {nums[max_index]}, встречается {nums.count(max_index)} раза')\n"
      ],
      "metadata": {
        "colab": {
          "base_uri": "https://localhost:8080/"
        },
        "id": "AdbUop1AS7Fm",
        "outputId": "b407ae4a-8a3a-47a8-d363-02080ea97fb9"
      },
      "execution_count": null,
      "outputs": [
        {
          "output_type": "stream",
          "name": "stdout",
          "text": [
            "массив: [92, 18, 11, 63, 43, 88, 27, 55, 35, 16, 13, 39, 82, 63, 71, 39, 39, 69, 99, 48, 67, 43, 69, 79, 10, 12, 27, 36, 95, 54, 87, 15, 68, 11, 14, 74, 19, 41, 65, 45, 73, 98, 84, 39, 36, 21, 37, 11, 39, 13]\n",
            "Число 39, встречается 3 раза\n"
          ]
        }
      ]
    },
    {
      "cell_type": "code",
      "source": [
        "#7\n",
        "from random import randint\n",
        "\n",
        "nums = [randint(1, 100) for i in range(20)]\n",
        "print(f'massive: {nums}')\n",
        "\n",
        "max_index= 0\n",
        "max_index1 = 1\n",
        "\n",
        "for i in nums:\n",
        "  if nums[max_index] > i:\n",
        "    max_index_1 = max_index\n",
        "    max_index = nums.index(i)\n",
        "  elif nums[max_index1] > i:\n",
        "    max_index1 = nums.index(i)\n",
        "\n",
        "print(f'Два минимальных числа: {max_index, max_index1}')\n",
        "\n"
      ],
      "metadata": {
        "colab": {
          "base_uri": "https://localhost:8080/"
        },
        "id": "yYL95Y1kXSCV",
        "outputId": "8042e7f2-5e63-4f98-cd73-05ac811dda7e"
      },
      "execution_count": null,
      "outputs": [
        {
          "output_type": "stream",
          "name": "stdout",
          "text": [
            "massive: [36, 66, 34, 35, 80, 35, 61, 11, 1, 81, 79, 47, 92, 33, 49, 83, 55, 57, 50, 100]\n",
            "Два минимальных числа: (8, 13)\n"
          ]
        }
      ]
    },
    {
      "cell_type": "code",
      "source": [
        "#5\n",
        "from random import randint \n",
        "nums = [randint(- 10, 10) for i in range(20)]\n",
        "print(f'massive: {nums}')\n",
        "\n",
        "min_index = 0\n",
        "for i in nums:\n",
        "    if nums[min_index] > i:\n",
        "        min_index = nums.index(i)\n",
        "print(f'минимальный отрицательный элемент: {nums[min_index]} на позиции {min_index}')"
      ],
      "metadata": {
        "colab": {
          "base_uri": "https://localhost:8080/"
        },
        "id": "8V_cVRx5hi-u",
        "outputId": "0e341a55-8521-4b12-899f-0ff98362e5c8"
      },
      "execution_count": null,
      "outputs": [
        {
          "output_type": "stream",
          "name": "stdout",
          "text": [
            "massive: [-8, 1, -10, 5, 3, 6, -8, -1, -5, 2, 8, 4, 10, 9, -7, 6, 1, 9, 7, 10]\n",
            "минимальный отрицательный элемент: -10 на позиции 2\n"
          ]
        }
      ]
    },
    {
      "cell_type": "code",
      "source": [
        ""
      ],
      "metadata": {
        "id": "p5yqRGusle7d"
      },
      "execution_count": null,
      "outputs": []
    }
  ]
}