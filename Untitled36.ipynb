{
  "nbformat": 4,
  "nbformat_minor": 0,
  "metadata": {
    "colab": {
      "name": "Untitled36.ipynb",
      "provenance": [],
      "authorship_tag": "ABX9TyMo3swPtM+lFHKDcwPEO85n",
      "include_colab_link": true
    },
    "kernelspec": {
      "name": "python3",
      "display_name": "Python 3"
    },
    "language_info": {
      "name": "python"
    }
  },
  "cells": [
    {
      "cell_type": "markdown",
      "metadata": {
        "id": "view-in-github",
        "colab_type": "text"
      },
      "source": [
        "<a href=\"https://colab.research.google.com/github/geekevgin/-Python/blob/main/Untitled36.ipynb\" target=\"_parent\"><img src=\"https://colab.research.google.com/assets/colab-badge.svg\" alt=\"Open In Colab\"/></a>"
      ]
    },
    {
      "cell_type": "code",
      "source": [
        "from sklearn.tree import DecisionTreeClassifier\n",
        "from sklearn.datasets import load_breast_cancer\n",
        "import matplotlib.pyplot as plt\n",
        "\n",
        "from sklearn import model_selection\n",
        "import numpy as np"
      ],
      "metadata": {
        "id": "uOOfekxR4IAQ"
      },
      "execution_count": 51,
      "outputs": []
    },
    {
      "cell_type": "code",
      "source": [
        "from pandas.core.dtypes.cast import astype_array\n",
        "X, y = load_breast_cancer(return_X_y=True)\n",
        "X_train, X_test, y_train, y_test = model_selection.train_test_split(X, y, test_size=0.25)\n",
        "def get_error(pred, y):\n",
        "    return np.sum((pred != y).astype(int))/ len(y)"
      ],
      "metadata": {
        "id": "PEARtnN54MhX"
      },
      "execution_count": 72,
      "outputs": []
    },
    {
      "cell_type": "code",
      "source": [
        "def adaboost(X, y, N):\n",
        "    n_objects = len(X)\n",
        "    n_classes = len(np.unique((y)))\n",
        "    w = np.ones(n_objects) / n_objects\n",
        "    models = []\n",
        "\n",
        "    from sklearn.linear_model import LogisticRegression\n",
        "\n",
        "    for n in range(N):\n",
        "        clf = LogisticRegression(random_state=42).fit(X, y,w)\n",
        "        clf.predict(X)\n",
        "\n",
        "        predictions = clf.predict_proba(X)\n",
        "        e = get_error(predictions, y)\n",
        "        if e >= 1 - 1/n_classes: \n",
        "            break\n",
        "\n",
        "        alpha = 0.5 * np.log((1 - e) / e)\n",
        "        match = predictions == y\n",
        "        w[np.logical_not(match)] *= np.exp(alpha)\n",
        "        w[match] *= np.exp(-alpha)\n",
        "        w /= w.sum()\n",
        "        models.append((alpha, clf))\n",
        "    \n",
        "    return models"
      ],
      "metadata": {
        "id": "TAO5qpnV4OL1"
      },
      "execution_count": 94,
      "outputs": []
    },
    {
      "cell_type": "code",
      "source": [
        "def predict(X, models, n_classes = 2):\n",
        "    \n",
        "    n_objects = len(X)\n",
        "    y_pred = np.zeros((n_objects, n_classes))\n",
        "    \n",
        "    for alpha, clf in models:\n",
        "        prediction = clf.predict(X)\n",
        "        y_pred[range(n_objects), prediction] += alpha\n",
        "    y_pred = np.argmax(y_pred, axis=1)\n",
        "    \n",
        "    return y_pred\n",
        "\n",
        "print(f'Точность алгоритма на обучающей выборке: {(1 - get_error(predict(X_train, models), y_train)) * 100:.3f}')"
      ],
      "metadata": {
        "colab": {
          "base_uri": "https://localhost:8080/"
        },
        "id": "yNgL8RwJYJmU",
        "outputId": "95d66a2a-35c3-464d-dc47-2b451600c22a"
      },
      "execution_count": 95,
      "outputs": [
        {
          "output_type": "stream",
          "name": "stdout",
          "text": [
            "Точность алгоритма на обучающей выборке: 94.836\n"
          ]
        }
      ]
    },
    {
      "cell_type": "code",
      "source": [
        "print(f'Точность алгоритма на тестовой выборке: {(1 - get_error(predict(X_test, models), y_test)) * 100:.3f}')"
      ],
      "metadata": {
        "colab": {
          "base_uri": "https://localhost:8080/"
        },
        "id": "YPYH516KYLqd",
        "outputId": "c3466d54-7939-47c4-c9a1-62781fde57e2"
      },
      "execution_count": 96,
      "outputs": [
        {
          "output_type": "stream",
          "name": "stdout",
          "text": [
            "Точность алгоритма на тестовой выборке: 95.804\n"
          ]
        }
      ]
    }
  ]
}