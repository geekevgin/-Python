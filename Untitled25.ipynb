{
  "nbformat": 4,
  "nbformat_minor": 0,
  "metadata": {
    "colab": {
      "name": "Untitled25.ipynb",
      "provenance": [],
      "authorship_tag": "ABX9TyNM2IJn6pBPN4+up1kiNwWC",
      "include_colab_link": true
    },
    "kernelspec": {
      "name": "python3",
      "display_name": "Python 3"
    },
    "language_info": {
      "name": "python"
    }
  },
  "cells": [
    {
      "cell_type": "markdown",
      "metadata": {
        "id": "view-in-github",
        "colab_type": "text"
      },
      "source": [
        "<a href=\"https://colab.research.google.com/github/geekevgin/-Python/blob/main/Untitled25.ipynb\" target=\"_parent\"><img src=\"https://colab.research.google.com/assets/colab-badge.svg\" alt=\"Open In Colab\"/></a>"
      ]
    },
    {
      "cell_type": "code",
      "execution_count": 29,
      "metadata": {
        "id": "PGf8ffH8d_vy"
      },
      "outputs": [],
      "source": [
        "import numpy as np\n",
        "from numpy import linalg as LA"
      ]
    },
    {
      "cell_type": "code",
      "source": [
        "A = np.array([[1, 2, 0],\n",
        "              [0, 0, 5],\n",
        "              [3, -4, 2], \n",
        "              [1, 6, 5],\n",
        "              [0, 1, 0]])\n",
        "print(A)"
      ],
      "metadata": {
        "colab": {
          "base_uri": "https://localhost:8080/"
        },
        "id": "N_ClE4n1eFB7",
        "outputId": "05da079e-5448-4eaf-d357-fc6a3c7bc5e9"
      },
      "execution_count": 26,
      "outputs": [
        {
          "output_type": "stream",
          "name": "stdout",
          "text": [
            "[[ 1  2  0]\n",
            " [ 0  0  5]\n",
            " [ 3 -4  2]\n",
            " [ 1  6  5]\n",
            " [ 0  1  0]]\n"
          ]
        }
      ]
    },
    {
      "cell_type": "code",
      "source": [
        "U, s, W = np.linalg.svd(A)\n",
        "V = W.T\n",
        "D = np.zeros_like(A, dtype=float)\n",
        "D[np.diag_indices(min(A.shape))] = s"
      ],
      "metadata": {
        "id": "BoRiSEVue6s8"
      },
      "execution_count": 17,
      "outputs": []
    },
    {
      "cell_type": "code",
      "source": [
        "print(f'матрица D:\\n{D}')"
      ],
      "metadata": {
        "colab": {
          "base_uri": "https://localhost:8080/"
        },
        "id": "ipx03V3gfiiG",
        "outputId": "ebb6e90d-beca-4ccd-8309-2c0c7453a01c"
      },
      "execution_count": 18,
      "outputs": [
        {
          "output_type": "stream",
          "name": "stdout",
          "text": [
            "Матрица D:\n",
            "[[8.82486885 0.         0.        ]\n",
            " [0.         6.14060608 0.        ]\n",
            " [0.         0.         2.53271528]\n",
            " [0.         0.         0.        ]\n",
            " [0.         0.         0.        ]]\n"
          ]
        }
      ]
    },
    {
      "cell_type": "code",
      "source": [
        "print(f'матрица U:\\n{U}')"
      ],
      "metadata": {
        "colab": {
          "base_uri": "https://localhost:8080/"
        },
        "id": "A7ikUhvzgN9n",
        "outputId": "f4cfa7bc-3fc1-497b-d1a0-494d8ab1d8e7"
      },
      "execution_count": 19,
      "outputs": [
        {
          "output_type": "stream",
          "name": "stdout",
          "text": [
            "Матрица U:\n",
            "[[ 0.17056501  0.15680918 -0.53077508 -0.79905375 -0.16158397]\n",
            " [ 0.39287016 -0.52933945  0.6134793  -0.43375771  0.03082495]\n",
            " [-0.14366152 -0.82449256 -0.52379105  0.14049848  0.07400343]\n",
            " [ 0.88843702  0.06074346 -0.24655277  0.37755832 -0.06042632]\n",
            " [ 0.08125046  0.10831843 -0.08231425 -0.10524851  0.98173958]]\n"
          ]
        }
      ]
    },
    {
      "cell_type": "code",
      "source": [
        "print(np.dot(U.T, U))"
      ],
      "metadata": {
        "colab": {
          "base_uri": "https://localhost:8080/"
        },
        "id": "QWigvlzcgjN9",
        "outputId": "a0a80c00-32e6-40bb-9283-25370a5a615f"
      },
      "execution_count": 20,
      "outputs": [
        {
          "output_type": "stream",
          "name": "stdout",
          "text": [
            "[[ 1.00000000e+00  3.19674802e-16 -3.99355622e-16  1.35663262e-17\n",
            "  -8.83091830e-18]\n",
            " [ 3.19674802e-16  1.00000000e+00  3.63628026e-16  7.29367646e-17\n",
            "   3.15830273e-17]\n",
            " [-3.99355622e-16  3.63628026e-16  1.00000000e+00 -1.56755518e-16\n",
            "  -7.11991378e-17]\n",
            " [ 1.35663262e-17  7.29367646e-17 -1.56755518e-16  1.00000000e+00\n",
            "  -2.63859021e-17]\n",
            " [-8.83091830e-18  3.15830273e-17 -7.11991378e-17 -2.63859021e-17\n",
            "   1.00000000e+00]]\n"
          ]
        }
      ]
    },
    {
      "cell_type": "code",
      "source": [
        "print(f'матрица V:\\n{V}')"
      ],
      "metadata": {
        "colab": {
          "base_uri": "https://localhost:8080/"
        },
        "id": "6YrUte7CgtOs",
        "outputId": "d76b8c25-49cb-4328-b6bb-7909a74fe589"
      },
      "execution_count": 21,
      "outputs": [
        {
          "output_type": "stream",
          "name": "stdout",
          "text": [
            "Матрица V:\n",
            "[[ 0.07116451 -0.36737824 -0.92734505]\n",
            " [ 0.71702467  0.66514082 -0.20847855]\n",
            " [ 0.69340553 -0.65009301  0.31075368]]\n"
          ]
        }
      ]
    },
    {
      "cell_type": "code",
      "source": [
        "print(np.dot(V.T, V))"
      ],
      "metadata": {
        "colab": {
          "base_uri": "https://localhost:8080/"
        },
        "id": "Xu7NzWNhhguD",
        "outputId": "0bd88bdb-ab11-401f-8788-50eaa31a86ae"
      },
      "execution_count": 22,
      "outputs": [
        {
          "output_type": "stream",
          "name": "stdout",
          "text": [
            "[[ 1.00000000e+00  2.63580532e-16 -8.46021341e-17]\n",
            " [ 2.63580532e-16  1.00000000e+00 -1.38296348e-16]\n",
            " [-8.46021341e-17 -1.38296348e-16  1.00000000e+00]]\n"
          ]
        }
      ]
    },
    {
      "cell_type": "code",
      "source": [
        "print(np.dot(np.dot(U, D), V.T))"
      ],
      "metadata": {
        "colab": {
          "base_uri": "https://localhost:8080/"
        },
        "id": "uqFy3i52hl3a",
        "outputId": "8b44d270-7b8e-41ed-ee8f-85101e76d11a"
      },
      "execution_count": 23,
      "outputs": [
        {
          "output_type": "stream",
          "name": "stdout",
          "text": [
            "[[ 1.00000000e+00  2.00000000e+00  1.31018987e-15]\n",
            " [ 1.93009612e-16 -2.66609409e-15  5.00000000e+00]\n",
            " [ 3.00000000e+00 -4.00000000e+00  2.00000000e+00]\n",
            " [ 1.00000000e+00  6.00000000e+00  5.00000000e+00]\n",
            " [-5.49534701e-17  1.00000000e+00 -3.02821608e-17]]\n"
          ]
        }
      ]
    },
    {
      "cell_type": "code",
      "source": [
        "# евклидова норма\n",
        "LA.norm(A, ord = 2)"
      ],
      "metadata": {
        "colab": {
          "base_uri": "https://localhost:8080/"
        },
        "id": "zLlU_yLolONT",
        "outputId": "299d0870-e791-48f0-b8bb-979bede7ac77"
      },
      "execution_count": 30,
      "outputs": [
        {
          "output_type": "execute_result",
          "data": {
            "text/plain": [
              "8.824868854820444"
            ]
          },
          "metadata": {},
          "execution_count": 30
        }
      ]
    },
    {
      "cell_type": "code",
      "source": [
        "#норма Фробениуса\n",
        "LA.norm(A, 'fro')"
      ],
      "metadata": {
        "colab": {
          "base_uri": "https://localhost:8080/"
        },
        "id": "6WxLzJq1n705",
        "outputId": "5d00acbc-db25-4ef9-c34c-79835c3d3058"
      },
      "execution_count": 32,
      "outputs": [
        {
          "output_type": "execute_result",
          "data": {
            "text/plain": [
              "11.045361017187261"
            ]
          },
          "metadata": {},
          "execution_count": 32
        }
      ]
    }
  ]
}