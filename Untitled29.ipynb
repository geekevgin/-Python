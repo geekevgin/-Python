{
  "nbformat": 4,
  "nbformat_minor": 0,
  "metadata": {
    "colab": {
      "name": "Untitled29.ipynb",
      "provenance": [],
      "authorship_tag": "ABX9TyMIZWOpLg6Lx5zJHrwaynP8",
      "include_colab_link": true
    },
    "kernelspec": {
      "name": "python3",
      "display_name": "Python 3"
    },
    "language_info": {
      "name": "python"
    }
  },
  "cells": [
    {
      "cell_type": "markdown",
      "metadata": {
        "id": "view-in-github",
        "colab_type": "text"
      },
      "source": [
        "<a href=\"https://colab.research.google.com/github/geekevgin/-Python/blob/main/Untitled29.ipynb\" target=\"_parent\"><img src=\"https://colab.research.google.com/assets/colab-badge.svg\" alt=\"Open In Colab\"/></a>"
      ]
    },
    {
      "cell_type": "code",
      "execution_count": 1,
      "metadata": {
        "colab": {
          "base_uri": "https://localhost:8080/"
        },
        "id": "HuNutB-52hTn",
        "outputId": "81603407-dd73-4b58-96d9-e46724a216aa"
      },
      "outputs": [
        {
          "output_type": "stream",
          "name": "stdout",
          "text": [
            "Выполним логические побитовые операции над числами 5 и 6:\n",
            "5 & 6 = 4\n",
            "5 | 6 = 7\n",
            "5 ^ 6 = 3\n"
          ]
        }
      ],
      "source": [
        "#задача 1\n",
        "bit_and = 5 & 6\n",
        "bit_or = 5 | 6\n",
        "bit_xor = 5 ^ 6\n",
        "\n",
        "print(f'Выполним логические побитовые операции над числами 5 и 6:\\n'\n",
        "      f'5 & 6 = {bit_and}\\n'\n",
        "      f'5 | 6 = {bit_or}\\n'\n",
        "      f'5 ^ 6 = {bit_xor}')"
      ]
    },
    {
      "cell_type": "code",
      "source": [
        "#задача2\n",
        "print('Введите координаты точек:')\n",
        "x1 = int(input('Введите координату первой точки x1:'))\n",
        "y1 = int(input('Введите координату второй точки y2:'))\n",
        "\n",
        "x2 = int(input('Введите координаты второй точки x2:'))\n",
        "y2 = int(input('Введите координаты второй точки y2:'))\n",
        " \n",
        "print('Уравнение прямой проходящий через эти точки:')\n",
        "k = (y1 - y2)/(x1-x2)\n",
        "b = y2 - k*x2\n",
        "\n",
        "print(k, b)1"
      ],
      "metadata": {
        "colab": {
          "base_uri": "https://localhost:8080/"
        },
        "id": "PL8CeekFOwMz",
        "outputId": "5f046e25-738d-4725-de13-e6382e2548bc"
      },
      "execution_count": 10,
      "outputs": [
        {
          "output_type": "stream",
          "name": "stdout",
          "text": [
            "Введите координаты точек:\n",
            "Введите координату первой точки x1:0\n",
            "Введите координату второй точки y2:0\n",
            "Введите координаты второй точки x2:1\n",
            "Введите координаты второй точки y2:1\n",
            "Уравнение прямой проходящий через эти точки:\n",
            "1.0 0.0\n"
          ]
        }
      ]
    },
    {
      "cell_type": "code",
      "source": [
        "#задача 7\n",
        "year = int(input('Введите год:'))\n",
        "if year % 4 == 0:\n",
        "  print('Год високосный')\n",
        "else:\n",
        "  print('Год не високосный')\n"
      ],
      "metadata": {
        "colab": {
          "base_uri": "https://localhost:8080/"
        },
        "id": "e-aTh_YwT26d",
        "outputId": "c32057f0-06fe-4734-a5a4-a1e234147aa2"
      },
      "execution_count": 11,
      "outputs": [
        {
          "output_type": "stream",
          "name": "stdout",
          "text": [
            "Введите год:2006\n",
            "Год не високосный\n"
          ]
        }
      ]
    },
    {
      "cell_type": "code",
      "source": [
        "print('Введите 3 числа:')\n",
        "a = int(input('Ведите первое число:'))\n",
        "b = int(input('Введите второе число:'))\n",
        "c = int(input('Введите третье число:'))\n",
        "\n",
        "if b<a<c or c<a<b:\n",
        "  print(a)\n",
        "if a<b<c or c<b<a:\n",
        "  print(b)\n",
        "else:\n",
        "  print(c)\n"
      ],
      "metadata": {
        "colab": {
          "base_uri": "https://localhost:8080/"
        },
        "id": "lzABFVdAPGT6",
        "outputId": "a53fcde1-1a56-44bf-a9ca-37209d1cf859"
      },
      "execution_count": 13,
      "outputs": [
        {
          "output_type": "stream",
          "name": "stdout",
          "text": [
            "Введите 3 числа:\n",
            "Ведите первое число:1\n",
            "Введите второе число:4\n",
            "Введите третье число:9\n",
            "4\n"
          ]
        }
      ]
    }
  ]
}