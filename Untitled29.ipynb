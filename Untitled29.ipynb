{
  "nbformat": 4,
  "nbformat_minor": 0,
  "metadata": {
    "colab": {
      "name": "Untitled29.ipynb",
      "provenance": [],
      "authorship_tag": "ABX9TyPe+OW9SeqtXTnajTrdk3ph",
      "include_colab_link": true
    },
    "kernelspec": {
      "name": "python3",
      "display_name": "Python 3"
    },
    "language_info": {
      "name": "python"
    }
  },
  "cells": [
    {
      "cell_type": "markdown",
      "metadata": {
        "id": "view-in-github",
        "colab_type": "text"
      },
      "source": [
        "<a href=\"https://colab.research.google.com/github/geekevgin/-Python/blob/main/Untitled29.ipynb\" target=\"_parent\"><img src=\"https://colab.research.google.com/assets/colab-badge.svg\" alt=\"Open In Colab\"/></a>"
      ]
    },
    {
      "cell_type": "code",
      "source": [
        "#задача 1\n",
        "def add():\n",
        "  number1 = int(input('введите первое число:'))\n",
        "  number2 = int(input('введите второе число:'))\n",
        "  output = number1 + number2\n",
        "  print(f'сумма', number1, '+', number2,'=', output)\n",
        "\n",
        "def sub():\n",
        "  number1 = int(input('введите первое число:'))\n",
        "  number2 = int(input('введите второе число:'))\n",
        "  output = number1 - number2\n",
        "  print(f'разность', number1, '-', number2, '=', output)\n",
        "\n",
        "def mul():\n",
        "  number1 = int(input('введите первое число:'))\n",
        "  number2 = int(input('введите второе число:'))\n",
        "  output = number1*number2\n",
        "  print(f'произведение', number1, '*', number2, '=', output)\n",
        "\n",
        "def div():\n",
        "  number1 = int(input('введите первое число:'))\n",
        "  number2 = int(input('введите второе число:'))\n",
        "  output = number1/number2\n",
        "  print(f'произведение', number1, '/', number2, '=', output)\n",
        "\n",
        "while True:\n",
        "  a = input('Введите знак операции (+, - , *, //, 0):')\n",
        "  if a == 0:\n",
        "    break\n",
        "  elif a == \"+\":\n",
        "    add()\n",
        "  elif a == \"-\":\n",
        "    sub()\n",
        "  elif a == \"*\":\n",
        "    mul()\n",
        "  elif a == '//\\':\n",
        "     try:\n",
        "            print(number1 / number2)\n",
        "     except ZeroDivisionError:\n",
        "            print('Ошибка. Деление на ноль')\n",
        "  else:\n",
        "    print('Неверный знак операции')\n",
        "\n",
        "\n",
        "\n"
      ],
      "metadata": {
        "colab": {
          "base_uri": "https://localhost:8080/"
        },
        "id": "pWawILYfkotw",
        "outputId": "7be01aa9-457c-4bb4-c395-6f0fbb4beb68"
      },
      "execution_count": null,
      "outputs": [
        {
          "output_type": "stream",
          "name": "stdout",
          "text": [
            "Введите знак операции (+, - , *, //, 0):+\n",
            "введите первое число:1\n",
            "введите второе число:3\n",
            "сумма 1 + 3 = 4\n"
          ]
        }
      ]
    },
    {
      "cell_type": "code",
      "source": [
        "#задача 2\n",
        "num = int(input('Введите число:'))\n",
        "even = 0\n",
        "odd = 0 \n",
        "while num>0:\n",
        "  if num%2 ==0 :\n",
        "    even += 1\n",
        "  else:\n",
        "    odd += 1\n",
        "  num = num//10\n",
        "print(f'четных чисел:', even, 'нечетных чисел:', odd)\n"
      ],
      "metadata": {
        "colab": {
          "base_uri": "https://localhost:8080/"
        },
        "id": "f_0ZqzmwxHWr",
        "outputId": "7784d8af-ca16-4efb-ef29-a9e85159410a"
      },
      "execution_count": 29,
      "outputs": [
        {
          "output_type": "stream",
          "name": "stdout",
          "text": [
            "Введите число:76543\n",
            "четных чисел: 2 нечетных чисел: 3\n"
          ]
        }
      ]
    },
    {
      "cell_type": "code",
      "source": [
        "#задача 3\n",
        "num = int(input('введите число:'))\n",
        "num_rev = 0\n",
        "while num > 0:\n",
        "  num_rev = num_rev*10 + num%10\n",
        "  num = num//10\n",
        "print(num_rev)\n"
      ],
      "metadata": {
        "colab": {
          "base_uri": "https://localhost:8080/"
        },
        "id": "AsGwcsyS87dR",
        "outputId": "107581b6-a9d2-431d-a9fc-bab3421a6e9e"
      },
      "execution_count": 30,
      "outputs": [
        {
          "output_type": "stream",
          "name": "stdout",
          "text": [
            "введите число:123\n",
            "321\n"
          ]
        }
      ]
    },
    {
      "cell_type": "code",
      "source": [
        "#задача 6\n",
        "import random\n",
        "i = 0 \n",
        "num_r = random.randint(1, 101)\n",
        "while i < 10:\n",
        "  num = int(input('Введите число:'))\n",
        "  if num>num_r:\n",
        "    print('меньше')\n",
        "  if num<num_r:\n",
        "    print('больше')\n",
        "  if num == num_r:\n",
        "    print('бинго')\n",
        "    break\n",
        "  i =+1\n",
        "print(f'число:', num_r)\n",
        "\n"
      ],
      "metadata": {
        "colab": {
          "base_uri": "https://localhost:8080/"
        },
        "id": "QhfLbioKIOVL",
        "outputId": "d40c8c67-0497-4149-86cc-6546aa2f82f5"
      },
      "execution_count": 32,
      "outputs": [
        {
          "output_type": "stream",
          "name": "stdout",
          "text": [
            "Введите число:99\n",
            "меньше\n",
            "Введите число:56\n",
            "больше\n",
            "Введите число:76\n",
            "больше\n",
            "Введите число:80\n",
            "бинго\n",
            "число: 80\n"
          ]
        }
      ]
    }
  ]
}