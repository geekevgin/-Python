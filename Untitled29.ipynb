{
  "cells": [
    {
      "cell_type": "markdown",
      "metadata": {
        "id": "view-in-github",
        "colab_type": "text"
      },
      "source": [
        "<a href=\"https://colab.research.google.com/github/geekevgin/-Python/blob/main/Untitled29.ipynb\" target=\"_parent\"><img src=\"https://colab.research.google.com/assets/colab-badge.svg\" alt=\"Open In Colab\"/></a>"
      ]
    },
    {
      "cell_type": "code",
      "source": [
        "#task 1\n",
        "import collections \n",
        "\n",
        "\n",
        "company_number = int(input('Введите данные о количестве предприятий: '))\n",
        "\n",
        "company = collections.namedtuple('company', ['name', 'profit_1', 'profit_2', 'profit_3', 'profit_4', 'all'])\n",
        "company_name = []\n",
        "total = 0\n",
        "\n",
        "for i in range(company_number):\n",
        "  name = input(f'Название {i+1} предприятия: ')\n",
        "  profit_1 = int(input('Прибыль 1го квартала: '))\n",
        "  profit_2 = int(input('Прибыль 2го квартала: '))\n",
        "  profit_3 = int(input('Прибыль 3го квартала: '))\n",
        "  profit_4 = int(input('Прибыль 4го квартала: '))\n",
        "  all = profit_1 + profit_2 + profit_3 + profit_4\n",
        "  total =+ all\n",
        "  company_name.append(company(name=name, profit_1=profit_1, profit_2=profit_2, profit_3= profit_3, profit_4=profit_4, all = all))\n",
        "\n",
        "avg_total = total/company_number\n",
        "\n",
        "print(f\"Предприятия, чья прибыль ниже средней {avg_total}: \")\n",
        "for company in company_name:\n",
        "    if company.all <  avg_total:\n",
        "        print(company.name)\n",
        "print(f\"Предприятия, чья прибыль выше средней {avg_total}: \")\n",
        "for company in company_name:\n",
        "    if company.all >= avg_total:\n",
        "        print(company.name)\n",
        "\n",
        "\n"
      ],
      "metadata": {
        "id": "9BZMHPjPgrYf",
        "colab": {
          "base_uri": "https://localhost:8080/"
        },
        "outputId": "c7ff301f-594d-4923-a464-604abe26a07f"
      },
      "execution_count": null,
      "outputs": [
        {
          "output_type": "stream",
          "name": "stdout",
          "text": [
            "Введите данные о количестве предприятий: 2\n",
            "Название 1 предприятия: ф\n",
            "Прибыль 1го квартала: 12\n",
            "Прибыль 2го квартала: 13\n",
            "Прибыль 3го квартала: 14\n",
            "Прибыль 4го квартала: 15\n",
            "Название 2 предприятия: 21\n",
            "Прибыль 1го квартала: 31\n",
            "Прибыль 2го квартала: 41\n",
            "Прибыль 3го квартала: 51\n",
            "Прибыль 4го квартала: 34\n",
            "Предприятия, чья прибыль выше средней 78.5: \n",
            "21\n",
            "Предприятия, чья прибыль неже средней 78.5: \n",
            "ф\n"
          ]
        }
      ]
    }
  ],
  "metadata": {
    "colab": {
      "name": "Untitled29.ipynb",
      "provenance": [],
      "authorship_tag": "ABX9TyPLPbiVmiyCAbpBel91GCB1",
      "include_colab_link": true
    },
    "kernelspec": {
      "display_name": "Python 3",
      "name": "python3"
    },
    "language_info": {
      "name": "python"
    }
  },
  "nbformat": 4,
  "nbformat_minor": 0
}