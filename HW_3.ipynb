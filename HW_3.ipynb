{
  "cells": [
    {
      "cell_type": "markdown",
      "metadata": {
        "id": "view-in-github",
        "colab_type": "text"
      },
      "source": [
        "<a href=\"https://colab.research.google.com/github/geekevgin/-Python/blob/main/HW_3.ipynb\" target=\"_parent\"><img src=\"https://colab.research.google.com/assets/colab-badge.svg\" alt=\"Open In Colab\"/></a>"
      ]
    },
    {
      "cell_type": "code",
      "execution_count": 62,
      "metadata": {
        "colab": {
          "base_uri": "https://localhost:8080/"
        },
        "id": "IYbG4TH2_mnA",
        "outputId": "7bbb1d0c-4b3d-4d74-9c6f-3196208b6366"
      },
      "outputs": [
        {
          "output_type": "stream",
          "name": "stdout",
          "text": [
            "Requirement already satisfied: ucimlrepo in /usr/local/lib/python3.10/dist-packages (0.0.7)\n",
            "Requirement already satisfied: pandas>=1.0.0 in /usr/local/lib/python3.10/dist-packages (from ucimlrepo) (2.0.3)\n",
            "Requirement already satisfied: certifi>=2020.12.5 in /usr/local/lib/python3.10/dist-packages (from ucimlrepo) (2024.6.2)\n",
            "Requirement already satisfied: python-dateutil>=2.8.2 in /usr/local/lib/python3.10/dist-packages (from pandas>=1.0.0->ucimlrepo) (2.8.2)\n",
            "Requirement already satisfied: pytz>=2020.1 in /usr/local/lib/python3.10/dist-packages (from pandas>=1.0.0->ucimlrepo) (2023.4)\n",
            "Requirement already satisfied: tzdata>=2022.1 in /usr/local/lib/python3.10/dist-packages (from pandas>=1.0.0->ucimlrepo) (2024.1)\n",
            "Requirement already satisfied: numpy>=1.21.0 in /usr/local/lib/python3.10/dist-packages (from pandas>=1.0.0->ucimlrepo) (1.25.2)\n",
            "Requirement already satisfied: six>=1.5 in /usr/local/lib/python3.10/dist-packages (from python-dateutil>=2.8.2->pandas>=1.0.0->ucimlrepo) (1.16.0)\n"
          ]
        }
      ],
      "source": [
        "!pip install ucimlrepo"
      ]
    },
    {
      "cell_type": "code",
      "execution_count": 63,
      "metadata": {
        "colab": {
          "base_uri": "https://localhost:8080/"
        },
        "id": "TJ6orL4WAF9t",
        "outputId": "4633c01d-88d5-41ea-c3c0-2fdf31687654"
      },
      "outputs": [
        {
          "output_type": "stream",
          "name": "stdout",
          "text": [
            "{'uci_id': 938, 'name': 'Regensburg Pediatric Appendicitis', 'repository_url': 'https://archive.ics.uci.edu/dataset/938/regensburg+pediatric+appendicitis', 'data_url': 'https://archive.ics.uci.edu/static/public/938/data.csv', 'abstract': 'This repository holds the data from a cohort of pediatric patients with suspected appendicitis admitted with abdominal pain to Children’s Hospital St. Hedwig in Regensburg, Germany, between 2016 and 2021. Each patient has (potentially multiple) ultrasound (US) images, aka views, tabular data comprising laboratory, physical examination, scoring results and ultrasonographic findings extracted manually by the experts, and three target variables, namely, diagnosis, management and severity.', 'area': 'Health and Medicine', 'tasks': ['Classification'], 'characteristics': ['Tabular', 'Image'], 'num_instances': 782, 'num_features': 53, 'feature_types': ['Real', 'Categorical', 'Integer'], 'demographics': ['Age', 'Sex'], 'target_col': ['Management', 'Severity', 'Diagnosis'], 'index_col': None, 'has_missing_values': 'yes', 'missing_values_symbol': 'NaN', 'year_of_dataset_creation': 2023, 'last_updated': 'Tue Feb 06 2024', 'dataset_doi': '10.5281/zenodo.7669442', 'creators': ['Ricards Marcinkevics', 'Patricia Reis', 'Ugne Klimiene', 'Ece Ozkan', 'Kieran Chin-Cheong', 'Alyssia Paschke', 'Julia Zerres', 'Markus Denzinger', 'David Niederberger', 'S. Wellmann', 'C. Knorr', 'Julia E.'], 'intro_paper': {'title': 'Interpretable and Intervenable Ultrasonography-based Machine Learning Models for Pediatric Appendicitis', 'authors': 'Ricards Marcinkevics, Patricia Reis Wolfertstetter, Ugne Klimiene, Ece Ozkan, Kieran Chin-Cheong, Alyssia Paschke, Julia Zerres, Markus Denzinger, David Niederberger, S. Wellmann, C. Knorr, Julia E. Vogt', 'published_in': 'Medical Image Analysis', 'year': 2023, 'url': 'https://arxiv.org/abs/2302.14460v2', 'doi': None}, 'additional_info': {'summary': 'This dataset was acquired in a retrospective study from a cohort of pediatric patients admitted with abdominal pain to Children’s Hospital St. Hedwig in Regensburg, Germany. Multiple abdominal B-mode ultrasound images were acquired for most patients, with the number of views varying from 1 to 15. The images depict various regions of interest, such as the abdomen’s right lower quadrant, appendix, intestines, lymph nodes and reproductive organs. Alongside multiple US images for each subject, the dataset includes information encompassing laboratory tests, physical examination results, clinical scores, such as Alvarado and pediatric appendicitis scores, and expert-produced ultrasonographic findings. Lastly, the subjects were labeled w.r.t. three target variables: diagnosis (appendicitis vs. no appendicitis), management (surgical vs. conservative) and severity (complicated vs. uncomplicated or no appendicitis). The study was approved by the Ethics Committee of the University of Regensburg (no. 18-1063-101, 18-1063_1-101 and 18-1063_2-101) and was performed following applicable guidelines and regulations.', 'purpose': None, 'funded_by': None, 'instances_represent': None, 'recommended_data_splits': None, 'sensitive_data': None, 'preprocessing_description': None, 'variable_info': None, 'citation': None}, 'external_url': 'https://zenodo.org/records/7669442'}\n",
            "                                name     role         type demographic  \\\n",
            "0                                Age  Feature   Continuous         Age   \n",
            "1                                BMI  Feature   Continuous        None   \n",
            "2                                Sex  Feature  Categorical         Sex   \n",
            "3                             Height  Feature   Continuous        None   \n",
            "4                             Weight  Feature      Integer        None   \n",
            "5                     Length_of_Stay  Feature      Integer        None   \n",
            "6                         Management   Target  Categorical        None   \n",
            "7                           Severity   Target  Categorical        None   \n",
            "8              Diagnosis_Presumptive    Other       Binary        None   \n",
            "9                          Diagnosis   Target       Binary        None   \n",
            "10                    Alvarado_Score  Feature      Integer        None   \n",
            "11     Paedriatic_Appendicitis_Score  Feature      Integer        None   \n",
            "12                    Appendix_on_US  Feature       Binary        None   \n",
            "13                 Appendix_Diameter  Feature      Integer        None   \n",
            "14                    Migratory_Pain  Feature       Binary        None   \n",
            "15              Lower_Right_Abd_Pain  Feature       Binary        None   \n",
            "16  Contralateral_Rebound_Tenderness  Feature       Binary        None   \n",
            "17                     Coughing_Pain  Feature       Binary        None   \n",
            "18                            Nausea  Feature       Binary        None   \n",
            "19                  Loss_of_Appetite  Feature       Binary        None   \n",
            "20                  Body_Temperature  Feature   Continuous        None   \n",
            "21                         WBC_Count  Feature   Continuous        None   \n",
            "22             Neutrophil_Percentage  Feature      Integer        None   \n",
            "23             Segmented_Neutrophils  Feature      Integer        None   \n",
            "24                      Neutrophilia  Feature  Categorical        None   \n",
            "25                         RBC_Count  Feature   Continuous        None   \n",
            "26                        Hemoglobin  Feature   Continuous        None   \n",
            "27                               RDW  Feature   Continuous        None   \n",
            "28                 Thrombocyte_Count  Feature      Integer        None   \n",
            "29                  Ketones_in_Urine  Feature  Categorical        None   \n",
            "30                      RBC_in_Urine  Feature  Categorical        None   \n",
            "31                      WBC_in_Urine  Feature  Categorical        None   \n",
            "32                               CRP  Feature      Integer        None   \n",
            "33                           Dysuria  Feature       Binary        None   \n",
            "34                             Stool  Feature  Categorical        None   \n",
            "35                       Peritonitis  Feature  Categorical        None   \n",
            "36                        Psoas_Sign  Feature  Categorical        None   \n",
            "37    Ipsilateral_Rebound_Tenderness  Feature  Categorical        None   \n",
            "38                      US_Performed  Feature  Categorical        None   \n",
            "39                         US_Number    Other      Integer        None   \n",
            "40                       Free_Fluids  Feature  Categorical        None   \n",
            "41              Appendix_Wall_Layers  Feature  Categorical        None   \n",
            "42                       Target_Sign  Feature  Categorical        None   \n",
            "43                     Appendicolith  Feature  Categorical        None   \n",
            "44                         Perfusion  Feature  Categorical        None   \n",
            "45                       Perforation  Feature  Categorical        None   \n",
            "46       Surrounding_Tissue_Reaction  Feature  Categorical        None   \n",
            "47              Appendicular_Abscess  Feature  Categorical        None   \n",
            "48                  Abscess_Location  Feature  Categorical        None   \n",
            "49          Pathological_Lymph_Nodes  Feature       Binary        None   \n",
            "50              Lymph_Nodes_Location  Feature  Categorical        None   \n",
            "51             Bowel_Wall_Thickening  Feature       Binary        None   \n",
            "52       Conglomerate_of_Bowel_Loops  Feature       Binary        None   \n",
            "53                             Ileus  Feature  Categorical        None   \n",
            "54                       Coprostasis  Feature  Categorical        None   \n",
            "55                         Meteorism  Feature  Categorical        None   \n",
            "56                         Enteritis  Feature  Categorical        None   \n",
            "57            Gynecological_Findings  Feature  Categorical        None   \n",
            "\n",
            "                                          description  units missing_values  \n",
            "0                     Obtained from the date of birth  years            yes  \n",
            "1   Measures body fat; patient's weight divided by...   None            yes  \n",
            "2                                   Registered gender   None            yes  \n",
            "3                                    Patient's height   None            yes  \n",
            "4                                    Patient's weight   None            yes  \n",
            "5                  Length of the stay in the hospital   None            yes  \n",
            "6   (conservative, primary surgical, secondary sur...   None            yes  \n",
            "7   (uncomplicated, complicated) Severity of appen...   None            yes  \n",
            "8                       Patient's suspected diagnosis   None            yes  \n",
            "9   Patient's diagnosis, histologically confirmed ...   None            yes  \n",
            "10    Patient's score according to the scoring system   None            yes  \n",
            "11    Patient's score according to the scoring system   None            yes  \n",
            "12  Detectability of the vermiform appendix during...   None            yes  \n",
            "13             Maximal outer diameter of the appendix   None            yes  \n",
            "14  Abdominal pain; usually starts in epigastrium ...   None            yes  \n",
            "15       Right iliac fossa pain detected on palpation   None            yes  \n",
            "16  A state in which pain of the contralateral sid...   None            yes  \n",
            "17                     Abdominal pain by forced cough   None            yes  \n",
            "18  Feeling of sickness/ejection of contents from ...   None            yes  \n",
            "19                                               None   None            yes  \n",
            "20  Measured by a thermometer placed in the rectum...   None            yes  \n",
            "21  The number of leucocytes in a unit volume of b...   None            yes  \n",
            "22              Mature WBC in the granulocytic series   None            yes  \n",
            "23  Most mature neutrophilic granulocytes present ...   None            yes  \n",
            "24  Relative neutrophilic leucocytosis, often a re...   None            yes  \n",
            "25  The number of erythrocytes in a unit volume of...   None            yes  \n",
            "26  Hemoglobin level; a red protein in the red blo...   None            yes  \n",
            "27  A blood test that measures the differences in ...   None            yes  \n",
            "28  The number of platelets in a unit volume of blood   None            yes  \n",
            "29  Presence of ketone bodies in urine, e.g. in ca...   None            yes  \n",
            "30                                     Blood in urine   None            yes  \n",
            "31    Leucocytes in urine, e.g., in case of infection   None            yes  \n",
            "32  Protein produced by the liver, elevated in cas...   None            yes  \n",
            "33          Pain or other difficulty during urination   None            yes  \n",
            "34                 Characteristics of bowel movements   None            yes  \n",
            "35  Spasm of abdominal wall muscles detected on pa...   None            yes  \n",
            "36    Abdominal pain produced by extension of the hip   None            yes  \n",
            "37  A state in which pain of the ipsilateral side ...   None            yes  \n",
            "38  If an abdominal ultrasonography was performed ...   None            yes  \n",
            "39                                               None   None            yes  \n",
            "40                     Free fluids inside the abdomen   None            yes  \n",
            "41  Distribution and characteristics of appendix l...   None            yes  \n",
            "42  Axial image of appendix with a fluid-filled ce...   None            yes  \n",
            "43  Presence of fecalith in the appendix, e.g. aco...   None            yes  \n",
            "44                    Blood flow to the appendix wall   None            yes  \n",
            "45                Signs of appendix perforation in US   None            yes  \n",
            "46  Inflammation signs in tissue (i.a. in omentum/...   None            yes  \n",
            "47                                   Appendiceal mass   None            yes  \n",
            "48             Location of the abcess intraperitoneal   None            yes  \n",
            "49  Enlarged and inflamed intra-abdominal lymph nodes   None            yes  \n",
            "50  The location of pathological lymph nodes in th...   None            yes  \n",
            "51  Edema of the intestinal wall, > 2-3 mm for sma...   None            yes  \n",
            "52  Small intestine conglomerate as sign of intrap...   None            yes  \n",
            "53  Sonographic signs of paralytic ileus (e.g., di...   None            yes  \n",
            "54                       Fecal impaction in the colon   None            yes  \n",
            "55               Accumulation of gas in the intestine   None            yes  \n",
            "56  Sonographic features of gastroenteritis, e.g. ...   None            yes  \n",
            "57  Gynaecological abnormalities, e.g. cysts, ovar...   None            yes  \n"
          ]
        }
      ],
      "source": [
        "from ucimlrepo import fetch_ucirepo\n",
        "\n",
        "# fetch dataset\n",
        "regensburg_pediatric_appendicitis = fetch_ucirepo(id=938)\n",
        "\n",
        "# data (as pandas dataframes)\n",
        "X = regensburg_pediatric_appendicitis.data.features\n",
        "y = regensburg_pediatric_appendicitis.data.targets\n",
        "\n",
        "# metadata\n",
        "print(regensburg_pediatric_appendicitis.metadata)\n",
        "\n",
        "# variable information\n",
        "print(regensburg_pediatric_appendicitis.variables)\n"
      ]
    },
    {
      "cell_type": "markdown",
      "metadata": {
        "id": "L71leILgBdvx"
      },
      "source": [
        "Острый аппендицит - воспаление червеобразного отростки слепой кишки. Острый аппендицит одно из наиболее частых неотложных хирургических заболеваний органов брюшной полости.\n",
        "\n",
        "Классификация:\n",
        "-катаральный\n",
        "-флегмонозный\n",
        "-эмпиема\n",
        "-гангренозный\n",
        "\n",
        "Осложнения острого аппендицита:\n",
        "- перфорация\n",
        "- инфильтрат\n",
        "- абцесс\n",
        "- перитонит\n",
        "- флегмона\n",
        "\n",
        "Диагностика:\n",
        "- Болезненность при пальпации в правой подвздошной области\n",
        "- Защитное мышечнге напряжение(доскообразный живот)\n",
        "- Симтом Щеткина\n",
        "- УЗИ\n",
        "- пальцевое ректальное исследование\n",
        "- лейкоцитоз\n",
        "\n"
      ]
    },
    {
      "cell_type": "markdown",
      "metadata": {
        "id": "TSFabr5KDldu"
      },
      "source": [
        "В датасете есть много пустых значений касаемо осложнений, возможно в плане диагностики острого аппендицита при поступлении они не имеют значения, а больше подходчт для других двух признаков типа лечения и классификации осложнений.  \n",
        "Этих данных так же мало по этой причине, что они соответствуют осложнениям и до этой стадии доходят редко, к счастью. Еще думаю это обусловлено тем, что в датасете дети, у которых более сильная иммуная система.\n",
        "\n",
        "Поэтому у меня возник вопрос, что делать с этими пропусками в осложениях. Какую именно диагностическую ценность они имееют в плане классификации болен/не болен."
      ]
    },
    {
      "cell_type": "code",
      "execution_count": 64,
      "metadata": {
        "id": "jTYNB-9ODa9o"
      },
      "outputs": [],
      "source": [
        "import pandas as pd\n",
        "import numpy as np\n",
        "import matplotlib.pyplot as plt\n",
        "import seaborn as sns\n",
        "from statistics import median\n",
        "from sklearn.preprocessing import LabelEncoder, StandardScaler\n",
        "from sklearn.model_selection import train_test_split\n",
        "from sklearn.metrics import accuracy_score, f1_score, precision_score\n",
        "from sklearn.ensemble import  RandomForestClassifier\n",
        "from sklearn.neural_network import MLPClassifier\n",
        "from sklearn.tree import DecisionTreeClassifier\n"
      ]
    },
    {
      "cell_type": "markdown",
      "metadata": {
        "id": "eZp5pfuSFjR_"
      },
      "source": [
        "EDA"
      ]
    },
    {
      "cell_type": "code",
      "execution_count": 65,
      "metadata": {
        "colab": {
          "base_uri": "https://localhost:8080/",
          "height": 255
        },
        "id": "_7YSmzAQFa7v",
        "outputId": "7eff95fb-e351-4b6c-cfe9-a388737b1b9f"
      },
      "outputs": [
        {
          "output_type": "execute_result",
          "data": {
            "text/plain": [
              "     Age   BMI     Sex  Height  Weight  Length_of_Stay  Alvarado_Score  \\\n",
              "0  12.68  16.9  female   148.0    37.0             3.0             4.0   \n",
              "1  14.10  31.9    male   147.0    69.5             2.0             5.0   \n",
              "2  14.14  23.3  female   163.0    62.0             4.0             5.0   \n",
              "3  16.37  20.6  female   165.0    56.0             3.0             7.0   \n",
              "4  11.08  16.9  female   163.0    45.0             3.0             5.0   \n",
              "\n",
              "   Paedriatic_Appendicitis_Score Appendix_on_US  Appendix_Diameter  ...  \\\n",
              "0                            3.0            yes                7.1  ...   \n",
              "1                            4.0             no                NaN  ...   \n",
              "2                            3.0             no                NaN  ...   \n",
              "3                            6.0             no                NaN  ...   \n",
              "4                            6.0            yes                7.0  ...   \n",
              "\n",
              "  Abscess_Location Pathological_Lymph_Nodes Lymph_Nodes_Location  \\\n",
              "0              NaN                      yes                 reUB   \n",
              "1              NaN                      NaN                  NaN   \n",
              "2              NaN                      NaN                  NaN   \n",
              "3              NaN                      yes                 reUB   \n",
              "4              NaN                      yes                 reUB   \n",
              "\n",
              "  Bowel_Wall_Thickening Conglomerate_of_Bowel_Loops Ileus  Coprostasis  \\\n",
              "0                   NaN                         NaN   NaN          NaN   \n",
              "1                   NaN                         NaN   NaN          NaN   \n",
              "2                   NaN                         NaN   NaN          NaN   \n",
              "3                   NaN                         NaN   NaN          NaN   \n",
              "4                   NaN                         NaN   NaN          NaN   \n",
              "\n",
              "   Meteorism  Enteritis  Gynecological_Findings  \n",
              "0        NaN        NaN                     NaN  \n",
              "1        yes        NaN                     NaN  \n",
              "2        yes        yes                     NaN  \n",
              "3        NaN        yes                     NaN  \n",
              "4        NaN        yes                     NaN  \n",
              "\n",
              "[5 rows x 53 columns]"
            ],
            "text/html": [
              "\n",
              "  <div id=\"df-0e2ad0ca-e2b8-4178-bf97-7498e814ef9b\" class=\"colab-df-container\">\n",
              "    <div>\n",
              "<style scoped>\n",
              "    .dataframe tbody tr th:only-of-type {\n",
              "        vertical-align: middle;\n",
              "    }\n",
              "\n",
              "    .dataframe tbody tr th {\n",
              "        vertical-align: top;\n",
              "    }\n",
              "\n",
              "    .dataframe thead th {\n",
              "        text-align: right;\n",
              "    }\n",
              "</style>\n",
              "<table border=\"1\" class=\"dataframe\">\n",
              "  <thead>\n",
              "    <tr style=\"text-align: right;\">\n",
              "      <th></th>\n",
              "      <th>Age</th>\n",
              "      <th>BMI</th>\n",
              "      <th>Sex</th>\n",
              "      <th>Height</th>\n",
              "      <th>Weight</th>\n",
              "      <th>Length_of_Stay</th>\n",
              "      <th>Alvarado_Score</th>\n",
              "      <th>Paedriatic_Appendicitis_Score</th>\n",
              "      <th>Appendix_on_US</th>\n",
              "      <th>Appendix_Diameter</th>\n",
              "      <th>...</th>\n",
              "      <th>Abscess_Location</th>\n",
              "      <th>Pathological_Lymph_Nodes</th>\n",
              "      <th>Lymph_Nodes_Location</th>\n",
              "      <th>Bowel_Wall_Thickening</th>\n",
              "      <th>Conglomerate_of_Bowel_Loops</th>\n",
              "      <th>Ileus</th>\n",
              "      <th>Coprostasis</th>\n",
              "      <th>Meteorism</th>\n",
              "      <th>Enteritis</th>\n",
              "      <th>Gynecological_Findings</th>\n",
              "    </tr>\n",
              "  </thead>\n",
              "  <tbody>\n",
              "    <tr>\n",
              "      <th>0</th>\n",
              "      <td>12.68</td>\n",
              "      <td>16.9</td>\n",
              "      <td>female</td>\n",
              "      <td>148.0</td>\n",
              "      <td>37.0</td>\n",
              "      <td>3.0</td>\n",
              "      <td>4.0</td>\n",
              "      <td>3.0</td>\n",
              "      <td>yes</td>\n",
              "      <td>7.1</td>\n",
              "      <td>...</td>\n",
              "      <td>NaN</td>\n",
              "      <td>yes</td>\n",
              "      <td>reUB</td>\n",
              "      <td>NaN</td>\n",
              "      <td>NaN</td>\n",
              "      <td>NaN</td>\n",
              "      <td>NaN</td>\n",
              "      <td>NaN</td>\n",
              "      <td>NaN</td>\n",
              "      <td>NaN</td>\n",
              "    </tr>\n",
              "    <tr>\n",
              "      <th>1</th>\n",
              "      <td>14.10</td>\n",
              "      <td>31.9</td>\n",
              "      <td>male</td>\n",
              "      <td>147.0</td>\n",
              "      <td>69.5</td>\n",
              "      <td>2.0</td>\n",
              "      <td>5.0</td>\n",
              "      <td>4.0</td>\n",
              "      <td>no</td>\n",
              "      <td>NaN</td>\n",
              "      <td>...</td>\n",
              "      <td>NaN</td>\n",
              "      <td>NaN</td>\n",
              "      <td>NaN</td>\n",
              "      <td>NaN</td>\n",
              "      <td>NaN</td>\n",
              "      <td>NaN</td>\n",
              "      <td>NaN</td>\n",
              "      <td>yes</td>\n",
              "      <td>NaN</td>\n",
              "      <td>NaN</td>\n",
              "    </tr>\n",
              "    <tr>\n",
              "      <th>2</th>\n",
              "      <td>14.14</td>\n",
              "      <td>23.3</td>\n",
              "      <td>female</td>\n",
              "      <td>163.0</td>\n",
              "      <td>62.0</td>\n",
              "      <td>4.0</td>\n",
              "      <td>5.0</td>\n",
              "      <td>3.0</td>\n",
              "      <td>no</td>\n",
              "      <td>NaN</td>\n",
              "      <td>...</td>\n",
              "      <td>NaN</td>\n",
              "      <td>NaN</td>\n",
              "      <td>NaN</td>\n",
              "      <td>NaN</td>\n",
              "      <td>NaN</td>\n",
              "      <td>NaN</td>\n",
              "      <td>NaN</td>\n",
              "      <td>yes</td>\n",
              "      <td>yes</td>\n",
              "      <td>NaN</td>\n",
              "    </tr>\n",
              "    <tr>\n",
              "      <th>3</th>\n",
              "      <td>16.37</td>\n",
              "      <td>20.6</td>\n",
              "      <td>female</td>\n",
              "      <td>165.0</td>\n",
              "      <td>56.0</td>\n",
              "      <td>3.0</td>\n",
              "      <td>7.0</td>\n",
              "      <td>6.0</td>\n",
              "      <td>no</td>\n",
              "      <td>NaN</td>\n",
              "      <td>...</td>\n",
              "      <td>NaN</td>\n",
              "      <td>yes</td>\n",
              "      <td>reUB</td>\n",
              "      <td>NaN</td>\n",
              "      <td>NaN</td>\n",
              "      <td>NaN</td>\n",
              "      <td>NaN</td>\n",
              "      <td>NaN</td>\n",
              "      <td>yes</td>\n",
              "      <td>NaN</td>\n",
              "    </tr>\n",
              "    <tr>\n",
              "      <th>4</th>\n",
              "      <td>11.08</td>\n",
              "      <td>16.9</td>\n",
              "      <td>female</td>\n",
              "      <td>163.0</td>\n",
              "      <td>45.0</td>\n",
              "      <td>3.0</td>\n",
              "      <td>5.0</td>\n",
              "      <td>6.0</td>\n",
              "      <td>yes</td>\n",
              "      <td>7.0</td>\n",
              "      <td>...</td>\n",
              "      <td>NaN</td>\n",
              "      <td>yes</td>\n",
              "      <td>reUB</td>\n",
              "      <td>NaN</td>\n",
              "      <td>NaN</td>\n",
              "      <td>NaN</td>\n",
              "      <td>NaN</td>\n",
              "      <td>NaN</td>\n",
              "      <td>yes</td>\n",
              "      <td>NaN</td>\n",
              "    </tr>\n",
              "  </tbody>\n",
              "</table>\n",
              "<p>5 rows × 53 columns</p>\n",
              "</div>\n",
              "    <div class=\"colab-df-buttons\">\n",
              "\n",
              "  <div class=\"colab-df-container\">\n",
              "    <button class=\"colab-df-convert\" onclick=\"convertToInteractive('df-0e2ad0ca-e2b8-4178-bf97-7498e814ef9b')\"\n",
              "            title=\"Convert this dataframe to an interactive table.\"\n",
              "            style=\"display:none;\">\n",
              "\n",
              "  <svg xmlns=\"http://www.w3.org/2000/svg\" height=\"24px\" viewBox=\"0 -960 960 960\">\n",
              "    <path d=\"M120-120v-720h720v720H120Zm60-500h600v-160H180v160Zm220 220h160v-160H400v160Zm0 220h160v-160H400v160ZM180-400h160v-160H180v160Zm440 0h160v-160H620v160ZM180-180h160v-160H180v160Zm440 0h160v-160H620v160Z\"/>\n",
              "  </svg>\n",
              "    </button>\n",
              "\n",
              "  <style>\n",
              "    .colab-df-container {\n",
              "      display:flex;\n",
              "      gap: 12px;\n",
              "    }\n",
              "\n",
              "    .colab-df-convert {\n",
              "      background-color: #E8F0FE;\n",
              "      border: none;\n",
              "      border-radius: 50%;\n",
              "      cursor: pointer;\n",
              "      display: none;\n",
              "      fill: #1967D2;\n",
              "      height: 32px;\n",
              "      padding: 0 0 0 0;\n",
              "      width: 32px;\n",
              "    }\n",
              "\n",
              "    .colab-df-convert:hover {\n",
              "      background-color: #E2EBFA;\n",
              "      box-shadow: 0px 1px 2px rgba(60, 64, 67, 0.3), 0px 1px 3px 1px rgba(60, 64, 67, 0.15);\n",
              "      fill: #174EA6;\n",
              "    }\n",
              "\n",
              "    .colab-df-buttons div {\n",
              "      margin-bottom: 4px;\n",
              "    }\n",
              "\n",
              "    [theme=dark] .colab-df-convert {\n",
              "      background-color: #3B4455;\n",
              "      fill: #D2E3FC;\n",
              "    }\n",
              "\n",
              "    [theme=dark] .colab-df-convert:hover {\n",
              "      background-color: #434B5C;\n",
              "      box-shadow: 0px 1px 3px 1px rgba(0, 0, 0, 0.15);\n",
              "      filter: drop-shadow(0px 1px 2px rgba(0, 0, 0, 0.3));\n",
              "      fill: #FFFFFF;\n",
              "    }\n",
              "  </style>\n",
              "\n",
              "    <script>\n",
              "      const buttonEl =\n",
              "        document.querySelector('#df-0e2ad0ca-e2b8-4178-bf97-7498e814ef9b button.colab-df-convert');\n",
              "      buttonEl.style.display =\n",
              "        google.colab.kernel.accessAllowed ? 'block' : 'none';\n",
              "\n",
              "      async function convertToInteractive(key) {\n",
              "        const element = document.querySelector('#df-0e2ad0ca-e2b8-4178-bf97-7498e814ef9b');\n",
              "        const dataTable =\n",
              "          await google.colab.kernel.invokeFunction('convertToInteractive',\n",
              "                                                    [key], {});\n",
              "        if (!dataTable) return;\n",
              "\n",
              "        const docLinkHtml = 'Like what you see? Visit the ' +\n",
              "          '<a target=\"_blank\" href=https://colab.research.google.com/notebooks/data_table.ipynb>data table notebook</a>'\n",
              "          + ' to learn more about interactive tables.';\n",
              "        element.innerHTML = '';\n",
              "        dataTable['output_type'] = 'display_data';\n",
              "        await google.colab.output.renderOutput(dataTable, element);\n",
              "        const docLink = document.createElement('div');\n",
              "        docLink.innerHTML = docLinkHtml;\n",
              "        element.appendChild(docLink);\n",
              "      }\n",
              "    </script>\n",
              "  </div>\n",
              "\n",
              "\n",
              "<div id=\"df-cebd5492-b56f-43da-a485-23dcf64866b2\">\n",
              "  <button class=\"colab-df-quickchart\" onclick=\"quickchart('df-cebd5492-b56f-43da-a485-23dcf64866b2')\"\n",
              "            title=\"Suggest charts\"\n",
              "            style=\"display:none;\">\n",
              "\n",
              "<svg xmlns=\"http://www.w3.org/2000/svg\" height=\"24px\"viewBox=\"0 0 24 24\"\n",
              "     width=\"24px\">\n",
              "    <g>\n",
              "        <path d=\"M19 3H5c-1.1 0-2 .9-2 2v14c0 1.1.9 2 2 2h14c1.1 0 2-.9 2-2V5c0-1.1-.9-2-2-2zM9 17H7v-7h2v7zm4 0h-2V7h2v10zm4 0h-2v-4h2v4z\"/>\n",
              "    </g>\n",
              "</svg>\n",
              "  </button>\n",
              "\n",
              "<style>\n",
              "  .colab-df-quickchart {\n",
              "      --bg-color: #E8F0FE;\n",
              "      --fill-color: #1967D2;\n",
              "      --hover-bg-color: #E2EBFA;\n",
              "      --hover-fill-color: #174EA6;\n",
              "      --disabled-fill-color: #AAA;\n",
              "      --disabled-bg-color: #DDD;\n",
              "  }\n",
              "\n",
              "  [theme=dark] .colab-df-quickchart {\n",
              "      --bg-color: #3B4455;\n",
              "      --fill-color: #D2E3FC;\n",
              "      --hover-bg-color: #434B5C;\n",
              "      --hover-fill-color: #FFFFFF;\n",
              "      --disabled-bg-color: #3B4455;\n",
              "      --disabled-fill-color: #666;\n",
              "  }\n",
              "\n",
              "  .colab-df-quickchart {\n",
              "    background-color: var(--bg-color);\n",
              "    border: none;\n",
              "    border-radius: 50%;\n",
              "    cursor: pointer;\n",
              "    display: none;\n",
              "    fill: var(--fill-color);\n",
              "    height: 32px;\n",
              "    padding: 0;\n",
              "    width: 32px;\n",
              "  }\n",
              "\n",
              "  .colab-df-quickchart:hover {\n",
              "    background-color: var(--hover-bg-color);\n",
              "    box-shadow: 0 1px 2px rgba(60, 64, 67, 0.3), 0 1px 3px 1px rgba(60, 64, 67, 0.15);\n",
              "    fill: var(--button-hover-fill-color);\n",
              "  }\n",
              "\n",
              "  .colab-df-quickchart-complete:disabled,\n",
              "  .colab-df-quickchart-complete:disabled:hover {\n",
              "    background-color: var(--disabled-bg-color);\n",
              "    fill: var(--disabled-fill-color);\n",
              "    box-shadow: none;\n",
              "  }\n",
              "\n",
              "  .colab-df-spinner {\n",
              "    border: 2px solid var(--fill-color);\n",
              "    border-color: transparent;\n",
              "    border-bottom-color: var(--fill-color);\n",
              "    animation:\n",
              "      spin 1s steps(1) infinite;\n",
              "  }\n",
              "\n",
              "  @keyframes spin {\n",
              "    0% {\n",
              "      border-color: transparent;\n",
              "      border-bottom-color: var(--fill-color);\n",
              "      border-left-color: var(--fill-color);\n",
              "    }\n",
              "    20% {\n",
              "      border-color: transparent;\n",
              "      border-left-color: var(--fill-color);\n",
              "      border-top-color: var(--fill-color);\n",
              "    }\n",
              "    30% {\n",
              "      border-color: transparent;\n",
              "      border-left-color: var(--fill-color);\n",
              "      border-top-color: var(--fill-color);\n",
              "      border-right-color: var(--fill-color);\n",
              "    }\n",
              "    40% {\n",
              "      border-color: transparent;\n",
              "      border-right-color: var(--fill-color);\n",
              "      border-top-color: var(--fill-color);\n",
              "    }\n",
              "    60% {\n",
              "      border-color: transparent;\n",
              "      border-right-color: var(--fill-color);\n",
              "    }\n",
              "    80% {\n",
              "      border-color: transparent;\n",
              "      border-right-color: var(--fill-color);\n",
              "      border-bottom-color: var(--fill-color);\n",
              "    }\n",
              "    90% {\n",
              "      border-color: transparent;\n",
              "      border-bottom-color: var(--fill-color);\n",
              "    }\n",
              "  }\n",
              "</style>\n",
              "\n",
              "  <script>\n",
              "    async function quickchart(key) {\n",
              "      const quickchartButtonEl =\n",
              "        document.querySelector('#' + key + ' button');\n",
              "      quickchartButtonEl.disabled = true;  // To prevent multiple clicks.\n",
              "      quickchartButtonEl.classList.add('colab-df-spinner');\n",
              "      try {\n",
              "        const charts = await google.colab.kernel.invokeFunction(\n",
              "            'suggestCharts', [key], {});\n",
              "      } catch (error) {\n",
              "        console.error('Error during call to suggestCharts:', error);\n",
              "      }\n",
              "      quickchartButtonEl.classList.remove('colab-df-spinner');\n",
              "      quickchartButtonEl.classList.add('colab-df-quickchart-complete');\n",
              "    }\n",
              "    (() => {\n",
              "      let quickchartButtonEl =\n",
              "        document.querySelector('#df-cebd5492-b56f-43da-a485-23dcf64866b2 button');\n",
              "      quickchartButtonEl.style.display =\n",
              "        google.colab.kernel.accessAllowed ? 'block' : 'none';\n",
              "    })();\n",
              "  </script>\n",
              "</div>\n",
              "    </div>\n",
              "  </div>\n"
            ],
            "application/vnd.google.colaboratory.intrinsic+json": {
              "type": "dataframe",
              "variable_name": "X"
            }
          },
          "metadata": {},
          "execution_count": 65
        }
      ],
      "source": [
        "X.head()"
      ]
    },
    {
      "cell_type": "code",
      "execution_count": 66,
      "metadata": {
        "colab": {
          "base_uri": "https://localhost:8080/"
        },
        "id": "9GKdOnFaF_To",
        "outputId": "a7375bc1-6ba4-4570-eccf-9757deec694a"
      },
      "outputs": [
        {
          "output_type": "execute_result",
          "data": {
            "text/plain": [
              "Age                                   1\n",
              "BMI                                  27\n",
              "Sex                                   2\n",
              "Height                               26\n",
              "Weight                                3\n",
              "Length_of_Stay                        4\n",
              "Alvarado_Score                       52\n",
              "Paedriatic_Appendicitis_Score        52\n",
              "Appendix_on_US                        5\n",
              "Appendix_Diameter                   284\n",
              "Migratory_Pain                        9\n",
              "Lower_Right_Abd_Pain                  8\n",
              "Contralateral_Rebound_Tenderness     15\n",
              "Coughing_Pain                        16\n",
              "Nausea                                8\n",
              "Loss_of_Appetite                     10\n",
              "Body_Temperature                      7\n",
              "WBC_Count                             6\n",
              "Neutrophil_Percentage               103\n",
              "Segmented_Neutrophils               728\n",
              "Neutrophilia                         50\n",
              "RBC_Count                            18\n",
              "Hemoglobin                           18\n",
              "RDW                                  26\n",
              "Thrombocyte_Count                    18\n",
              "Ketones_in_Urine                    200\n",
              "RBC_in_Urine                        206\n",
              "WBC_in_Urine                        199\n",
              "CRP                                  11\n",
              "Dysuria                              29\n",
              "Stool                                17\n",
              "Peritonitis                           9\n",
              "Psoas_Sign                           37\n",
              "Ipsilateral_Rebound_Tenderness      163\n",
              "US_Performed                          4\n",
              "Free_Fluids                          63\n",
              "Appendix_Wall_Layers                564\n",
              "Target_Sign                         644\n",
              "Appendicolith                       713\n",
              "Perfusion                           719\n",
              "Perforation                         701\n",
              "Surrounding_Tissue_Reaction         530\n",
              "Appendicular_Abscess                697\n",
              "Abscess_Location                    769\n",
              "Pathological_Lymph_Nodes            579\n",
              "Lymph_Nodes_Location                661\n",
              "Bowel_Wall_Thickening               683\n",
              "Conglomerate_of_Bowel_Loops         739\n",
              "Ileus                               722\n",
              "Coprostasis                         711\n",
              "Meteorism                           642\n",
              "Enteritis                           716\n",
              "Gynecological_Findings              756\n",
              "dtype: int64"
            ]
          },
          "metadata": {},
          "execution_count": 66
        }
      ],
      "source": [
        "X.isna().sum()"
      ]
    },
    {
      "cell_type": "markdown",
      "metadata": {
        "id": "RQoQ4dgpGJuH"
      },
      "source": [
        "Видим, что много значений пропущено. Возможно удалить те значения, которых пропущено более 65% и посмотрим какие признаки остались"
      ]
    },
    {
      "cell_type": "code",
      "execution_count": 67,
      "metadata": {
        "colab": {
          "base_uri": "https://localhost:8080/"
        },
        "id": "OU1109w-GIvZ",
        "outputId": "5bbb32be-f007-4b5c-af33-78652c509d6d"
      },
      "outputs": [
        {
          "output_type": "stream",
          "name": "stdout",
          "text": [
            "18\n"
          ]
        },
        {
          "output_type": "execute_result",
          "data": {
            "text/plain": [
              "['Segmented_Neutrophils',\n",
              " 'Appendix_Wall_Layers',\n",
              " 'Target_Sign',\n",
              " 'Appendicolith',\n",
              " 'Perfusion',\n",
              " 'Perforation',\n",
              " 'Surrounding_Tissue_Reaction',\n",
              " 'Appendicular_Abscess',\n",
              " 'Abscess_Location',\n",
              " 'Pathological_Lymph_Nodes',\n",
              " 'Lymph_Nodes_Location',\n",
              " 'Bowel_Wall_Thickening',\n",
              " 'Conglomerate_of_Bowel_Loops',\n",
              " 'Ileus',\n",
              " 'Coprostasis',\n",
              " 'Meteorism',\n",
              " 'Enteritis',\n",
              " 'Gynecological_Findings']"
            ]
          },
          "metadata": {},
          "execution_count": 67
        }
      ],
      "source": [
        "X_cols = X.columns\n",
        "row, column = X.shape\n",
        "drop_cols = []\n",
        "for col in X_cols:\n",
        "  if ((X[col].isna().sum()/len(X))*100) > 65:\n",
        "    drop_cols.append(col)\n",
        "\n",
        "print(len(drop_cols))\n",
        "drop_cols\n",
        "\n",
        "# Видно, что удалил осложнения, данные гистологии,симтомы нехарактерные для острой боли."
      ]
    },
    {
      "cell_type": "code",
      "execution_count": 68,
      "metadata": {
        "colab": {
          "base_uri": "https://localhost:8080/"
        },
        "id": "JW7kj8xVI-UI",
        "outputId": "75b92b50-2c99-4b2e-d7e6-5c68b39b7fa5"
      },
      "outputs": [
        {
          "output_type": "stream",
          "name": "stdout",
          "text": [
            "<class 'pandas.core.frame.DataFrame'>\n",
            "RangeIndex: 782 entries, 0 to 781\n",
            "Data columns (total 35 columns):\n",
            " #   Column                            Non-Null Count  Dtype  \n",
            "---  ------                            --------------  -----  \n",
            " 0   Age                               781 non-null    float64\n",
            " 1   BMI                               755 non-null    float64\n",
            " 2   Sex                               780 non-null    object \n",
            " 3   Height                            756 non-null    float64\n",
            " 4   Weight                            779 non-null    float64\n",
            " 5   Length_of_Stay                    778 non-null    float64\n",
            " 6   Alvarado_Score                    730 non-null    float64\n",
            " 7   Paedriatic_Appendicitis_Score     730 non-null    float64\n",
            " 8   Appendix_on_US                    777 non-null    object \n",
            " 9   Appendix_Diameter                 498 non-null    float64\n",
            " 10  Migratory_Pain                    773 non-null    object \n",
            " 11  Lower_Right_Abd_Pain              774 non-null    object \n",
            " 12  Contralateral_Rebound_Tenderness  767 non-null    object \n",
            " 13  Coughing_Pain                     766 non-null    object \n",
            " 14  Nausea                            774 non-null    object \n",
            " 15  Loss_of_Appetite                  772 non-null    object \n",
            " 16  Body_Temperature                  775 non-null    float64\n",
            " 17  WBC_Count                         776 non-null    float64\n",
            " 18  Neutrophil_Percentage             679 non-null    float64\n",
            " 19  Neutrophilia                      732 non-null    object \n",
            " 20  RBC_Count                         764 non-null    float64\n",
            " 21  Hemoglobin                        764 non-null    float64\n",
            " 22  RDW                               756 non-null    float64\n",
            " 23  Thrombocyte_Count                 764 non-null    float64\n",
            " 24  Ketones_in_Urine                  582 non-null    object \n",
            " 25  RBC_in_Urine                      576 non-null    object \n",
            " 26  WBC_in_Urine                      583 non-null    object \n",
            " 27  CRP                               771 non-null    float64\n",
            " 28  Dysuria                           753 non-null    object \n",
            " 29  Stool                             765 non-null    object \n",
            " 30  Peritonitis                       773 non-null    object \n",
            " 31  Psoas_Sign                        745 non-null    object \n",
            " 32  Ipsilateral_Rebound_Tenderness    619 non-null    object \n",
            " 33  US_Performed                      778 non-null    object \n",
            " 34  Free_Fluids                       719 non-null    object \n",
            "dtypes: float64(16), object(19)\n",
            "memory usage: 214.0+ KB\n"
          ]
        }
      ],
      "source": [
        "X = X.drop(drop_cols, axis = 1)\n",
        "X.info()"
      ]
    },
    {
      "cell_type": "code",
      "execution_count": 69,
      "metadata": {
        "colab": {
          "base_uri": "https://localhost:8080/"
        },
        "id": "yTHJtLBPJgkh",
        "outputId": "42da19fa-1870-4b9c-f3d5-828566d3d68e"
      },
      "outputs": [
        {
          "output_type": "stream",
          "name": "stdout",
          "text": [
            "Unique statuses:\n"
          ]
        },
        {
          "output_type": "execute_result",
          "data": {
            "text/plain": [
              "0         appendicitis\n",
              "1      no appendicitis\n",
              "2      no appendicitis\n",
              "3      no appendicitis\n",
              "4         appendicitis\n",
              "            ...       \n",
              "777       appendicitis\n",
              "778       appendicitis\n",
              "779       appendicitis\n",
              "780       appendicitis\n",
              "781       appendicitis\n",
              "Name: Diagnosis, Length: 782, dtype: object"
            ]
          },
          "metadata": {},
          "execution_count": 69
        }
      ],
      "source": [
        "unique_vals = y['Diagnosis']\n",
        "print('Unique statuses:')\n",
        "unique_vals"
      ]
    },
    {
      "cell_type": "code",
      "execution_count": 70,
      "metadata": {
        "colab": {
          "base_uri": "https://localhost:8080/",
          "height": 447
        },
        "id": "UY6X_ds9J8mb",
        "outputId": "a6bf649b-97c4-4a9d-c00c-2c0825d9da34"
      },
      "outputs": [
        {
          "output_type": "execute_result",
          "data": {
            "text/plain": [
              "<Axes: >"
            ]
          },
          "metadata": {},
          "execution_count": 70
        },
        {
          "output_type": "display_data",
          "data": {
            "text/plain": [
              "<Figure size 640x480 with 1 Axes>"
            ],
            "image/png": "[encoded data removed]"
          },
          "metadata": {}
        }
      ],
      "source": [
        "y['Diagnosis'].hist()"
      ]
    },
    {
      "cell_type": "code",
      "execution_count": 71,
      "metadata": {
        "colab": {
          "base_uri": "https://localhost:8080/"
        },
        "id": "_XX3672oKqsz",
        "outputId": "cd5f1f39-093f-4c39-9687-7b7995477b23"
      },
      "outputs": [
        {
          "output_type": "execute_result",
          "data": {
            "text/plain": [
              "Diagnosis\n",
              "appendicitis       463\n",
              "no appendicitis    317\n",
              "Name: count, dtype: int64"
            ]
          },
          "metadata": {},
          "execution_count": 71
        }
      ],
      "source": [
        "y.Diagnosis.value_counts() #значительного дисбаланса нет"
      ]
    },
    {
      "cell_type": "code",
      "source": [
        "# Получим список числовых столбцов\n",
        "numeric_columns = X.select_dtypes(include=['number']).columns\n",
        "\n",
        "# Создаем новый датасет, содержащий только числовые столбцы\n",
        "new_X = X[numeric_columns]\n",
        "\n",
        "# Выводим новый датасет\n",
        "print(new_X)"
      ],
      "metadata": {
        "colab": {
          "base_uri": "https://localhost:8080/"
        },
        "id": "N5icL0lFLO0d",
        "outputId": "3dcdde11-6c89-4b61-f0ae-30867f707826"
      },
      "execution_count": 72,
      "outputs": [
        {
          "output_type": "stream",
          "name": "stdout",
          "text": [
            "       Age    BMI  Height  Weight  Length_of_Stay  Alvarado_Score  \\\n",
            "0    12.68  16.90   148.0    37.0             3.0             4.0   \n",
            "1    14.10  31.90   147.0    69.5             2.0             5.0   \n",
            "2    14.14  23.30   163.0    62.0             4.0             5.0   \n",
            "3    16.37  20.60   165.0    56.0             3.0             7.0   \n",
            "4    11.08  16.90   163.0    45.0             3.0             5.0   \n",
            "..     ...    ...     ...     ...             ...             ...   \n",
            "777  12.41  25.25   166.5    70.0             4.0             8.0   \n",
            "778  17.09  20.43   158.0    51.0             6.0             5.0   \n",
            "779  14.99  19.91   152.0    46.0             4.0             5.0   \n",
            "780   7.20  14.30   129.3    23.9             5.0             9.0   \n",
            "781  11.51  18.17   146.5    39.0             4.0             2.0   \n",
            "\n",
            "     Paedriatic_Appendicitis_Score  Appendix_Diameter  Body_Temperature  \\\n",
            "0                              3.0                7.1              37.0   \n",
            "1                              4.0                NaN              36.9   \n",
            "2                              3.0                NaN              36.6   \n",
            "3                              6.0                NaN              36.0   \n",
            "4                              6.0                7.0              36.9   \n",
            "..                             ...                ...               ...   \n",
            "777                            7.0                7.5              39.4   \n",
            "778                            3.0                NaN              37.8   \n",
            "779                            3.0                NaN              37.3   \n",
            "780                            8.0               14.0              37.5   \n",
            "781                            2.0                8.0              36.8   \n",
            "\n",
            "     WBC_Count  Neutrophil_Percentage  RBC_Count  Hemoglobin   RDW  \\\n",
            "0          7.7                   68.2       5.27        14.8  12.2   \n",
            "1          8.1                   64.8       5.26        15.7  12.7   \n",
            "2         13.2                   74.8       3.98        11.4  12.2   \n",
            "3         11.4                   63.0       4.64        13.6  13.2   \n",
            "4          8.1                   44.0       4.44        12.6  13.6   \n",
            "..         ...                    ...        ...         ...   ...   \n",
            "777       11.4                   76.6       4.95        13.7  13.4   \n",
            "778       17.4                   89.2       4.52        13.1  12.8   \n",
            "779       14.6                   68.5       4.49        12.7  12.8   \n",
            "780       17.8                   77.0       4.97        14.3  12.7   \n",
            "781        9.3                   70.0       4.64        13.2  12.7   \n",
            "\n",
            "     Thrombocyte_Count    CRP  \n",
            "0                254.0    0.0  \n",
            "1                151.0    3.0  \n",
            "2                300.0    3.0  \n",
            "3                258.0    0.0  \n",
            "4                311.0    0.0  \n",
            "..                 ...    ...  \n",
            "777              243.0   71.0  \n",
            "778              310.0  245.0  \n",
            "779              328.0    2.0  \n",
            "780              345.0    8.0  \n",
            "781              291.0    1.0  \n",
            "\n",
            "[782 rows x 16 columns]\n"
          ]
        }
      ]
    },
    {
      "cell_type": "code",
      "execution_count": 73,
      "metadata": {
        "colab": {
          "base_uri": "https://localhost:8080/"
        },
        "id": "q6qOQEpCJjzZ",
        "outputId": "c7719b1b-4b51-49c0-e2f2-ab6dae9b4c1b"
      },
      "outputs": [
        {
          "output_type": "stream",
          "name": "stdout",
          "text": [
            "Переменные Height и Age сильно коррелируют (r = 0.865).\n",
            "Переменные Weight и Age сильно коррелируют (r = 0.766).\n",
            "Переменные Weight и BMI сильно коррелируют (r = 0.859).\n",
            "Переменные Weight и Height сильно коррелируют (r = 0.830).\n",
            "Переменные Paedriatic_Appendicitis_Score и Alvarado_Score сильно коррелируют (r = 0.832).\n",
            "Переменные WBC_Count и Alvarado_Score сильно коррелируют (r = 0.640).\n",
            "Переменные Neutrophil_Percentage и Alvarado_Score сильно коррелируют (r = 0.701).\n",
            "Переменные Neutrophil_Percentage и Paedriatic_Appendicitis_Score сильно коррелируют (r = 0.555).\n",
            "Переменные Neutrophil_Percentage и WBC_Count сильно коррелируют (r = 0.663).\n",
            "Переменные CRP и Length_of_Stay сильно коррелируют (r = 0.524).\n"
          ]
        }
      ],
      "source": [
        "\n",
        "# и теперь посмотрим на мультиколенеарность признаков\n",
        "corr_matrix = new_X.corr()\n",
        "\n",
        "# Проверяем корреляцию между каждой парой переменных\n",
        "for i in range(len(corr_matrix.columns)):\n",
        "    for j in range(i):\n",
        "        if abs(corr_matrix.iloc[i, j]) > 0.5:\n",
        "            print(f\"Переменные {corr_matrix.columns[i]} и {corr_matrix.columns[j]} сильно коррелируют (r = {corr_matrix.iloc[i, j]:.3f}).\")"
      ]
    },
    {
      "cell_type": "markdown",
      "source": [
        "Удалим следующие признаки:\n",
        "\n",
        "\n",
        "*   Weight, тк есть равносильный индекс массы тела\n",
        "*   Height, тк это дети и часто возраст соответствует определенному диапозогу роста\n",
        "\n",
        "\n",
        "м следующие признаки:\n",
        "\n",
        "\n",
        "*   Weight, тк есть равносильный индекс массы тела\n",
        "*   Height, тк это дети и часто возраст соответствует определенному диапозогу роста\n",
        "\n",
        "\n",
        "*   Paedriatic_Appendicitis_Score и Alvarado_Score. Это два признака, характерные для физикального осмотра.\n",
        "*   WBC_Count и Alvarado_Score. Количество лейкоцитов и Alvarado_Score, тк аппендицит воспалительное заболевания, идет реакция иммунной системы. Поэтому удалим Alvarado_Score.\n",
        "Тк и физикальный симптом и анализы могут быть показатльными в первые часы постановки диагноза.\n",
        "\n",
        "*   Neutrophil_Percentage. Тоже реакция иммуной системы на воспаление. Коррелирует сразу с тремя признаками. Удалим его, оставим другие лабораторные показатели воспаления.\n",
        "*   Length_of_Stay. Тк у нас задачи классификации, чтобы предположить диагноз в первые часы, то продолжительность койко-дней не важно. Хорошо использовать этот признак для других двух целевых.\n",
        "\n",
        "\n",
        "\n",
        "\n",
        "\n",
        "\n",
        "\n"
      ],
      "metadata": {
        "id": "7TXM1BGdL6gE"
      }
    },
    {
      "cell_type": "code",
      "source": [
        "# запрлним данныемнаиболее часто встречающимся значением\n",
        "X = X.apply(lambda x:x.fillna(x.value_counts().index[0]))\n",
        "np.where(X.isna())"
      ],
      "metadata": {
        "colab": {
          "base_uri": "https://localhost:8080/"
        },
        "id": "Q9c9UizZOzpP",
        "outputId": "d963693e-9cae-4115-a150-0cee3461893e"
      },
      "execution_count": 74,
      "outputs": [
        {
          "output_type": "execute_result",
          "data": {
            "text/plain": [
              "(array([], dtype=int64), array([], dtype=int64))"
            ]
          },
          "metadata": {},
          "execution_count": 74
        }
      ]
    },
    {
      "cell_type": "code",
      "source": [
        "\n",
        "for column in X:\n",
        "    unique_vals = X[column].unique()\n",
        "    print(f'Unique values from {column}:', sorted(unique_vals)[:10])"
      ],
      "metadata": {
        "colab": {
          "base_uri": "https://localhost:8080/"
        },
        "id": "4_JcWkzpPRK3",
        "outputId": "7e8525cb-74ff-40de-a797-fb5668aa6c92"
      },
      "execution_count": 75,
      "outputs": [
        {
          "output_type": "stream",
          "name": "stdout",
          "text": [
            "Unique values from Age: [0.0, 0.04, 0.53, 0.85, 1.73, 2.06, 2.13, 2.6, 2.8, 3.16]\n",
            "Unique values from BMI: [7.83, 8.95, 10.9, 11.03, 11.34, 11.9, 12.15, 12.19, 12.25, 12.39]\n",
            "Unique values from Sex: ['female', 'male']\n",
            "Unique values from Height: [53.0, 83.5, 87.7, 90.0, 92.0, 94.6, 95.0, 96.0, 96.3, 97.0]\n",
            "Unique values from Weight: [3.96, 12.0, 12.2, 12.5, 12.7, 13.0, 13.4, 14.0, 14.2, 14.5]\n",
            "Unique values from Length_of_Stay: [1.0, 2.0, 3.0, 4.0, 5.0, 6.0, 7.0, 8.0, 9.0, 10.0]\n",
            "Unique values from Alvarado_Score: [0.0, 1.0, 2.0, 3.0, 4.0, 5.0, 6.0, 7.0, 8.0, 9.0]\n",
            "Unique values from Paedriatic_Appendicitis_Score: [0.0, 1.0, 2.0, 3.0, 4.0, 5.0, 6.0, 7.0, 8.0, 9.0]\n",
            "Unique values from Appendix_on_US: ['no', 'yes']\n",
            "Unique values from Appendix_Diameter: [2.7, 2.9, 3.0, 3.2, 3.5, 3.7, 3.8, 4.0, 4.2, 4.3]\n",
            "Unique values from Migratory_Pain: ['no', 'yes']\n",
            "Unique values from Lower_Right_Abd_Pain: ['no', 'yes']\n",
            "Unique values from Contralateral_Rebound_Tenderness: ['no', 'yes']\n",
            "Unique values from Coughing_Pain: ['no', 'yes']\n",
            "Unique values from Nausea: ['no', 'yes']\n",
            "Unique values from Loss_of_Appetite: ['no', 'yes']\n",
            "Unique values from Body_Temperature: [26.9, 35.6, 35.8, 35.9, 36.0, 36.1, 36.2, 36.3, 36.4, 36.5]\n",
            "Unique values from WBC_Count: [2.6, 3.5, 4.0, 4.1, 4.2, 4.3, 4.4, 4.5, 4.6, 4.7]\n",
            "Unique values from Neutrophil_Percentage: [27.2, 29.5, 29.7, 32.2, 35.1, 36.1, 36.7, 38.6, 38.7, 39.5]\n",
            "Unique values from Neutrophilia: ['no', 'yes']\n",
            "Unique values from RBC_Count: [3.62, 3.75, 3.79, 3.8, 3.83, 3.85, 3.87, 3.92, 3.96, 3.98]\n",
            "Unique values from Hemoglobin: [8.2, 9.7, 10.0, 10.1, 10.3, 10.6, 10.7, 10.9, 11.1, 11.2]\n",
            "Unique values from RDW: [11.2, 11.3, 11.5, 11.6, 11.7, 11.8, 11.9, 12.0, 12.1, 12.2]\n",
            "Unique values from Thrombocyte_Count: [91.0, 98.0, 99.0, 110.0, 126.0, 128.0, 134.0, 146.0, 151.0, 152.0]\n",
            "Unique values from Ketones_in_Urine: ['+', '++', '+++', 'no']\n",
            "Unique values from RBC_in_Urine: ['+', '++', '+++', 'no']\n",
            "Unique values from WBC_in_Urine: ['+', '++', '+++', 'no']\n",
            "Unique values from CRP: [0.0, 1.0, 1.3, 2.0, 3.0, 4.0, 5.0, 6.0, 7.0, 8.0]\n",
            "Unique values from Dysuria: ['no', 'yes']\n",
            "Unique values from Stool: ['constipation', 'constipation, diarrhea', 'diarrhea', 'normal']\n",
            "Unique values from Peritonitis: ['generalized', 'local', 'no']\n",
            "Unique values from Psoas_Sign: ['no', 'yes']\n",
            "Unique values from Ipsilateral_Rebound_Tenderness: ['no', 'yes']\n",
            "Unique values from US_Performed: ['no', 'yes']\n",
            "Unique values from Free_Fluids: ['no', 'yes']\n"
          ]
        }
      ]
    },
    {
      "cell_type": "code",
      "source": [
        "# Encode labels for classification models\n",
        "label_encoder = LabelEncoder()\n",
        "X = X.apply(label_encoder.fit_transform)\n",
        "X.head()"
      ],
      "metadata": {
        "colab": {
          "base_uri": "https://localhost:8080/",
          "height": 255
        },
        "id": "3W2SHYxUPhpo",
        "outputId": "f7f16cb9-d124-427f-93b3-3bc4cf34d2ee"
      },
      "execution_count": 76,
      "outputs": [
        {
          "output_type": "execute_result",
          "data": {
            "text/plain": [
              "   Age  BMI  Sex  Height  Weight  Length_of_Stay  Alvarado_Score  \\\n",
              "0  369  185    0     104     116               2               4   \n",
              "1  428  499    1     101     231               1               5   \n",
              "2  430  418    0     142     213               3               5   \n",
              "3  530  340    0     147     191               2               7   \n",
              "4  274  185    0     142     151               2               5   \n",
              "\n",
              "   Paedriatic_Appendicitis_Score  Appendix_on_US  Appendix_Diameter  ...  \\\n",
              "0                              3               1                 35  ...   \n",
              "1                              4               0                 44  ...   \n",
              "2                              3               0                 44  ...   \n",
              "3                              6               0                 44  ...   \n",
              "4                              6               1                 34  ...   \n",
              "\n",
              "   RBC_in_Urine  WBC_in_Urine  CRP  Dysuria  Stool  Peritonitis  Psoas_Sign  \\\n",
              "0             0             3    0        0      3            2           1   \n",
              "1             3             3    4        1      3            2           1   \n",
              "2             3             3    4        0      0            2           1   \n",
              "3             3             3    0        1      3            2           1   \n",
              "4             3             3    0        0      0            2           1   \n",
              "\n",
              "   Ipsilateral_Rebound_Tenderness  US_Performed  Free_Fluids  \n",
              "0                               0             1            0  \n",
              "1                               0             1            0  \n",
              "2                               0             1            0  \n",
              "3                               0             1            0  \n",
              "4                               0             1            0  \n",
              "\n",
              "[5 rows x 35 columns]"
            ],
            "text/html": [
              "\n",
              "  <div id=\"df-9551e103-a58b-4e31-b893-36a68d921a36\" class=\"colab-df-container\">\n",
              "    <div>\n",
              "<style scoped>\n",
              "    .dataframe tbody tr th:only-of-type {\n",
              "        vertical-align: middle;\n",
              "    }\n",
              "\n",
              "    .dataframe tbody tr th {\n",
              "        vertical-align: top;\n",
              "    }\n",
              "\n",
              "    .dataframe thead th {\n",
              "        text-align: right;\n",
              "    }\n",
              "</style>\n",
              "<table border=\"1\" class=\"dataframe\">\n",
              "  <thead>\n",
              "    <tr style=\"text-align: right;\">\n",
              "      <th></th>\n",
              "      <th>Age</th>\n",
              "      <th>BMI</th>\n",
              "      <th>Sex</th>\n",
              "      <th>Height</th>\n",
              "      <th>Weight</th>\n",
              "      <th>Length_of_Stay</th>\n",
              "      <th>Alvarado_Score</th>\n",
              "      <th>Paedriatic_Appendicitis_Score</th>\n",
              "      <th>Appendix_on_US</th>\n",
              "      <th>Appendix_Diameter</th>\n",
              "      <th>...</th>\n",
              "      <th>RBC_in_Urine</th>\n",
              "      <th>WBC_in_Urine</th>\n",
              "      <th>CRP</th>\n",
              "      <th>Dysuria</th>\n",
              "      <th>Stool</th>\n",
              "      <th>Peritonitis</th>\n",
              "      <th>Psoas_Sign</th>\n",
              "      <th>Ipsilateral_Rebound_Tenderness</th>\n",
              "      <th>US_Performed</th>\n",
              "      <th>Free_Fluids</th>\n",
              "    </tr>\n",
              "  </thead>\n",
              "  <tbody>\n",
              "    <tr>\n",
              "      <th>0</th>\n",
              "      <td>369</td>\n",
              "      <td>185</td>\n",
              "      <td>0</td>\n",
              "      <td>104</td>\n",
              "      <td>116</td>\n",
              "      <td>2</td>\n",
              "      <td>4</td>\n",
              "      <td>3</td>\n",
              "      <td>1</td>\n",
              "      <td>35</td>\n",
              "      <td>...</td>\n",
              "      <td>0</td>\n",
              "      <td>3</td>\n",
              "      <td>0</td>\n",
              "      <td>0</td>\n",
              "      <td>3</td>\n",
              "      <td>2</td>\n",
              "      <td>1</td>\n",
              "      <td>0</td>\n",
              "      <td>1</td>\n",
              "      <td>0</td>\n",
              "    </tr>\n",
              "    <tr>\n",
              "      <th>1</th>\n",
              "      <td>428</td>\n",
              "      <td>499</td>\n",
              "      <td>1</td>\n",
              "      <td>101</td>\n",
              "      <td>231</td>\n",
              "      <td>1</td>\n",
              "      <td>5</td>\n",
              "      <td>4</td>\n",
              "      <td>0</td>\n",
              "      <td>44</td>\n",
              "      <td>...</td>\n",
              "      <td>3</td>\n",
              "      <td>3</td>\n",
              "      <td>4</td>\n",
              "      <td>1</td>\n",
              "      <td>3</td>\n",
              "      <td>2</td>\n",
              "      <td>1</td>\n",
              "      <td>0</td>\n",
              "      <td>1</td>\n",
              "      <td>0</td>\n",
              "    </tr>\n",
              "    <tr>\n",
              "      <th>2</th>\n",
              "      <td>430</td>\n",
              "      <td>418</td>\n",
              "      <td>0</td>\n",
              "      <td>142</td>\n",
              "      <td>213</td>\n",
              "      <td>3</td>\n",
              "      <td>5</td>\n",
              "      <td>3</td>\n",
              "      <td>0</td>\n",
              "      <td>44</td>\n",
              "      <td>...</td>\n",
              "      <td>3</td>\n",
              "      <td>3</td>\n",
              "      <td>4</td>\n",
              "      <td>0</td>\n",
              "      <td>0</td>\n",
              "      <td>2</td>\n",
              "      <td>1</td>\n",
              "      <td>0</td>\n",
              "      <td>1</td>\n",
              "      <td>0</td>\n",
              "    </tr>\n",
              "    <tr>\n",
              "      <th>3</th>\n",
              "      <td>530</td>\n",
              "      <td>340</td>\n",
              "      <td>0</td>\n",
              "      <td>147</td>\n",
              "      <td>191</td>\n",
              "      <td>2</td>\n",
              "      <td>7</td>\n",
              "      <td>6</td>\n",
              "      <td>0</td>\n",
              "      <td>44</td>\n",
              "      <td>...</td>\n",
              "      <td>3</td>\n",
              "      <td>3</td>\n",
              "      <td>0</td>\n",
              "      <td>1</td>\n",
              "      <td>3</td>\n",
              "      <td>2</td>\n",
              "      <td>1</td>\n",
              "      <td>0</td>\n",
              "      <td>1</td>\n",
              "      <td>0</td>\n",
              "    </tr>\n",
              "    <tr>\n",
              "      <th>4</th>\n",
              "      <td>274</td>\n",
              "      <td>185</td>\n",
              "      <td>0</td>\n",
              "      <td>142</td>\n",
              "      <td>151</td>\n",
              "      <td>2</td>\n",
              "      <td>5</td>\n",
              "      <td>6</td>\n",
              "      <td>1</td>\n",
              "      <td>34</td>\n",
              "      <td>...</td>\n",
              "      <td>3</td>\n",
              "      <td>3</td>\n",
              "      <td>0</td>\n",
              "      <td>0</td>\n",
              "      <td>0</td>\n",
              "      <td>2</td>\n",
              "      <td>1</td>\n",
              "      <td>0</td>\n",
              "      <td>1</td>\n",
              "      <td>0</td>\n",
              "    </tr>\n",
              "  </tbody>\n",
              "</table>\n",
              "<p>5 rows × 35 columns</p>\n",
              "</div>\n",
              "    <div class=\"colab-df-buttons\">\n",
              "\n",
              "  <div class=\"colab-df-container\">\n",
              "    <button class=\"colab-df-convert\" onclick=\"convertToInteractive('df-9551e103-a58b-4e31-b893-36a68d921a36')\"\n",
              "            title=\"Convert this dataframe to an interactive table.\"\n",
              "            style=\"display:none;\">\n",
              "\n",
              "  <svg xmlns=\"http://www.w3.org/2000/svg\" height=\"24px\" viewBox=\"0 -960 960 960\">\n",
              "    <path d=\"M120-120v-720h720v720H120Zm60-500h600v-160H180v160Zm220 220h160v-160H400v160Zm0 220h160v-160H400v160ZM180-400h160v-160H180v160Zm440 0h160v-160H620v160ZM180-180h160v-160H180v160Zm440 0h160v-160H620v160Z\"/>\n",
              "  </svg>\n",
              "    </button>\n",
              "\n",
              "  <style>\n",
              "    .colab-df-container {\n",
              "      display:flex;\n",
              "      gap: 12px;\n",
              "    }\n",
              "\n",
              "    .colab-df-convert {\n",
              "      background-color: #E8F0FE;\n",
              "      border: none;\n",
              "      border-radius: 50%;\n",
              "      cursor: pointer;\n",
              "      display: none;\n",
              "      fill: #1967D2;\n",
              "      height: 32px;\n",
              "      padding: 0 0 0 0;\n",
              "      width: 32px;\n",
              "    }\n",
              "\n",
              "    .colab-df-convert:hover {\n",
              "      background-color: #E2EBFA;\n",
              "      box-shadow: 0px 1px 2px rgba(60, 64, 67, 0.3), 0px 1px 3px 1px rgba(60, 64, 67, 0.15);\n",
              "      fill: #174EA6;\n",
              "    }\n",
              "\n",
              "    .colab-df-buttons div {\n",
              "      margin-bottom: 4px;\n",
              "    }\n",
              "\n",
              "    [theme=dark] .colab-df-convert {\n",
              "      background-color: #3B4455;\n",
              "      fill: #D2E3FC;\n",
              "    }\n",
              "\n",
              "    [theme=dark] .colab-df-convert:hover {\n",
              "      background-color: #434B5C;\n",
              "      box-shadow: 0px 1px 3px 1px rgba(0, 0, 0, 0.15);\n",
              "      filter: drop-shadow(0px 1px 2px rgba(0, 0, 0, 0.3));\n",
              "      fill: #FFFFFF;\n",
              "    }\n",
              "  </style>\n",
              "\n",
              "    <script>\n",
              "      const buttonEl =\n",
              "        document.querySelector('#df-9551e103-a58b-4e31-b893-36a68d921a36 button.colab-df-convert');\n",
              "      buttonEl.style.display =\n",
              "        google.colab.kernel.accessAllowed ? 'block' : 'none';\n",
              "\n",
              "      async function convertToInteractive(key) {\n",
              "        const element = document.querySelector('#df-9551e103-a58b-4e31-b893-36a68d921a36');\n",
              "        const dataTable =\n",
              "          await google.colab.kernel.invokeFunction('convertToInteractive',\n",
              "                                                    [key], {});\n",
              "        if (!dataTable) return;\n",
              "\n",
              "        const docLinkHtml = 'Like what you see? Visit the ' +\n",
              "          '<a target=\"_blank\" href=https://colab.research.google.com/notebooks/data_table.ipynb>data table notebook</a>'\n",
              "          + ' to learn more about interactive tables.';\n",
              "        element.innerHTML = '';\n",
              "        dataTable['output_type'] = 'display_data';\n",
              "        await google.colab.output.renderOutput(dataTable, element);\n",
              "        const docLink = document.createElement('div');\n",
              "        docLink.innerHTML = docLinkHtml;\n",
              "        element.appendChild(docLink);\n",
              "      }\n",
              "    </script>\n",
              "  </div>\n",
              "\n",
              "\n",
              "<div id=\"df-0f4be4eb-b4b0-4b92-9bb3-7156064c1e7a\">\n",
              "  <button class=\"colab-df-quickchart\" onclick=\"quickchart('df-0f4be4eb-b4b0-4b92-9bb3-7156064c1e7a')\"\n",
              "            title=\"Suggest charts\"\n",
              "            style=\"display:none;\">\n",
              "\n",
              "<svg xmlns=\"http://www.w3.org/2000/svg\" height=\"24px\"viewBox=\"0 0 24 24\"\n",
              "     width=\"24px\">\n",
              "    <g>\n",
              "        <path d=\"M19 3H5c-1.1 0-2 .9-2 2v14c0 1.1.9 2 2 2h14c1.1 0 2-.9 2-2V5c0-1.1-.9-2-2-2zM9 17H7v-7h2v7zm4 0h-2V7h2v10zm4 0h-2v-4h2v4z\"/>\n",
              "    </g>\n",
              "</svg>\n",
              "  </button>\n",
              "\n",
              "<style>\n",
              "  .colab-df-quickchart {\n",
              "      --bg-color: #E8F0FE;\n",
              "      --fill-color: #1967D2;\n",
              "      --hover-bg-color: #E2EBFA;\n",
              "      --hover-fill-color: #174EA6;\n",
              "      --disabled-fill-color: #AAA;\n",
              "      --disabled-bg-color: #DDD;\n",
              "  }\n",
              "\n",
              "  [theme=dark] .colab-df-quickchart {\n",
              "      --bg-color: #3B4455;\n",
              "      --fill-color: #D2E3FC;\n",
              "      --hover-bg-color: #434B5C;\n",
              "      --hover-fill-color: #FFFFFF;\n",
              "      --disabled-bg-color: #3B4455;\n",
              "      --disabled-fill-color: #666;\n",
              "  }\n",
              "\n",
              "  .colab-df-quickchart {\n",
              "    background-color: var(--bg-color);\n",
              "    border: none;\n",
              "    border-radius: 50%;\n",
              "    cursor: pointer;\n",
              "    display: none;\n",
              "    fill: var(--fill-color);\n",
              "    height: 32px;\n",
              "    padding: 0;\n",
              "    width: 32px;\n",
              "  }\n",
              "\n",
              "  .colab-df-quickchart:hover {\n",
              "    background-color: var(--hover-bg-color);\n",
              "    box-shadow: 0 1px 2px rgba(60, 64, 67, 0.3), 0 1px 3px 1px rgba(60, 64, 67, 0.15);\n",
              "    fill: var(--button-hover-fill-color);\n",
              "  }\n",
              "\n",
              "  .colab-df-quickchart-complete:disabled,\n",
              "  .colab-df-quickchart-complete:disabled:hover {\n",
              "    background-color: var(--disabled-bg-color);\n",
              "    fill: var(--disabled-fill-color);\n",
              "    box-shadow: none;\n",
              "  }\n",
              "\n",
              "  .colab-df-spinner {\n",
              "    border: 2px solid var(--fill-color);\n",
              "    border-color: transparent;\n",
              "    border-bottom-color: var(--fill-color);\n",
              "    animation:\n",
              "      spin 1s steps(1) infinite;\n",
              "  }\n",
              "\n",
              "  @keyframes spin {\n",
              "    0% {\n",
              "      border-color: transparent;\n",
              "      border-bottom-color: var(--fill-color);\n",
              "      border-left-color: var(--fill-color);\n",
              "    }\n",
              "    20% {\n",
              "      border-color: transparent;\n",
              "      border-left-color: var(--fill-color);\n",
              "      border-top-color: var(--fill-color);\n",
              "    }\n",
              "    30% {\n",
              "      border-color: transparent;\n",
              "      border-left-color: var(--fill-color);\n",
              "      border-top-color: var(--fill-color);\n",
              "      border-right-color: var(--fill-color);\n",
              "    }\n",
              "    40% {\n",
              "      border-color: transparent;\n",
              "      border-right-color: var(--fill-color);\n",
              "      border-top-color: var(--fill-color);\n",
              "    }\n",
              "    60% {\n",
              "      border-color: transparent;\n",
              "      border-right-color: var(--fill-color);\n",
              "    }\n",
              "    80% {\n",
              "      border-color: transparent;\n",
              "      border-right-color: var(--fill-color);\n",
              "      border-bottom-color: var(--fill-color);\n",
              "    }\n",
              "    90% {\n",
              "      border-color: transparent;\n",
              "      border-bottom-color: var(--fill-color);\n",
              "    }\n",
              "  }\n",
              "</style>\n",
              "\n",
              "  <script>\n",
              "    async function quickchart(key) {\n",
              "      const quickchartButtonEl =\n",
              "        document.querySelector('#' + key + ' button');\n",
              "      quickchartButtonEl.disabled = true;  // To prevent multiple clicks.\n",
              "      quickchartButtonEl.classList.add('colab-df-spinner');\n",
              "      try {\n",
              "        const charts = await google.colab.kernel.invokeFunction(\n",
              "            'suggestCharts', [key], {});\n",
              "      } catch (error) {\n",
              "        console.error('Error during call to suggestCharts:', error);\n",
              "      }\n",
              "      quickchartButtonEl.classList.remove('colab-df-spinner');\n",
              "      quickchartButtonEl.classList.add('colab-df-quickchart-complete');\n",
              "    }\n",
              "    (() => {\n",
              "      let quickchartButtonEl =\n",
              "        document.querySelector('#df-0f4be4eb-b4b0-4b92-9bb3-7156064c1e7a button');\n",
              "      quickchartButtonEl.style.display =\n",
              "        google.colab.kernel.accessAllowed ? 'block' : 'none';\n",
              "    })();\n",
              "  </script>\n",
              "</div>\n",
              "    </div>\n",
              "  </div>\n"
            ],
            "application/vnd.google.colaboratory.intrinsic+json": {
              "type": "dataframe",
              "variable_name": "X"
            }
          },
          "metadata": {},
          "execution_count": 76
        }
      ]
    },
    {
      "cell_type": "code",
      "source": [
        "\n",
        "for column in X:\n",
        "    unique_vals = X[column].unique()\n",
        "    print(f'Unique values from {column}:', sorted(unique_vals)[:10])"
      ],
      "metadata": {
        "colab": {
          "base_uri": "https://localhost:8080/"
        },
        "id": "oho-037GQPbS",
        "outputId": "25a84276-8e1f-4ef4-e3c1-cb8d8445e66c"
      },
      "execution_count": 77,
      "outputs": [
        {
          "output_type": "stream",
          "name": "stdout",
          "text": [
            "Unique values from Age: [0, 1, 2, 3, 4, 5, 6, 7, 8, 9]\n",
            "Unique values from BMI: [0, 1, 2, 3, 4, 5, 6, 7, 8, 9]\n",
            "Unique values from Sex: [0, 1]\n",
            "Unique values from Height: [0, 1, 2, 3, 4, 5, 6, 7, 8, 9]\n",
            "Unique values from Weight: [0, 1, 2, 3, 4, 5, 6, 7, 8, 9]\n",
            "Unique values from Length_of_Stay: [0, 1, 2, 3, 4, 5, 6, 7, 8, 9]\n",
            "Unique values from Alvarado_Score: [0, 1, 2, 3, 4, 5, 6, 7, 8, 9]\n",
            "Unique values from Paedriatic_Appendicitis_Score: [0, 1, 2, 3, 4, 5, 6, 7, 8, 9]\n",
            "Unique values from Appendix_on_US: [0, 1]\n",
            "Unique values from Appendix_Diameter: [0, 1, 2, 3, 4, 5, 6, 7, 8, 9]\n",
            "Unique values from Migratory_Pain: [0, 1]\n",
            "Unique values from Lower_Right_Abd_Pain: [0, 1]\n",
            "Unique values from Contralateral_Rebound_Tenderness: [0, 1]\n",
            "Unique values from Coughing_Pain: [0, 1]\n",
            "Unique values from Nausea: [0, 1]\n",
            "Unique values from Loss_of_Appetite: [0, 1]\n",
            "Unique values from Body_Temperature: [0, 1, 2, 3, 4, 5, 6, 7, 8, 9]\n",
            "Unique values from WBC_Count: [0, 1, 2, 3, 4, 5, 6, 7, 8, 9]\n",
            "Unique values from Neutrophil_Percentage: [0, 1, 2, 3, 4, 5, 6, 7, 8, 9]\n",
            "Unique values from Neutrophilia: [0, 1]\n",
            "Unique values from RBC_Count: [0, 1, 2, 3, 4, 5, 6, 7, 8, 9]\n",
            "Unique values from Hemoglobin: [0, 1, 2, 3, 4, 5, 6, 7, 8, 9]\n",
            "Unique values from RDW: [0, 1, 2, 3, 4, 5, 6, 7, 8, 9]\n",
            "Unique values from Thrombocyte_Count: [0, 1, 2, 3, 4, 5, 6, 7, 8, 9]\n",
            "Unique values from Ketones_in_Urine: [0, 1, 2, 3]\n",
            "Unique values from RBC_in_Urine: [0, 1, 2, 3]\n",
            "Unique values from WBC_in_Urine: [0, 1, 2, 3]\n",
            "Unique values from CRP: [0, 1, 2, 3, 4, 5, 6, 7, 8, 9]\n",
            "Unique values from Dysuria: [0, 1]\n",
            "Unique values from Stool: [0, 1, 2, 3]\n",
            "Unique values from Peritonitis: [0, 1, 2]\n",
            "Unique values from Psoas_Sign: [0, 1]\n",
            "Unique values from Ipsilateral_Rebound_Tenderness: [0, 1]\n",
            "Unique values from US_Performed: [0, 1]\n",
            "Unique values from Free_Fluids: [0, 1]\n"
          ]
        }
      ]
    },
    {
      "cell_type": "code",
      "source": [
        "\n",
        "label_encoder = LabelEncoder()\n",
        "y = y.apply(label_encoder.fit_transform)\n"
      ],
      "metadata": {
        "id": "sL9agZcbQRh6"
      },
      "execution_count": 78,
      "outputs": []
    },
    {
      "cell_type": "code",
      "source": [
        "len(X), len(y)\n",
        "\n",
        "\n"
      ],
      "metadata": {
        "colab": {
          "base_uri": "https://localhost:8080/"
        },
        "id": "BaDBn4s_Qa5-",
        "outputId": "91e14024-cad8-4fa6-864a-08d1f7521c70"
      },
      "execution_count": 79,
      "outputs": [
        {
          "output_type": "execute_result",
          "data": {
            "text/plain": [
              "(782, 782)"
            ]
          },
          "metadata": {},
          "execution_count": 79
        }
      ]
    },
    {
      "cell_type": "code",
      "source": [
        "y = y.drop(['Management', 'Severity'], axis= 1)"
      ],
      "metadata": {
        "id": "kDPOguB7QrZt"
      },
      "execution_count": 80,
      "outputs": []
    },
    {
      "cell_type": "code",
      "source": [
        "# Нормализуем данные, тк будем работать с Нс\n",
        "scaler = StandardScaler()\n",
        "X_scaler = scaler.fit_transform(X)\n",
        "X_scaler"
      ],
      "metadata": {
        "colab": {
          "base_uri": "https://localhost:8080/"
        },
        "id": "5WSzW9JcQ_Pe",
        "outputId": "c08a7e96-5259-44eb-82ab-b524c0f147be"
      },
      "execution_count": 81,
      "outputs": [
        {
          "output_type": "execute_result",
          "data": {
            "text/plain": [
              "array([[ 0.46697236, -0.4024824 , -1.03647024, ..., -0.22599838,\n",
              "         0.13984532, -0.81041944],\n",
              "       [ 0.84154721,  1.88394987,  0.96481304, ..., -0.22599838,\n",
              "         0.13984532, -0.81041944],\n",
              "       [ 0.85424467,  1.29413772, -1.03647024, ..., -0.22599838,\n",
              "         0.13984532, -0.81041944],\n",
              "       ...,\n",
              "       [ 1.10184499,  0.52956642, -1.03647024, ..., -0.22599838,\n",
              "         0.13984532,  1.23392895],\n",
              "       [-1.30432227, -1.34181286,  0.96481304, ..., -0.22599838,\n",
              "         0.13984532,  1.23392895],\n",
              "       [ 0.05430515, -0.0311192 ,  0.96481304, ..., -0.22599838,\n",
              "         0.13984532, -0.81041944]])"
            ]
          },
          "metadata": {},
          "execution_count": 81
        }
      ]
    },
    {
      "cell_type": "markdown",
      "source": [
        "BASE LINE"
      ],
      "metadata": {
        "id": "1CX3FtkYRqie"
      }
    },
    {
      "cell_type": "code",
      "source": [
        "X_train, X_test, y_train, y_test = train_test_split(X_scaler, y, test_size=0.2, random_state=42)"
      ],
      "metadata": {
        "id": "SzDIjjmPROJI"
      },
      "execution_count": 82,
      "outputs": []
    },
    {
      "cell_type": "markdown",
      "metadata": {
        "id": "kuQG1pyzKgF-"
      },
      "source": [
        "DecisionTreeClassifier"
      ]
    },
    {
      "cell_type": "code",
      "source": [
        "model_clf_tree = DecisionTreeClassifier(criterion=\"gini\",\n",
        "                                      random_state=100, max_depth=5, min_samples_leaf=5)\n",
        "\n",
        "\n",
        "model_clf_tree = model_clf_tree.fit(X_train, y_train)\n",
        "y_pred_clf_tree = model_clf_tree.predict(X_test)\n",
        "accuracy_clf_tree = accuracy_score(y_test, y_pred_clf_tree)\n",
        "f1_clf_tree = f1_score(y_test, y_pred_clf_tree)\n",
        "print(accuracy_clf_tree)\n",
        "print(f1_clf_tree)"
      ],
      "metadata": {
        "colab": {
          "base_uri": "https://localhost:8080/"
        },
        "id": "jkhuvPK4Rwna",
        "outputId": "67249002-df94-4a6f-abb8-633efd03a019"
      },
      "execution_count": 83,
      "outputs": [
        {
          "output_type": "stream",
          "name": "stdout",
          "text": [
            "0.9363057324840764\n",
            "0.9166666666666667\n"
          ]
        }
      ]
    },
    {
      "cell_type": "markdown",
      "source": [
        "Random Forest"
      ],
      "metadata": {
        "id": "34wviKWcSHQm"
      }
    },
    {
      "cell_type": "code",
      "source": [
        "model_RF = RandomForestClassifier(random_state=100, max_depth=5, n_estimators=100)\n",
        "model_RF = model_RF.fit(X_train, y_train)\n",
        "y_pred_RF = model_RF.predict(X_test)\n",
        "accuracy_RF = accuracy_score(y_test, y_pred_RF)\n",
        "f1_RF = f1_score(y_test, y_pred_RF)\n",
        "\n",
        "print(accuracy_RF)\n",
        "print(f1_RF)"
      ],
      "metadata": {
        "colab": {
          "base_uri": "https://localhost:8080/"
        },
        "id": "e1EOuwePSDhz",
        "outputId": "0a17043b-f915-4627-e5ce-9ff5c20994dd"
      },
      "execution_count": 84,
      "outputs": [
        {
          "output_type": "stream",
          "name": "stderr",
          "text": [
            "<ipython-input-84-fc88b9518f35>:2: DataConversionWarning: A column-vector y was passed when a 1d array was expected. Please change the shape of y to (n_samples,), for example using ravel().\n",
            "  model_RF = model_RF.fit(X_train, y_train)\n"
          ]
        },
        {
          "output_type": "stream",
          "name": "stdout",
          "text": [
            "0.8471337579617835\n",
            "0.7999999999999999\n"
          ]
        }
      ]
    },
    {
      "cell_type": "code",
      "source": [
        "model_mlp_clf = MLPClassifier(random_state=1, max_iter=300).fit(X_train, y_train)\n",
        "y_pred_mlp_clf = model_mlp_clf.predict(X_test)\n",
        "accuracy_mlp = accuracy_score(y_test, y_pred_mlp_clf)\n",
        "precision_score_mlp = precision_score(y_test, y_pred_mlp_clf, average='micro', labels=None, sample_weight=None)\n",
        "\n",
        "print(accuracy_mlp)\n",
        "print(precision_score_mlp)"
      ],
      "metadata": {
        "colab": {
          "base_uri": "https://localhost:8080/"
        },
        "id": "emPU0InTSNQc",
        "outputId": "18e36df4-ae87-49d5-9acf-451be5daf565"
      },
      "execution_count": 85,
      "outputs": [
        {
          "output_type": "stream",
          "name": "stderr",
          "text": [
            "/usr/local/lib/python3.10/dist-packages/sklearn/neural_network/_multilayer_perceptron.py:1098: DataConversionWarning: A column-vector y was passed when a 1d array was expected. Please change the shape of y to (n_samples, ), for example using ravel().\n",
            "  y = column_or_1d(y, warn=True)\n"
          ]
        },
        {
          "output_type": "stream",
          "name": "stdout",
          "text": [
            "0.8343949044585988\n",
            "0.8343949044585988\n"
          ]
        },
        {
          "output_type": "stream",
          "name": "stderr",
          "text": [
            "/usr/local/lib/python3.10/dist-packages/sklearn/neural_network/_multilayer_perceptron.py:686: ConvergenceWarning: Stochastic Optimizer: Maximum iterations (300) reached and the optimization hasn't converged yet.\n",
            "  warnings.warn(\n"
          ]
        }
      ]
    },
    {
      "cell_type": "markdown",
      "source": [
        "HC"
      ],
      "metadata": {
        "id": "bnjqhdiKSuZk"
      }
    },
    {
      "cell_type": "code",
      "source": [
        "from keras.models import Sequential\n",
        "from keras.layers import Dense, Dropout\n",
        "from keras import optimizers\n",
        "from keras.callbacks import History\n",
        "from keras.callbacks import EarlyStopping\n",
        "from keras.regularizers import l2"
      ],
      "metadata": {
        "id": "yg-FAI8pSsvw"
      },
      "execution_count": 86,
      "outputs": []
    },
    {
      "cell_type": "code",
      "source": [
        "# создаем модель с 32 входными нейронными слоями\n",
        "model32 = Sequential()\n",
        "model32.add(Dense(32, input_dim=X_train.shape[1], activation='relu'))\n",
        "model32.add(Dense(16, activation='relu'))\n",
        "model32.add(Dense(1, activation='sigmoid'))\n",
        "\n",
        "model32.compile(optimizer=optimizers.Adam(learning_rate=0.001),\n",
        "                loss='binary_crossentropy',\n",
        "                metrics=['accuracy'])"
      ],
      "metadata": {
        "id": "DbhO1S7qSv2x"
      },
      "execution_count": 87,
      "outputs": []
    },
    {
      "cell_type": "code",
      "source": [
        "# 64 dense layer\n",
        "\n",
        "model64 = Sequential()\n",
        "model64.add(Dense(64, input_dim=X_train.shape[1], activation='relu'))\n",
        "model64.add(Dense(32, activation='relu'))\n",
        "model64.add(Dense(1, activation='sigmoid'))\n",
        "\n",
        "model64.compile(optimizer=optimizers.Adam(learning_rate=0.001),\n",
        "                loss='binary_crossentropy',\n",
        "                metrics=['accuracy'])"
      ],
      "metadata": {
        "id": "QEDHA25uTO5y"
      },
      "execution_count": 88,
      "outputs": []
    },
    {
      "cell_type": "code",
      "source": [
        "# L2 regularization\n",
        "model_l2 = Sequential()\n",
        "model_l2.add(Dense(32, input_dim=X_train.shape[1], activation='relu', kernel_regularizer=l2(0.001)))\n",
        "model_l2.add(Dense(16, activation='relu', kernel_regularizer=l2(0.001)))\n",
        "model_l2.add(Dense(1, activation='sigmoid'))\n",
        "\n",
        "model_l2.compile(optimizer=optimizers.Adam(learning_rate=0.001),\n",
        "                 loss='binary_crossentropy',\n",
        "                 metrics=['accuracy'])"
      ],
      "metadata": {
        "id": "CNHkgnYyT54v"
      },
      "execution_count": 89,
      "outputs": []
    },
    {
      "cell_type": "code",
      "source": [
        "# dropout\n",
        "model_dropout = Sequential()\n",
        "model_dropout.add(Dense(32, input_dim=X_train.shape[1], activation='relu'))\n",
        "model_dropout.add(Dropout(0.5))\n",
        "model_dropout.add(Dense(16, activation='relu'))\n",
        "model_dropout.add(Dropout(0.5))\n",
        "model_dropout.add(Dense(1, activation='sigmoid'))\n",
        "\n",
        "model_dropout.compile(optimizer=optimizers.Adam(learning_rate=0.001),\n",
        "                      loss='binary_crossentropy',\n",
        "                      metrics=['accuracy'])"
      ],
      "metadata": {
        "id": "pKKDTtjOT_gt"
      },
      "execution_count": 90,
      "outputs": []
    },
    {
      "cell_type": "code",
      "source": [
        "# Fit\n",
        "for model, name in [\n",
        "    (model64, 'dense 64 model'),\n",
        "    (model32, 'dense 64 model'),\n",
        "    (model_l2, 'l2 regularization model'),\n",
        "    (model_dropout, 'dropout model'),\n",
        "]:\n",
        "    early_stopping = EarlyStopping(monitor='val_loss', patience=1, restore_best_weights=True)\n",
        "\n",
        "    history = History()\n",
        "    history = model.fit(\n",
        "        X_train, y_train,\n",
        "        validation_data=(X_test, y_test),\n",
        "        epochs=50,\n",
        "        batch_size=8,\n",
        "        callbacks=[history, early_stopping],\n",
        "        verbose=1\n",
        "    )\n",
        "\n",
        "    plt.figure(figsize=(10,6))\n",
        "    plt.plot(history.history['loss'], label='Train Loss')\n",
        "    plt.plot(history.history['val_loss'], label='Test Loss')\n",
        "    plt.xlabel('Epochs')\n",
        "    plt.ylabel('Loss')\n",
        "    plt.title('Training and Test Loss')\n",
        "    plt.legend()\n",
        "    plt.show()"
      ],
      "metadata": {
        "colab": {
          "base_uri": "https://localhost:8080/",
          "height": 1000
        },
        "id": "wCvBIydvUIea",
        "outputId": "03b1a77a-b615-4b72-cbdb-7613b3369c1c"
      },
      "execution_count": 91,
      "outputs": [
        {
          "output_type": "stream",
          "name": "stdout",
          "text": [
            "Epoch 1/50\n",
            "79/79 [==============================] - 3s 17ms/step - loss: 0.5490 - accuracy: 0.7264 - val_loss: 0.4776 - val_accuracy: 0.7389\n",
            "Epoch 2/50\n",
            "79/79 [==============================] - 1s 9ms/step - loss: 0.3815 - accuracy: 0.8432 - val_loss: 0.3975 - val_accuracy: 0.8153\n",
            "Epoch 3/50\n",
            "79/79 [==============================] - 1s 9ms/step - loss: 0.2891 - accuracy: 0.8832 - val_loss: 0.3539 - val_accuracy: 0.8153\n",
            "Epoch 4/50\n",
            "79/79 [==============================] - 1s 8ms/step - loss: 0.2358 - accuracy: 0.9152 - val_loss: 0.3295 - val_accuracy: 0.8344\n",
            "Epoch 5/50\n",
            "79/79 [==============================] - 1s 6ms/step - loss: 0.1939 - accuracy: 0.9328 - val_loss: 0.3246 - val_accuracy: 0.8153\n",
            "Epoch 6/50\n",
            "79/79 [==============================] - 1s 7ms/step - loss: 0.1661 - accuracy: 0.9520 - val_loss: 0.3244 - val_accuracy: 0.8280\n",
            "Epoch 7/50\n",
            "79/79 [==============================] - 1s 9ms/step - loss: 0.1415 - accuracy: 0.9504 - val_loss: 0.3346 - val_accuracy: 0.8280\n"
          ]
        },
        {
          "output_type": "display_data",
          "data": {
            "text/plain": [
              "<Figure size 1000x600 with 1 Axes>"
            ],
            "image/png": "[encoded data removed]"
          },
          "metadata": {}
        },
        {
          "output_type": "stream",
          "name": "stdout",
          "text": [
            "Epoch 1/50\n",
            "79/79 [==============================] - 3s 11ms/step - loss: 0.6892 - accuracy: 0.5680 - val_loss: 0.6200 - val_accuracy: 0.6624\n",
            "Epoch 2/50\n",
            "79/79 [==============================] - 1s 7ms/step - loss: 0.5183 - accuracy: 0.7456 - val_loss: 0.5231 - val_accuracy: 0.7452\n",
            "Epoch 3/50\n",
            "79/79 [==============================] - 1s 10ms/step - loss: 0.4220 - accuracy: 0.8000 - val_loss: 0.4647 - val_accuracy: 0.7643\n",
            "Epoch 4/50\n",
            "79/79 [==============================] - 1s 12ms/step - loss: 0.3464 - accuracy: 0.8544 - val_loss: 0.4245 - val_accuracy: 0.7898\n",
            "Epoch 5/50\n",
            "79/79 [==============================] - 1s 8ms/step - loss: 0.2870 - accuracy: 0.8848 - val_loss: 0.3924 - val_accuracy: 0.8153\n",
            "Epoch 6/50\n",
            "79/79 [==============================] - 1s 9ms/step - loss: 0.2389 - accuracy: 0.9088 - val_loss: 0.3595 - val_accuracy: 0.8408\n",
            "Epoch 7/50\n",
            "79/79 [==============================] - 1s 12ms/step - loss: 0.2086 - accuracy: 0.9216 - val_loss: 0.3583 - val_accuracy: 0.8471\n",
            "Epoch 8/50\n",
            "79/79 [==============================] - 1s 14ms/step - loss: 0.1823 - accuracy: 0.9360 - val_loss: 0.3372 - val_accuracy: 0.8344\n",
            "Epoch 9/50\n",
            "79/79 [==============================] - 1s 12ms/step - loss: 0.1619 - accuracy: 0.9424 - val_loss: 0.3412 - val_accuracy: 0.8408\n"
          ]
        },
        {
          "output_type": "display_data",
          "data": {
            "text/plain": [
              "<Figure size 1000x600 with 1 Axes>"
            ],
            "image/png": "[encoded data removed]"
          },
          "metadata": {}
        },
        {
          "output_type": "stream",
          "name": "stdout",
          "text": [
            "Epoch 1/50\n",
            "79/79 [==============================] - 3s 12ms/step - loss: 0.6819 - accuracy: 0.6768 - val_loss: 0.6523 - val_accuracy: 0.6943\n",
            "Epoch 2/50\n",
            "79/79 [==============================] - 1s 7ms/step - loss: 0.5535 - accuracy: 0.7760 - val_loss: 0.5757 - val_accuracy: 0.7325\n",
            "Epoch 3/50\n",
            "79/79 [==============================] - 1s 8ms/step - loss: 0.4528 - accuracy: 0.8336 - val_loss: 0.5190 - val_accuracy: 0.7707\n",
            "Epoch 4/50\n",
            "79/79 [==============================] - 1s 8ms/step - loss: 0.3762 - accuracy: 0.8656 - val_loss: 0.4678 - val_accuracy: 0.7898\n",
            "Epoch 5/50\n",
            "79/79 [==============================] - 1s 7ms/step - loss: 0.3209 - accuracy: 0.8912 - val_loss: 0.4332 - val_accuracy: 0.8153\n",
            "Epoch 6/50\n",
            "79/79 [==============================] - 1s 8ms/step - loss: 0.2812 - accuracy: 0.9136 - val_loss: 0.4064 - val_accuracy: 0.8217\n",
            "Epoch 7/50\n",
            "79/79 [==============================] - 1s 9ms/step - loss: 0.2577 - accuracy: 0.9184 - val_loss: 0.3924 - val_accuracy: 0.8280\n",
            "Epoch 8/50\n",
            "79/79 [==============================] - 1s 9ms/step - loss: 0.2360 - accuracy: 0.9264 - val_loss: 0.3869 - val_accuracy: 0.8280\n",
            "Epoch 9/50\n",
            "79/79 [==============================] - 1s 9ms/step - loss: 0.2191 - accuracy: 0.9408 - val_loss: 0.3851 - val_accuracy: 0.8280\n",
            "Epoch 10/50\n",
            "79/79 [==============================] - 1s 9ms/step - loss: 0.2067 - accuracy: 0.9392 - val_loss: 0.3817 - val_accuracy: 0.8153\n",
            "Epoch 11/50\n",
            "79/79 [==============================] - 1s 11ms/step - loss: 0.1912 - accuracy: 0.9584 - val_loss: 0.3823 - val_accuracy: 0.8280\n"
          ]
        },
        {
          "output_type": "display_data",
          "data": {
            "text/plain": [
              "<Figure size 1000x600 with 1 Axes>"
            ],
            "image/png": "[encoded data removed]"
          },
          "metadata": {}
        },
        {
          "output_type": "stream",
          "name": "stdout",
          "text": [
            "Epoch 1/50\n",
            "79/79 [==============================] - 4s 14ms/step - loss: 0.9186 - accuracy: 0.5088 - val_loss: 0.6457 - val_accuracy: 0.6051\n",
            "Epoch 2/50\n",
            "79/79 [==============================] - 0s 4ms/step - loss: 0.7443 - accuracy: 0.5888 - val_loss: 0.5962 - val_accuracy: 0.6752\n",
            "Epoch 3/50\n",
            "79/79 [==============================] - 0s 4ms/step - loss: 0.7042 - accuracy: 0.5856 - val_loss: 0.5685 - val_accuracy: 0.6497\n",
            "Epoch 4/50\n",
            "79/79 [==============================] - 0s 4ms/step - loss: 0.6507 - accuracy: 0.6128 - val_loss: 0.5458 - val_accuracy: 0.6943\n",
            "Epoch 5/50\n",
            "79/79 [==============================] - 0s 5ms/step - loss: 0.5764 - accuracy: 0.6864 - val_loss: 0.5275 - val_accuracy: 0.7070\n",
            "Epoch 6/50\n",
            "79/79 [==============================] - 0s 5ms/step - loss: 0.6077 - accuracy: 0.6704 - val_loss: 0.5135 - val_accuracy: 0.7134\n",
            "Epoch 7/50\n",
            "79/79 [==============================] - 0s 5ms/step - loss: 0.5549 - accuracy: 0.6944 - val_loss: 0.4998 - val_accuracy: 0.7452\n",
            "Epoch 8/50\n",
            "79/79 [==============================] - 0s 4ms/step - loss: 0.5103 - accuracy: 0.7488 - val_loss: 0.4797 - val_accuracy: 0.7643\n",
            "Epoch 9/50\n",
            "79/79 [==============================] - 0s 4ms/step - loss: 0.5010 - accuracy: 0.7328 - val_loss: 0.4683 - val_accuracy: 0.7707\n",
            "Epoch 10/50\n",
            "79/79 [==============================] - 0s 5ms/step - loss: 0.4860 - accuracy: 0.7328 - val_loss: 0.4510 - val_accuracy: 0.7580\n",
            "Epoch 11/50\n",
            "79/79 [==============================] - 0s 4ms/step - loss: 0.4619 - accuracy: 0.7616 - val_loss: 0.4363 - val_accuracy: 0.7771\n",
            "Epoch 12/50\n",
            "79/79 [==============================] - 0s 4ms/step - loss: 0.4007 - accuracy: 0.8240 - val_loss: 0.4112 - val_accuracy: 0.7962\n",
            "Epoch 13/50\n",
            "79/79 [==============================] - 0s 4ms/step - loss: 0.4240 - accuracy: 0.7968 - val_loss: 0.3969 - val_accuracy: 0.7962\n",
            "Epoch 14/50\n",
            "79/79 [==============================] - 0s 4ms/step - loss: 0.3919 - accuracy: 0.8352 - val_loss: 0.3834 - val_accuracy: 0.7962\n",
            "Epoch 15/50\n",
            "79/79 [==============================] - 0s 4ms/step - loss: 0.3957 - accuracy: 0.8352 - val_loss: 0.3738 - val_accuracy: 0.8025\n",
            "Epoch 16/50\n",
            "79/79 [==============================] - 0s 5ms/step - loss: 0.3891 - accuracy: 0.8176 - val_loss: 0.3646 - val_accuracy: 0.8153\n",
            "Epoch 17/50\n",
            "79/79 [==============================] - 0s 5ms/step - loss: 0.3795 - accuracy: 0.8432 - val_loss: 0.3526 - val_accuracy: 0.8217\n",
            "Epoch 18/50\n",
            "79/79 [==============================] - 0s 4ms/step - loss: 0.3307 - accuracy: 0.8512 - val_loss: 0.3445 - val_accuracy: 0.8280\n",
            "Epoch 19/50\n",
            "79/79 [==============================] - 0s 5ms/step - loss: 0.3253 - accuracy: 0.8528 - val_loss: 0.3312 - val_accuracy: 0.8344\n",
            "Epoch 20/50\n",
            "79/79 [==============================] - 0s 5ms/step - loss: 0.3412 - accuracy: 0.8608 - val_loss: 0.3255 - val_accuracy: 0.8344\n",
            "Epoch 21/50\n",
            "79/79 [==============================] - 0s 5ms/step - loss: 0.3208 - accuracy: 0.8416 - val_loss: 0.3256 - val_accuracy: 0.8344\n"
          ]
        },
        {
          "output_type": "display_data",
          "data": {
            "text/plain": [
              "<Figure size 1000x600 with 1 Axes>"
            ],
            "image/png": "[encoded data removed]"
          },
          "metadata": {}
        }
      ]
    },
    {
      "cell_type": "code",
      "source": [
        "# Visualise weights\n",
        "weights = model_dropout.layers[0].get_weights()[0]\n",
        "feature_importance = np.mean(np.abs(weights), axis=1)\n",
        "\n",
        "feature_importance_df = pd.DataFrame({'feature': X.columns, 'importance': feature_importance})\n",
        "feature_importance_df = feature_importance_df.sort_values(by='importance', ascending=False)\n",
        "\n",
        "plt.figure(figsize=(8,16))\n",
        "plt.barh(feature_importance_df['feature'], feature_importance_df['importance'])\n",
        "plt.xlabel('Feature Importance')\n",
        "plt.ylabel('Feature')\n",
        "\n",
        "plt.show()"
      ],
      "metadata": {
        "colab": {
          "base_uri": "https://localhost:8080/",
          "height": 1000
        },
        "id": "FGTkniaUUUY0",
        "outputId": "02b1d46f-0a8e-453b-b275-9e646481b7db"
      },
      "execution_count": 93,
      "outputs": [
        {
          "output_type": "display_data",
          "data": {
            "text/plain": [
              "<Figure size 800x1600 with 1 Axes>"
            ],
            "image/png": "[encoded data removed]"
          },
          "metadata": {}
        }
      ]
    },
    {
      "cell_type": "markdown",
      "source": [
        "Наибольшую точность среди классификатор получила модель дерево решений 0.9166666666666667. RF, MPL получили почти одинаковые значения 83. Возможно дерево переобучается.\n",
        "\n",
        "НС. Наибольшая точность у model32 - скор 95\n",
        "модель с dropout - скор 84\n",
        "\n",
        "можно судить, что наши модели более чем 83% случаев предсказвают верный диагноз\n",
        "\n",
        "Последние слово за хирургом."
      ],
      "metadata": {
        "id": "M6OG6ftzXjhZ"
      }
    }
  ],
  "metadata": {
    "accelerator": "GPU",
    "colab": {
      "gpuType": "T4",
      "provenance": [],
      "authorship_tag": "ABX9TyNcnERkOgUV6UVXGKMqQfuh",
      "include_colab_link": true
    },
    "kernelspec": {
      "display_name": "Python 3",
      "name": "python3"
    },
    "language_info": {
      "name": "python"
    }
  },
  "nbformat": 4,
  "nbformat_minor": 0
}