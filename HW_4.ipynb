{
  "nbformat": 4,
  "nbformat_minor": 0,
  "metadata": {
    "colab": {
      "provenance": [],
      "gpuType": "T4",
      "authorship_tag": "ABX9TyPXp+co2d83p3ylPNzviesq",
      "include_colab_link": true
    },
    "kernelspec": {
      "name": "python3",
      "display_name": "Python 3"
    },
    "language_info": {
      "name": "python"
    },
    "accelerator": "GPU"
  },
  "cells": [
    {
      "cell_type": "markdown",
      "metadata": {
        "id": "view-in-github",
        "colab_type": "text"
      },
      "source": [
        "<a href=\"https://colab.research.google.com/github/geekevgin/-Python/blob/main/HW_4.ipynb\" target=\"_parent\"><img src=\"https://colab.research.google.com/assets/colab-badge.svg\" alt=\"Open In Colab\"/></a>"
      ]
    },
    {
      "cell_type": "markdown",
      "source": [
        "Полип - скопления клеток могут слизистой оболочки. Могут локализоваться практически в любой части тела — в носу или кишечнике, матке или желудке. Некоторые из них полностью безвредны, другие могут привести к онкологическим заболеваниям.\n",
        "\n",
        "\n",
        "Полипы могут иметь разный вид, состав, способность к росту и перерождению в злокачественные опухоли. Помимо локализации (органа или области, где возникает новообразование), полипы классифицируют по клиническим (как проявляются), морфологическим (как выглядят), гистологическим (из чего состоят) и другим признакам.\n",
        "\n",
        "По размеру:\n",
        "\n",
        "мелкие — от 1–2 мм до 1 см, часто не вызывают симптомов;\n",
        "крупные — достигают 3–4 см, могут провоцировать воспаления, кровотечения и нарушение работы поражённого органа;\n",
        "гигантские — имеют размер до 10 см, функция поражённого органа полностью утеряна или в значительной степени нарушена.\n",
        "По морфологии (форме):\n",
        "\n",
        "выступающий — скопление клеток возвышается над слизистой оболочкой; может быть на тонкой ножке или на толстом основании;\n",
        "плоский — плоское уплотнение, которое выступает над слизистой оболочкой, находится вровень с поверхностью или частично утоплено в неё.\n",
        "По характеру:\n",
        "\n",
        "множественные — образование сразу нескольких полипов в одной области (такой тип разрастаний характерен, например, для полипоза носа);\n",
        "одиночные (солитарные) — могут быть нормой или указывать на аномальный характер образований.\n",
        "\n"
      ],
      "metadata": {
        "id": "e7y1g3cH1zPD"
      }
    },
    {
      "cell_type": "code",
      "source": [
        "import re\n",
        "import os\n",
        "import random\n",
        "\n",
        "import numpy as np\n",
        "from keras import *\n",
        "from keras.models import *\n",
        "from keras.layers import *\n",
        "from keras.optimizers import *\n",
        "import keras.utils\n",
        "import tensorflow as tf\n",
        "\n",
        "from tensorflow import data as tf_data\n",
        "from tensorflow import image as tf_image\n",
        "from tensorflow import io as tf_io\n",
        "\n",
        "from IPython.display import Image, display\n",
        "from keras.utils import load_img\n",
        "from PIL import ImageOps\n",
        "from PIL import Image as Im"
      ],
      "metadata": {
        "id": "tefba5Fc10zy"
      },
      "execution_count": 1,
      "outputs": []
    },
    {
      "cell_type": "markdown",
      "source": [
        "Распаковка данных\n"
      ],
      "metadata": {
        "id": "vfxrWuV62Gxv"
      }
    },
    {
      "cell_type": "code",
      "source": [
        "!unzip archive.zip"
      ],
      "metadata": {
        "colab": {
          "base_uri": "https://localhost:8080/"
        },
        "id": "Zukistqd2O2r",
        "outputId": "dd69cb49-0836-484c-c397-ef2fb66a2f3b"
      },
      "execution_count": 2,
      "outputs": [
        {
          "output_type": "stream",
          "name": "stdout",
          "text": [
            "Archive:  archive.zip\n",
            "  inflating: Kvasir-Capsule/2104.11138.pdf  \n",
            "  inflating: Kvasir-Capsule/annotated_images/131368cc17e44240_28955.jpg  \n",
            "  inflating: Kvasir-Capsule/annotated_images/131368cc17e44240_28956.jpg  \n",
            "  inflating: Kvasir-Capsule/annotated_images/131368cc17e44240_28957.jpg  \n",
            "  inflating: Kvasir-Capsule/annotated_images/131368cc17e44240_28958.jpg  \n",
            "  inflating: Kvasir-Capsule/annotated_images/131368cc17e44240_28959.jpg  \n",
            "  inflating: Kvasir-Capsule/annotated_images/131368cc17e44240_28960.jpg  \n",
            "  inflating: Kvasir-Capsule/annotated_images/131368cc17e44240_28961.jpg  \n",
            "  inflating: Kvasir-Capsule/annotated_images/131368cc17e44240_28962.jpg  \n",
            "  inflating: Kvasir-Capsule/annotated_images/131368cc17e44240_28963.jpg  \n",
            "  inflating: Kvasir-Capsule/annotated_images/131368cc17e44240_28964.jpg  \n",
            "  inflating: Kvasir-Capsule/annotated_images/131368cc17e44240_28965.jpg  \n",
            "  inflating: Kvasir-Capsule/annotated_images/131368cc17e44240_28966.jpg  \n",
            "  inflating: Kvasir-Capsule/annotated_images/131368cc17e44240_28967.jpg  \n",
            "  inflating: Kvasir-Capsule/annotated_images/131368cc17e44240_28968.jpg  \n",
            "  inflating: Kvasir-Capsule/annotated_images/131368cc17e44240_28969.jpg  \n",
            "  inflating: Kvasir-Capsule/annotated_images/131368cc17e44240_28970.jpg  \n",
            "  inflating: Kvasir-Capsule/annotated_images/131368cc17e44240_28971.jpg  \n",
            "  inflating: Kvasir-Capsule/annotated_images/131368cc17e44240_28972.jpg  \n",
            "  inflating: Kvasir-Capsule/annotated_images/131368cc17e44240_28973.jpg  \n",
            "  inflating: Kvasir-Capsule/annotated_images/131368cc17e44240_28974.jpg  \n",
            "  inflating: Kvasir-Capsule/annotated_images/131368cc17e44240_28975.jpg  \n",
            "  inflating: Kvasir-Capsule/annotated_images/131368cc17e44240_28976.jpg  \n",
            "  inflating: Kvasir-Capsule/annotated_images/131368cc17e44240_28977.jpg  \n",
            "  inflating: Kvasir-Capsule/annotated_images/131368cc17e44240_28978.jpg  \n",
            "  inflating: Kvasir-Capsule/annotated_images/131368cc17e44240_28979.jpg  \n",
            "  inflating: Kvasir-Capsule/annotated_images/131368cc17e44240_28980.jpg  \n",
            "  inflating: Kvasir-Capsule/annotated_images/131368cc17e44240_28981.jpg  \n",
            "  inflating: Kvasir-Capsule/annotated_images/131368cc17e44240_28982.jpg  \n",
            "  inflating: Kvasir-Capsule/annotated_images/131368cc17e44240_28983.jpg  \n",
            "  inflating: Kvasir-Capsule/annotated_images/131368cc17e44240_28984.jpg  \n",
            "  inflating: Kvasir-Capsule/annotated_images/131368cc17e44240_28985.jpg  \n",
            "  inflating: Kvasir-Capsule/annotated_images/131368cc17e44240_28986.jpg  \n",
            "  inflating: Kvasir-Capsule/annotated_images/131368cc17e44240_28987.jpg  \n",
            "  inflating: Kvasir-Capsule/annotated_images/131368cc17e44240_28994.jpg  \n",
            "  inflating: Kvasir-Capsule/annotated_images/131368cc17e44240_28995.jpg  \n",
            "  inflating: Kvasir-Capsule/annotated_images/131368cc17e44240_28996.jpg  \n",
            "  inflating: Kvasir-Capsule/annotated_images/131368cc17e44240_28997.jpg  \n",
            "  inflating: Kvasir-Capsule/annotated_images/131368cc17e44240_28998.jpg  \n",
            "  inflating: Kvasir-Capsule/annotated_images/131368cc17e44240_28999.jpg  \n",
            "  inflating: Kvasir-Capsule/annotated_images/131368cc17e44240_29000.jpg  \n",
            "  inflating: Kvasir-Capsule/annotated_images/131368cc17e44240_29001.jpg  \n",
            "  inflating: Kvasir-Capsule/annotated_images/131368cc17e44240_29002.jpg  \n",
            "  inflating: Kvasir-Capsule/annotated_images/131368cc17e44240_29003.jpg  \n",
            "  inflating: Kvasir-Capsule/annotated_images/131368cc17e44240_29004.jpg  \n",
            "  inflating: Kvasir-Capsule/annotated_images/131368cc17e44240_29005.jpg  \n",
            "  inflating: Kvasir-Capsule/annotated_images/131368cc17e44240_29006.jpg  \n",
            "  inflating: Kvasir-Capsule/annotated_images/131368cc17e44240_29007.jpg  \n",
            "  inflating: Kvasir-Capsule/annotated_images/131368cc17e44240_29008.jpg  \n",
            "  inflating: Kvasir-Capsule/annotated_images/131368cc17e44240_29009.jpg  \n",
            "  inflating: Kvasir-Capsule/annotated_images/131368cc17e44240_29010.jpg  \n",
            "  inflating: Kvasir-Capsule/annotated_images/131368cc17e44240_29011.jpg  \n",
            "  inflating: Kvasir-Capsule/annotated_images/131368cc17e44240_29012.jpg  \n",
            "  inflating: Kvasir-Capsule/annotated_images/131368cc17e44240_29013.jpg  \n",
            "  inflating: Kvasir-Capsule/annotated_images/131368cc17e44240_29014.jpg  \n",
            "  inflating: Kvasir-Capsule/annotated_images/131368cc17e44240_29015.jpg  \n",
            "  inflating: Kvasir-Capsule/bbox/131368cc17e44240_28955.csv  \n",
            "  inflating: Kvasir-Capsule/bbox/131368cc17e44240_28956.csv  \n",
            "  inflating: Kvasir-Capsule/bbox/131368cc17e44240_28957.csv  \n",
            "  inflating: Kvasir-Capsule/bbox/131368cc17e44240_28958.csv  \n",
            "  inflating: Kvasir-Capsule/bbox/131368cc17e44240_28959.csv  \n",
            "  inflating: Kvasir-Capsule/bbox/131368cc17e44240_28960.csv  \n",
            "  inflating: Kvasir-Capsule/bbox/131368cc17e44240_28961.csv  \n",
            "  inflating: Kvasir-Capsule/bbox/131368cc17e44240_28962.csv  \n",
            "  inflating: Kvasir-Capsule/bbox/131368cc17e44240_28963.csv  \n",
            "  inflating: Kvasir-Capsule/bbox/131368cc17e44240_28964.csv  \n",
            "  inflating: Kvasir-Capsule/bbox/131368cc17e44240_28965.csv  \n",
            "  inflating: Kvasir-Capsule/bbox/131368cc17e44240_28966.csv  \n",
            "  inflating: Kvasir-Capsule/bbox/131368cc17e44240_28967.csv  \n",
            "  inflating: Kvasir-Capsule/bbox/131368cc17e44240_28968.csv  \n",
            "  inflating: Kvasir-Capsule/bbox/131368cc17e44240_28969.csv  \n",
            "  inflating: Kvasir-Capsule/bbox/131368cc17e44240_28970.csv  \n",
            "  inflating: Kvasir-Capsule/bbox/131368cc17e44240_28971.csv  \n",
            "  inflating: Kvasir-Capsule/bbox/131368cc17e44240_28972.csv  \n",
            "  inflating: Kvasir-Capsule/bbox/131368cc17e44240_28973.csv  \n",
            "  inflating: Kvasir-Capsule/bbox/131368cc17e44240_28974.csv  \n",
            "  inflating: Kvasir-Capsule/bbox/131368cc17e44240_28975.csv  \n",
            "  inflating: Kvasir-Capsule/bbox/131368cc17e44240_28976.csv  \n",
            "  inflating: Kvasir-Capsule/bbox/131368cc17e44240_28977.csv  \n",
            "  inflating: Kvasir-Capsule/bbox/131368cc17e44240_28978.csv  \n",
            "  inflating: Kvasir-Capsule/bbox/131368cc17e44240_28979.csv  \n",
            "  inflating: Kvasir-Capsule/bbox/131368cc17e44240_28980.csv  \n",
            "  inflating: Kvasir-Capsule/bbox/131368cc17e44240_28981.csv  \n",
            "  inflating: Kvasir-Capsule/bbox/131368cc17e44240_28982.csv  \n",
            "  inflating: Kvasir-Capsule/bbox/131368cc17e44240_28983.csv  \n",
            "  inflating: Kvasir-Capsule/bbox/131368cc17e44240_28984.csv  \n",
            "  inflating: Kvasir-Capsule/bbox/131368cc17e44240_28985.csv  \n",
            "  inflating: Kvasir-Capsule/bbox/131368cc17e44240_28986.csv  \n",
            "  inflating: Kvasir-Capsule/bbox/131368cc17e44240_28987.csv  \n",
            "  inflating: Kvasir-Capsule/bbox/131368cc17e44240_28994.csv  \n",
            "  inflating: Kvasir-Capsule/bbox/131368cc17e44240_28995.csv  \n",
            "  inflating: Kvasir-Capsule/bbox/131368cc17e44240_28996.csv  \n",
            "  inflating: Kvasir-Capsule/bbox/131368cc17e44240_28997.csv  \n",
            "  inflating: Kvasir-Capsule/bbox/131368cc17e44240_28998.csv  \n",
            "  inflating: Kvasir-Capsule/bbox/131368cc17e44240_28999.csv  \n",
            "  inflating: Kvasir-Capsule/bbox/131368cc17e44240_29000.csv  \n",
            "  inflating: Kvasir-Capsule/bbox/131368cc17e44240_29001.csv  \n",
            "  inflating: Kvasir-Capsule/bbox/131368cc17e44240_29002.csv  \n",
            "  inflating: Kvasir-Capsule/bbox/131368cc17e44240_29003.csv  \n",
            "  inflating: Kvasir-Capsule/bbox/131368cc17e44240_29004.csv  \n",
            "  inflating: Kvasir-Capsule/bbox/131368cc17e44240_29005.csv  \n",
            "  inflating: Kvasir-Capsule/bbox/131368cc17e44240_29006.csv  \n",
            "  inflating: Kvasir-Capsule/bbox/131368cc17e44240_29007.csv  \n",
            "  inflating: Kvasir-Capsule/bbox/131368cc17e44240_29008.csv  \n",
            "  inflating: Kvasir-Capsule/bbox/131368cc17e44240_29009.csv  \n",
            "  inflating: Kvasir-Capsule/bbox/131368cc17e44240_29010.csv  \n",
            "  inflating: Kvasir-Capsule/bbox/131368cc17e44240_29011.csv  \n",
            "  inflating: Kvasir-Capsule/bbox/131368cc17e44240_29012.csv  \n",
            "  inflating: Kvasir-Capsule/bbox/131368cc17e44240_29013.csv  \n",
            "  inflating: Kvasir-Capsule/bbox/131368cc17e44240_29014.csv  \n",
            "  inflating: Kvasir-Capsule/bbox/131368cc17e44240_29015.csv  \n",
            "  inflating: Kvasir-Capsule/images/131368cc17e44240_28955.jpg  \n",
            "  inflating: Kvasir-Capsule/images/131368cc17e44240_28956.jpg  \n",
            "  inflating: Kvasir-Capsule/images/131368cc17e44240_28957.jpg  \n",
            "  inflating: Kvasir-Capsule/images/131368cc17e44240_28958.jpg  \n",
            "  inflating: Kvasir-Capsule/images/131368cc17e44240_28959.jpg  \n",
            "  inflating: Kvasir-Capsule/images/131368cc17e44240_28960.jpg  \n",
            "  inflating: Kvasir-Capsule/images/131368cc17e44240_28961.jpg  \n",
            "  inflating: Kvasir-Capsule/images/131368cc17e44240_28962.jpg  \n",
            "  inflating: Kvasir-Capsule/images/131368cc17e44240_28963.jpg  \n",
            "  inflating: Kvasir-Capsule/images/131368cc17e44240_28964.jpg  \n",
            "  inflating: Kvasir-Capsule/images/131368cc17e44240_28965.jpg  \n",
            "  inflating: Kvasir-Capsule/images/131368cc17e44240_28966.jpg  \n",
            "  inflating: Kvasir-Capsule/images/131368cc17e44240_28967.jpg  \n",
            "  inflating: Kvasir-Capsule/images/131368cc17e44240_28968.jpg  \n",
            "  inflating: Kvasir-Capsule/images/131368cc17e44240_28969.jpg  \n",
            "  inflating: Kvasir-Capsule/images/131368cc17e44240_28970.jpg  \n",
            "  inflating: Kvasir-Capsule/images/131368cc17e44240_28971.jpg  \n",
            "  inflating: Kvasir-Capsule/images/131368cc17e44240_28972.jpg  \n",
            "  inflating: Kvasir-Capsule/images/131368cc17e44240_28973.jpg  \n",
            "  inflating: Kvasir-Capsule/images/131368cc17e44240_28974.jpg  \n",
            "  inflating: Kvasir-Capsule/images/131368cc17e44240_28975.jpg  \n",
            "  inflating: Kvasir-Capsule/images/131368cc17e44240_28976.jpg  \n",
            "  inflating: Kvasir-Capsule/images/131368cc17e44240_28977.jpg  \n",
            "  inflating: Kvasir-Capsule/images/131368cc17e44240_28978.jpg  \n",
            "  inflating: Kvasir-Capsule/images/131368cc17e44240_28979.jpg  \n",
            "  inflating: Kvasir-Capsule/images/131368cc17e44240_28980.jpg  \n",
            "  inflating: Kvasir-Capsule/images/131368cc17e44240_28981.jpg  \n",
            "  inflating: Kvasir-Capsule/images/131368cc17e44240_28982.jpg  \n",
            "  inflating: Kvasir-Capsule/images/131368cc17e44240_28983.jpg  \n",
            "  inflating: Kvasir-Capsule/images/131368cc17e44240_28984.jpg  \n",
            "  inflating: Kvasir-Capsule/images/131368cc17e44240_28985.jpg  \n",
            "  inflating: Kvasir-Capsule/images/131368cc17e44240_28986.jpg  \n",
            "  inflating: Kvasir-Capsule/images/131368cc17e44240_28987.jpg  \n",
            "  inflating: Kvasir-Capsule/images/131368cc17e44240_28994.jpg  \n",
            "  inflating: Kvasir-Capsule/images/131368cc17e44240_28995.jpg  \n",
            "  inflating: Kvasir-Capsule/images/131368cc17e44240_28996.jpg  \n",
            "  inflating: Kvasir-Capsule/images/131368cc17e44240_28997.jpg  \n",
            "  inflating: Kvasir-Capsule/images/131368cc17e44240_28998.jpg  \n",
            "  inflating: Kvasir-Capsule/images/131368cc17e44240_28999.jpg  \n",
            "  inflating: Kvasir-Capsule/images/131368cc17e44240_29000.jpg  \n",
            "  inflating: Kvasir-Capsule/images/131368cc17e44240_29001.jpg  \n",
            "  inflating: Kvasir-Capsule/images/131368cc17e44240_29002.jpg  \n",
            "  inflating: Kvasir-Capsule/images/131368cc17e44240_29003.jpg  \n",
            "  inflating: Kvasir-Capsule/images/131368cc17e44240_29004.jpg  \n",
            "  inflating: Kvasir-Capsule/images/131368cc17e44240_29005.jpg  \n",
            "  inflating: Kvasir-Capsule/images/131368cc17e44240_29006.jpg  \n",
            "  inflating: Kvasir-Capsule/images/131368cc17e44240_29007.jpg  \n",
            "  inflating: Kvasir-Capsule/images/131368cc17e44240_29008.jpg  \n",
            "  inflating: Kvasir-Capsule/images/131368cc17e44240_29009.jpg  \n",
            "  inflating: Kvasir-Capsule/images/131368cc17e44240_29010.jpg  \n",
            "  inflating: Kvasir-Capsule/images/131368cc17e44240_29011.jpg  \n",
            "  inflating: Kvasir-Capsule/images/131368cc17e44240_29012.jpg  \n",
            "  inflating: Kvasir-Capsule/images/131368cc17e44240_29013.jpg  \n",
            "  inflating: Kvasir-Capsule/images/131368cc17e44240_29014.jpg  \n",
            "  inflating: Kvasir-Capsule/images/131368cc17e44240_29015.jpg  \n",
            "  inflating: Kvasir-Capsule/masks/131368cc17e44240_28955.jpg  \n",
            "  inflating: Kvasir-Capsule/masks/131368cc17e44240_28956.jpg  \n",
            "  inflating: Kvasir-Capsule/masks/131368cc17e44240_28957.jpg  \n",
            "  inflating: Kvasir-Capsule/masks/131368cc17e44240_28958.jpg  \n",
            "  inflating: Kvasir-Capsule/masks/131368cc17e44240_28959.jpg  \n",
            "  inflating: Kvasir-Capsule/masks/131368cc17e44240_28960.jpg  \n",
            "  inflating: Kvasir-Capsule/masks/131368cc17e44240_28961.jpg  \n",
            "  inflating: Kvasir-Capsule/masks/131368cc17e44240_28962.jpg  \n",
            "  inflating: Kvasir-Capsule/masks/131368cc17e44240_28963.jpg  \n",
            "  inflating: Kvasir-Capsule/masks/131368cc17e44240_28964.jpg  \n",
            "  inflating: Kvasir-Capsule/masks/131368cc17e44240_28965.jpg  \n",
            "  inflating: Kvasir-Capsule/masks/131368cc17e44240_28966.jpg  \n",
            "  inflating: Kvasir-Capsule/masks/131368cc17e44240_28967.jpg  \n",
            "  inflating: Kvasir-Capsule/masks/131368cc17e44240_28968.jpg  \n",
            "  inflating: Kvasir-Capsule/masks/131368cc17e44240_28969.jpg  \n",
            "  inflating: Kvasir-Capsule/masks/131368cc17e44240_28970.jpg  \n",
            "  inflating: Kvasir-Capsule/masks/131368cc17e44240_28971.jpg  \n",
            "  inflating: Kvasir-Capsule/masks/131368cc17e44240_28972.jpg  \n",
            "  inflating: Kvasir-Capsule/masks/131368cc17e44240_28973.jpg  \n",
            "  inflating: Kvasir-Capsule/masks/131368cc17e44240_28974.jpg  \n",
            "  inflating: Kvasir-Capsule/masks/131368cc17e44240_28975.jpg  \n",
            "  inflating: Kvasir-Capsule/masks/131368cc17e44240_28976.jpg  \n",
            "  inflating: Kvasir-Capsule/masks/131368cc17e44240_28977.jpg  \n",
            "  inflating: Kvasir-Capsule/masks/131368cc17e44240_28978.jpg  \n",
            "  inflating: Kvasir-Capsule/masks/131368cc17e44240_28979.jpg  \n",
            "  inflating: Kvasir-Capsule/masks/131368cc17e44240_28980.jpg  \n",
            "  inflating: Kvasir-Capsule/masks/131368cc17e44240_28981.jpg  \n",
            "  inflating: Kvasir-Capsule/masks/131368cc17e44240_28982.jpg  \n",
            "  inflating: Kvasir-Capsule/masks/131368cc17e44240_28983.jpg  \n",
            "  inflating: Kvasir-Capsule/masks/131368cc17e44240_28984.jpg  \n",
            "  inflating: Kvasir-Capsule/masks/131368cc17e44240_28985.jpg  \n",
            "  inflating: Kvasir-Capsule/masks/131368cc17e44240_28986.jpg  \n",
            "  inflating: Kvasir-Capsule/masks/131368cc17e44240_28987.jpg  \n",
            "  inflating: Kvasir-Capsule/masks/131368cc17e44240_28994.jpg  \n",
            "  inflating: Kvasir-Capsule/masks/131368cc17e44240_28995.jpg  \n",
            "  inflating: Kvasir-Capsule/masks/131368cc17e44240_28996.jpg  \n",
            "  inflating: Kvasir-Capsule/masks/131368cc17e44240_28997.jpg  \n",
            "  inflating: Kvasir-Capsule/masks/131368cc17e44240_28998.jpg  \n",
            "  inflating: Kvasir-Capsule/masks/131368cc17e44240_28999.jpg  \n",
            "  inflating: Kvasir-Capsule/masks/131368cc17e44240_29000.jpg  \n",
            "  inflating: Kvasir-Capsule/masks/131368cc17e44240_29001.jpg  \n",
            "  inflating: Kvasir-Capsule/masks/131368cc17e44240_29002.jpg  \n",
            "  inflating: Kvasir-Capsule/masks/131368cc17e44240_29003.jpg  \n",
            "  inflating: Kvasir-Capsule/masks/131368cc17e44240_29004.jpg  \n",
            "  inflating: Kvasir-Capsule/masks/131368cc17e44240_29005.jpg  \n",
            "  inflating: Kvasir-Capsule/masks/131368cc17e44240_29006.jpg  \n",
            "  inflating: Kvasir-Capsule/masks/131368cc17e44240_29007.jpg  \n",
            "  inflating: Kvasir-Capsule/masks/131368cc17e44240_29008.jpg  \n",
            "  inflating: Kvasir-Capsule/masks/131368cc17e44240_29009.jpg  \n",
            "  inflating: Kvasir-Capsule/masks/131368cc17e44240_29010.jpg  \n",
            "  inflating: Kvasir-Capsule/masks/131368cc17e44240_29011.jpg  \n",
            "  inflating: Kvasir-Capsule/masks/131368cc17e44240_29012.jpg  \n",
            "  inflating: Kvasir-Capsule/masks/131368cc17e44240_29013.jpg  \n",
            "  inflating: Kvasir-Capsule/masks/131368cc17e44240_29014.jpg  \n",
            "  inflating: Kvasir-Capsule/masks/131368cc17e44240_29015.jpg  \n"
          ]
        }
      ]
    },
    {
      "cell_type": "markdown",
      "source": [
        "Создаем списки путей к изображениям в  input_dir и маскам в target_dir"
      ],
      "metadata": {
        "id": "bsnVewKX2VWq"
      }
    },
    {
      "cell_type": "code",
      "source": [
        "BASE_PATH = \"Kvasir-Capsule\"\n",
        "input_dir = BASE_PATH + \"/images/\"\n",
        "target_dir = BASE_PATH + \"/masks/\"\n",
        "img_size = (160, 160)\n",
        "batch_size = 2"
      ],
      "metadata": {
        "id": "ixirJIcf2WHo"
      },
      "execution_count": 3,
      "outputs": []
    },
    {
      "cell_type": "code",
      "source": [
        "input_img_paths = sorted(\n",
        "    [\n",
        "        os.path.join(input_dir, fname)\n",
        "        for fname in os.listdir(input_dir)\n",
        "        if fname.endswith(\".jpg\")\n",
        "    ]\n",
        ")\n",
        "target_img_paths = sorted(\n",
        "    [\n",
        "        os.path.join(target_dir, fname)\n",
        "        for fname in os.listdir(target_dir)\n",
        "        if fname.endswith(\".jpg\") and not fname.startswith(\".\")\n",
        "    ]\n",
        ")"
      ],
      "metadata": {
        "id": "O51MRtdW2ZSV"
      },
      "execution_count": 4,
      "outputs": []
    },
    {
      "cell_type": "markdown",
      "source": [
        "Уменьшаем размер изображений, чтобы они поместились в модель\n",
        "и перезаписываем  изображений .jpg на .png."
      ],
      "metadata": {
        "id": "Q_JWSf1J2h-2"
      }
    },
    {
      "cell_type": "code",
      "source": [
        "def resize_image(img_path, size):\n",
        "    image = Im.open(img_path)\n",
        "    new_image = image.resize(size)\n",
        "    new_image.save(img_path + \".png\", \"PNG\")\n",
        "\n",
        "for input_path in input_img_paths:\n",
        "    resize_image(input_path, size=img_size)\n",
        "for input_path in target_img_paths:\n",
        "    resize_image(input_path, size=img_size)"
      ],
      "metadata": {
        "id": "UYzDv0QN2ikP"
      },
      "execution_count": 5,
      "outputs": []
    },
    {
      "cell_type": "code",
      "source": [
        "input_img_paths = sorted(\n",
        "    [\n",
        "        os.path.join(input_dir, fname)\n",
        "        for fname in os.listdir(input_dir)\n",
        "        if fname.endswith(\".png\")\n",
        "    ]\n",
        ")\n",
        "target_img_paths = sorted(\n",
        "    [\n",
        "        os.path.join(target_dir, fname)\n",
        "        for fname in os.listdir(target_dir)\n",
        "        if fname.endswith(\".png\") and not fname.startswith(\".\")\n",
        "    ]\n",
        ")\n",
        "\n",
        "print(\"Number of samples:\", len(input_img_paths))\n",
        "\n",
        "for input_path, target_path in zip(input_img_paths[:20], target_img_paths[:20]):\n",
        "    print(input_path, \"|\", target_path)"
      ],
      "metadata": {
        "colab": {
          "base_uri": "https://localhost:8080/"
        },
        "id": "ywuryck52mvi",
        "outputId": "7d04c54c-6b4a-40c1-e88a-533be95ebde0"
      },
      "execution_count": 6,
      "outputs": [
        {
          "output_type": "stream",
          "name": "stdout",
          "text": [
            "Number of samples: 55\n",
            "Kvasir-Capsule/images/131368cc17e44240_28955.jpg.png | Kvasir-Capsule/masks/131368cc17e44240_28955.jpg.png\n",
            "Kvasir-Capsule/images/131368cc17e44240_28956.jpg.png | Kvasir-Capsule/masks/131368cc17e44240_28956.jpg.png\n",
            "Kvasir-Capsule/images/131368cc17e44240_28957.jpg.png | Kvasir-Capsule/masks/131368cc17e44240_28957.jpg.png\n",
            "Kvasir-Capsule/images/131368cc17e44240_28958.jpg.png | Kvasir-Capsule/masks/131368cc17e44240_28958.jpg.png\n",
            "Kvasir-Capsule/images/131368cc17e44240_28959.jpg.png | Kvasir-Capsule/masks/131368cc17e44240_28959.jpg.png\n",
            "Kvasir-Capsule/images/131368cc17e44240_28960.jpg.png | Kvasir-Capsule/masks/131368cc17e44240_28960.jpg.png\n",
            "Kvasir-Capsule/images/131368cc17e44240_28961.jpg.png | Kvasir-Capsule/masks/131368cc17e44240_28961.jpg.png\n",
            "Kvasir-Capsule/images/131368cc17e44240_28962.jpg.png | Kvasir-Capsule/masks/131368cc17e44240_28962.jpg.png\n",
            "Kvasir-Capsule/images/131368cc17e44240_28963.jpg.png | Kvasir-Capsule/masks/131368cc17e44240_28963.jpg.png\n",
            "Kvasir-Capsule/images/131368cc17e44240_28964.jpg.png | Kvasir-Capsule/masks/131368cc17e44240_28964.jpg.png\n",
            "Kvasir-Capsule/images/131368cc17e44240_28965.jpg.png | Kvasir-Capsule/masks/131368cc17e44240_28965.jpg.png\n",
            "Kvasir-Capsule/images/131368cc17e44240_28966.jpg.png | Kvasir-Capsule/masks/131368cc17e44240_28966.jpg.png\n",
            "Kvasir-Capsule/images/131368cc17e44240_28967.jpg.png | Kvasir-Capsule/masks/131368cc17e44240_28967.jpg.png\n",
            "Kvasir-Capsule/images/131368cc17e44240_28968.jpg.png | Kvasir-Capsule/masks/131368cc17e44240_28968.jpg.png\n",
            "Kvasir-Capsule/images/131368cc17e44240_28969.jpg.png | Kvasir-Capsule/masks/131368cc17e44240_28969.jpg.png\n",
            "Kvasir-Capsule/images/131368cc17e44240_28970.jpg.png | Kvasir-Capsule/masks/131368cc17e44240_28970.jpg.png\n",
            "Kvasir-Capsule/images/131368cc17e44240_28971.jpg.png | Kvasir-Capsule/masks/131368cc17e44240_28971.jpg.png\n",
            "Kvasir-Capsule/images/131368cc17e44240_28972.jpg.png | Kvasir-Capsule/masks/131368cc17e44240_28972.jpg.png\n",
            "Kvasir-Capsule/images/131368cc17e44240_28973.jpg.png | Kvasir-Capsule/masks/131368cc17e44240_28973.jpg.png\n",
            "Kvasir-Capsule/images/131368cc17e44240_28974.jpg.png | Kvasir-Capsule/masks/131368cc17e44240_28974.jpg.png\n"
          ]
        }
      ]
    },
    {
      "cell_type": "markdown",
      "source": [
        "Создаем набор данных TensorFlow из списков путей к изображениям и маскамо, ограничивая размер данных до max_dataset_len.\n",
        "Данные для загрузки и векторизации подготовлены."
      ],
      "metadata": {
        "id": "UE7ra3E02vEU"
      }
    },
    {
      "cell_type": "code",
      "source": [
        "def get_dataset(\n",
        "    batch_size,\n",
        "    img_size,\n",
        "    input_img_paths,\n",
        "    target_img_paths,\n",
        "    max_dataset_len=None,\n",
        "):\n",
        "\n",
        "    def load_img_masks(input_img_path, target_img_path):\n",
        "        input_img = tf_io.read_file(input_img_path)\n",
        "        input_img = tf_io.decode_png(input_img, channels=3)\n",
        "        input_img = tf_image.resize(input_img, img_size)\n",
        "        input_img = tf_image.convert_image_dtype(input_img, \"float32\")\n",
        "\n",
        "        target_img = tf_io.read_file(target_img_path)\n",
        "        target_img = tf_io.decode_png(target_img, channels=1)\n",
        "        target_img = tf_image.resize(target_img, img_size, method=\"nearest\")\n",
        "        target_img = tf.cast(target_img, tf.float32) / 255.\n",
        "\n",
        "        return input_img, target_img\n",
        "\n",
        "\n",
        "    if max_dataset_len:\n",
        "        input_img_paths = input_img_paths[:max_dataset_len]\n",
        "        target_img_paths = target_img_paths[:max_dataset_len]\n",
        "    dataset = tf_data.Dataset.from_tensor_slices((input_img_paths, target_img_paths))\n",
        "    dataset = dataset.map(load_img_masks, num_parallel_calls=tf_data.AUTOTUNE)\n",
        "    return dataset.batch(batch_size)"
      ],
      "metadata": {
        "id": "sc8UjLjh2v1E"
      },
      "execution_count": 7,
      "outputs": []
    },
    {
      "cell_type": "markdown",
      "source": [
        "Разделим пути img на обучающий и проверочный набор.\n"
      ],
      "metadata": {
        "id": "QX8tvwb023KF"
      }
    },
    {
      "cell_type": "code",
      "source": [
        "limit = 10\n",
        "\n",
        "\n",
        "val_samples = limit\n",
        "random.Random(42).shuffle(input_img_paths)\n",
        "random.Random(42).shuffle(target_img_paths)\n",
        "train_input_img_paths = input_img_paths[:-val_samples]\n",
        "train_target_img_paths = target_img_paths[:-val_samples]\n",
        "val_input_img_paths = input_img_paths[-val_samples:]\n",
        "val_target_img_paths = target_img_paths[-val_samples:]\n",
        "\n",
        "\n",
        "train_dataset = get_dataset(\n",
        "    batch_size,\n",
        "    img_size,\n",
        "    train_input_img_paths,\n",
        "    train_target_img_paths,\n",
        "    max_dataset_len=limit,\n",
        ")\n",
        "valid_dataset = get_dataset(\n",
        "    batch_size, img_size, val_input_img_paths, val_target_img_paths\n",
        ")"
      ],
      "metadata": {
        "id": "-Xfy-3qU24gB"
      },
      "execution_count": 8,
      "outputs": []
    },
    {
      "cell_type": "markdown",
      "source": [
        "Transfer learning"
      ],
      "metadata": {
        "id": "YeaML2eI2-as"
      }
    },
    {
      "cell_type": "code",
      "source": [
        "OUTPUT_CHANNELS = 3"
      ],
      "metadata": {
        "id": "S4Bf0ImP2_Mx"
      },
      "execution_count": 9,
      "outputs": []
    },
    {
      "cell_type": "code",
      "source": [
        "base_model = tf.keras.applications.MobileNetV2(input_shape=[160, 160, 3], include_top=False)\n",
        "\n",
        "# Use the activations of these layers to form skip connections\n",
        "layer_names = [\n",
        "    'block_1_expand_relu',   # 80x80\n",
        "    'block_3_expand_relu',   # 40x40\n",
        "    'block_6_expand_relu',   # 20x20\n",
        "    'block_13_expand_relu',  # 10x10\n",
        "    'block_16_project',      # 5x5\n",
        "]\n",
        "base_model_outputs = [base_model.get_layer(name).output for name in layer_names]\n",
        "\n",
        "# Create the feature extraction model\n",
        "down_stack = tf.keras.Model(inputs=base_model.input, outputs=base_model_outputs,\n",
        "                            name='pretrained_mobilenet')\n",
        "\n",
        "down_stack.trainable = False"
      ],
      "metadata": {
        "colab": {
          "base_uri": "https://localhost:8080/"
        },
        "id": "mHxAc4nr3Cuz",
        "outputId": "a4b8d365-9c3d-45ed-8cdc-4c6653fa438f"
      },
      "execution_count": 10,
      "outputs": [
        {
          "output_type": "stream",
          "name": "stdout",
          "text": [
            "Downloading data from https://storage.googleapis.com/tensorflow/keras-applications/mobilenet_v2/mobilenet_v2_weights_tf_dim_ordering_tf_kernels_1.0_160_no_top.h5\n",
            "9406464/9406464 [==============================] - 2s 0us/step\n"
          ]
        }
      ]
    },
    {
      "cell_type": "markdown",
      "source": [
        "Увеличиваем масштаб входного изображения в 2 раза с помощью Conv2DTranspose для восстановления исходного размера изображения после того, как оно было уменьшено."
      ],
      "metadata": {
        "id": "OOIZt3SO3K9-"
      }
    },
    {
      "cell_type": "code",
      "source": [
        "def upsample(filters, size, name):\n",
        "    return tf.keras.Sequential([\n",
        "        tf.keras.layers.Conv2DTranspose(filters, size, strides=2, padding='same'),\n",
        "        tf.keras.layers.BatchNormalization(),\n",
        "        tf.keras.layers.ReLU()\n",
        "    ], name=name)\n",
        "\n",
        "up_stack = [\n",
        "    upsample(512, 3, 'upsample_5x5_to_10x10'),\n",
        "    upsample(256, 3, 'upsample_10x10_to_20x20'),\n",
        "    upsample(128, 3, 'upsample_20x20_to_40x40'),\n",
        "    upsample(64, 3,  'upsample_40x40_to_80x80')\n",
        "]"
      ],
      "metadata": {
        "id": "aKb4_iKr3MKR"
      },
      "execution_count": 11,
      "outputs": []
    },
    {
      "cell_type": "markdown",
      "source": [
        "Создаем модель U-Net для сегментации изображений. Модель принимает входное изображение с размером 160x160x3 и возвращает изображение с тем же размером."
      ],
      "metadata": {
        "id": "SU40q14Q3Saf"
      }
    },
    {
      "cell_type": "code",
      "source": [
        "def unet_model(output_channels):\n",
        "    inputs = tf.keras.layers.Input(shape=[160, 160, 3], name='input_image')\n",
        "\n",
        "    # Downsampling through the model\n",
        "    skips = down_stack(inputs)\n",
        "    x = skips[-1]\n",
        "    skips = reversed(skips[:-1])\n",
        "\n",
        "    # Upsampling and establishing the skip connections\n",
        "    for idx, (up, skip) in enumerate(zip(up_stack, skips)):\n",
        "        x = up(x)\n",
        "        concat = tf.keras.layers.Concatenate(name='expand_{}'.format(idx))\n",
        "        x = concat([x, skip])\n",
        "\n",
        "    # This is the last layer of the model\n",
        "    last = tf.keras.layers.Conv2DTranspose(\n",
        "        output_channels, 3, strides=2, padding='same'\n",
        "    )  #80x80 -> 160x160\n",
        "\n",
        "    x = last(x)\n",
        "\n",
        "    return tf.keras.Model(inputs=inputs, outputs=x)"
      ],
      "metadata": {
        "id": "e-DNqAyn3TLo"
      },
      "execution_count": 13,
      "outputs": []
    },
    {
      "cell_type": "markdown",
      "source": [
        "model принимает входное изображение с тремя каналами (RGB) и возвращает изображение с одним каналом, представляющим маску."
      ],
      "metadata": {
        "id": "_DjVJRCj3dWL"
      }
    },
    {
      "cell_type": "code",
      "source": [
        "model = unet_model(OUTPUT_CHANNELS)\n",
        "model.compile(\n",
        "    optimizer='adam',\n",
        "    loss=tf.keras.losses.SparseCategoricalCrossentropy(from_logits = True),\n",
        "    metrics=['accuracy']\n",
        ")"
      ],
      "metadata": {
        "id": "y3p871XR3eTW"
      },
      "execution_count": 14,
      "outputs": []
    },
    {
      "cell_type": "code",
      "source": [
        "epochs = 60\n",
        "model.fit(\n",
        "    train_dataset,\n",
        "    epochs=epochs,\n",
        "    validation_data=valid_dataset,\n",
        "    verbose=2,\n",
        ")"
      ],
      "metadata": {
        "colab": {
          "base_uri": "https://localhost:8080/"
        },
        "id": "tYL8cd503kBr",
        "outputId": "bcae345d-ec87-4d11-94bc-d7be95488625"
      },
      "execution_count": 15,
      "outputs": [
        {
          "output_type": "stream",
          "name": "stdout",
          "text": [
            "Epoch 1/60\n",
            "5/5 - 11s - loss: 1.0997 - accuracy: 0.4789 - val_loss: 0.6756 - val_accuracy: 0.6756 - 11s/epoch - 2s/step\n",
            "Epoch 2/60\n",
            "5/5 - 0s - loss: 0.5983 - accuracy: 0.7039 - val_loss: 0.6251 - val_accuracy: 0.7602 - 265ms/epoch - 53ms/step\n",
            "Epoch 3/60\n",
            "5/5 - 0s - loss: 0.4348 - accuracy: 0.7848 - val_loss: 0.8510 - val_accuracy: 0.7843 - 159ms/epoch - 32ms/step\n",
            "Epoch 4/60\n",
            "5/5 - 0s - loss: 0.3487 - accuracy: 0.8367 - val_loss: 1.0189 - val_accuracy: 0.7945 - 173ms/epoch - 35ms/step\n",
            "Epoch 5/60\n",
            "5/5 - 0s - loss: 0.2863 - accuracy: 0.8699 - val_loss: 1.1483 - val_accuracy: 0.7970 - 168ms/epoch - 34ms/step\n",
            "Epoch 6/60\n",
            "5/5 - 0s - loss: 0.2359 - accuracy: 0.8916 - val_loss: 1.2187 - val_accuracy: 0.7950 - 167ms/epoch - 33ms/step\n",
            "Epoch 7/60\n",
            "5/5 - 0s - loss: 0.1993 - accuracy: 0.9056 - val_loss: 1.2676 - val_accuracy: 0.7924 - 170ms/epoch - 34ms/step\n",
            "Epoch 8/60\n",
            "5/5 - 0s - loss: 0.1701 - accuracy: 0.9163 - val_loss: 1.2200 - val_accuracy: 0.7943 - 154ms/epoch - 31ms/step\n",
            "Epoch 9/60\n",
            "5/5 - 0s - loss: 0.1500 - accuracy: 0.9229 - val_loss: 1.1978 - val_accuracy: 0.7995 - 158ms/epoch - 32ms/step\n",
            "Epoch 10/60\n",
            "5/5 - 0s - loss: 0.1359 - accuracy: 0.9264 - val_loss: 1.1739 - val_accuracy: 0.8026 - 171ms/epoch - 34ms/step\n",
            "Epoch 11/60\n",
            "5/5 - 0s - loss: 0.1311 - accuracy: 0.9267 - val_loss: 1.0719 - val_accuracy: 0.8012 - 167ms/epoch - 33ms/step\n",
            "Epoch 12/60\n",
            "5/5 - 0s - loss: 0.1185 - accuracy: 0.9322 - val_loss: 0.9410 - val_accuracy: 0.8149 - 173ms/epoch - 35ms/step\n",
            "Epoch 13/60\n",
            "5/5 - 0s - loss: 0.1074 - accuracy: 0.9363 - val_loss: 0.9256 - val_accuracy: 0.8136 - 166ms/epoch - 33ms/step\n",
            "Epoch 14/60\n",
            "5/5 - 0s - loss: 0.0970 - accuracy: 0.9411 - val_loss: 0.7892 - val_accuracy: 0.8225 - 160ms/epoch - 32ms/step\n",
            "Epoch 15/60\n",
            "5/5 - 0s - loss: 0.0881 - accuracy: 0.9430 - val_loss: 0.7435 - val_accuracy: 0.8265 - 162ms/epoch - 32ms/step\n",
            "Epoch 16/60\n",
            "5/5 - 0s - loss: 0.0911 - accuracy: 0.9394 - val_loss: 0.8161 - val_accuracy: 0.8143 - 154ms/epoch - 31ms/step\n",
            "Epoch 17/60\n",
            "5/5 - 0s - loss: 0.0832 - accuracy: 0.9425 - val_loss: 0.8324 - val_accuracy: 0.8151 - 151ms/epoch - 30ms/step\n",
            "Epoch 18/60\n",
            "5/5 - 0s - loss: 0.0910 - accuracy: 0.9381 - val_loss: 0.6909 - val_accuracy: 0.8313 - 147ms/epoch - 29ms/step\n",
            "Epoch 19/60\n",
            "5/5 - 0s - loss: 0.0736 - accuracy: 0.9461 - val_loss: 0.5654 - val_accuracy: 0.8503 - 142ms/epoch - 28ms/step\n",
            "Epoch 20/60\n",
            "5/5 - 0s - loss: 0.0690 - accuracy: 0.9482 - val_loss: 0.6286 - val_accuracy: 0.8392 - 157ms/epoch - 31ms/step\n",
            "Epoch 21/60\n",
            "5/5 - 0s - loss: 0.0601 - accuracy: 0.9515 - val_loss: 0.5718 - val_accuracy: 0.8448 - 141ms/epoch - 28ms/step\n",
            "Epoch 22/60\n",
            "5/5 - 0s - loss: 0.0552 - accuracy: 0.9532 - val_loss: 0.5190 - val_accuracy: 0.8508 - 157ms/epoch - 31ms/step\n",
            "Epoch 23/60\n",
            "5/5 - 0s - loss: 0.0511 - accuracy: 0.9533 - val_loss: 0.5181 - val_accuracy: 0.8493 - 138ms/epoch - 28ms/step\n",
            "Epoch 24/60\n",
            "5/5 - 0s - loss: 0.0477 - accuracy: 0.9540 - val_loss: 0.4532 - val_accuracy: 0.8598 - 139ms/epoch - 28ms/step\n",
            "Epoch 25/60\n",
            "5/5 - 0s - loss: 0.0457 - accuracy: 0.9546 - val_loss: 0.4765 - val_accuracy: 0.8552 - 156ms/epoch - 31ms/step\n",
            "Epoch 26/60\n",
            "5/5 - 0s - loss: 0.0444 - accuracy: 0.9546 - val_loss: 0.4496 - val_accuracy: 0.8594 - 149ms/epoch - 30ms/step\n",
            "Epoch 27/60\n",
            "5/5 - 0s - loss: 0.0447 - accuracy: 0.9543 - val_loss: 0.4204 - val_accuracy: 0.8641 - 141ms/epoch - 28ms/step\n",
            "Epoch 28/60\n",
            "5/5 - 0s - loss: 0.0437 - accuracy: 0.9548 - val_loss: 0.4023 - val_accuracy: 0.8689 - 156ms/epoch - 31ms/step\n",
            "Epoch 29/60\n",
            "5/5 - 0s - loss: 0.0449 - accuracy: 0.9537 - val_loss: 0.4309 - val_accuracy: 0.8641 - 158ms/epoch - 32ms/step\n",
            "Epoch 30/60\n",
            "5/5 - 0s - loss: 0.0462 - accuracy: 0.9537 - val_loss: 0.3940 - val_accuracy: 0.8695 - 138ms/epoch - 28ms/step\n",
            "Epoch 31/60\n",
            "5/5 - 0s - loss: 0.0457 - accuracy: 0.9542 - val_loss: 0.4077 - val_accuracy: 0.8694 - 259ms/epoch - 52ms/step\n",
            "Epoch 32/60\n",
            "5/5 - 0s - loss: 0.0424 - accuracy: 0.9540 - val_loss: 0.3782 - val_accuracy: 0.8736 - 206ms/epoch - 41ms/step\n",
            "Epoch 33/60\n",
            "5/5 - 0s - loss: 0.0413 - accuracy: 0.9542 - val_loss: 0.3660 - val_accuracy: 0.8749 - 190ms/epoch - 38ms/step\n",
            "Epoch 34/60\n",
            "5/5 - 0s - loss: 0.0389 - accuracy: 0.9559 - val_loss: 0.3647 - val_accuracy: 0.8760 - 292ms/epoch - 58ms/step\n",
            "Epoch 35/60\n",
            "5/5 - 0s - loss: 0.0388 - accuracy: 0.9552 - val_loss: 0.3991 - val_accuracy: 0.8700 - 301ms/epoch - 60ms/step\n",
            "Epoch 36/60\n",
            "5/5 - 0s - loss: 0.0376 - accuracy: 0.9553 - val_loss: 0.3396 - val_accuracy: 0.8786 - 184ms/epoch - 37ms/step\n",
            "Epoch 37/60\n",
            "5/5 - 0s - loss: 0.0389 - accuracy: 0.9555 - val_loss: 0.3853 - val_accuracy: 0.8723 - 164ms/epoch - 33ms/step\n",
            "Epoch 38/60\n",
            "5/5 - 0s - loss: 0.0410 - accuracy: 0.9539 - val_loss: 0.3743 - val_accuracy: 0.8749 - 162ms/epoch - 32ms/step\n",
            "Epoch 39/60\n",
            "5/5 - 0s - loss: 0.0397 - accuracy: 0.9548 - val_loss: 0.3438 - val_accuracy: 0.8772 - 174ms/epoch - 35ms/step\n",
            "Epoch 40/60\n",
            "5/5 - 0s - loss: 0.0387 - accuracy: 0.9551 - val_loss: 0.3888 - val_accuracy: 0.8741 - 159ms/epoch - 32ms/step\n",
            "Epoch 41/60\n",
            "5/5 - 0s - loss: 0.0383 - accuracy: 0.9549 - val_loss: 0.3571 - val_accuracy: 0.8774 - 172ms/epoch - 34ms/step\n",
            "Epoch 42/60\n",
            "5/5 - 0s - loss: 0.0363 - accuracy: 0.9551 - val_loss: 0.3458 - val_accuracy: 0.8780 - 166ms/epoch - 33ms/step\n",
            "Epoch 43/60\n",
            "5/5 - 0s - loss: 0.0364 - accuracy: 0.9557 - val_loss: 0.3730 - val_accuracy: 0.8753 - 165ms/epoch - 33ms/step\n",
            "Epoch 44/60\n",
            "5/5 - 0s - loss: 0.0362 - accuracy: 0.9558 - val_loss: 0.3492 - val_accuracy: 0.8781 - 154ms/epoch - 31ms/step\n",
            "Epoch 45/60\n",
            "5/5 - 0s - loss: 0.0338 - accuracy: 0.9554 - val_loss: 0.3554 - val_accuracy: 0.8773 - 156ms/epoch - 31ms/step\n",
            "Epoch 46/60\n",
            "5/5 - 0s - loss: 0.0323 - accuracy: 0.9575 - val_loss: 0.3343 - val_accuracy: 0.8780 - 143ms/epoch - 29ms/step\n",
            "Epoch 47/60\n",
            "5/5 - 0s - loss: 0.0309 - accuracy: 0.9560 - val_loss: 0.3533 - val_accuracy: 0.8766 - 162ms/epoch - 32ms/step\n",
            "Epoch 48/60\n",
            "5/5 - 0s - loss: 0.0305 - accuracy: 0.9575 - val_loss: 0.3310 - val_accuracy: 0.8782 - 146ms/epoch - 29ms/step\n",
            "Epoch 49/60\n",
            "5/5 - 0s - loss: 0.0293 - accuracy: 0.9570 - val_loss: 0.3385 - val_accuracy: 0.8790 - 168ms/epoch - 34ms/step\n",
            "Epoch 50/60\n",
            "5/5 - 0s - loss: 0.0289 - accuracy: 0.9574 - val_loss: 0.3296 - val_accuracy: 0.8773 - 143ms/epoch - 29ms/step\n",
            "Epoch 51/60\n",
            "5/5 - 0s - loss: 0.0279 - accuracy: 0.9573 - val_loss: 0.3287 - val_accuracy: 0.8794 - 162ms/epoch - 32ms/step\n",
            "Epoch 52/60\n",
            "5/5 - 0s - loss: 0.0273 - accuracy: 0.9575 - val_loss: 0.3343 - val_accuracy: 0.8778 - 151ms/epoch - 30ms/step\n",
            "Epoch 53/60\n",
            "5/5 - 0s - loss: 0.0262 - accuracy: 0.9578 - val_loss: 0.3235 - val_accuracy: 0.8790 - 144ms/epoch - 29ms/step\n",
            "Epoch 54/60\n",
            "5/5 - 0s - loss: 0.0257 - accuracy: 0.9578 - val_loss: 0.3352 - val_accuracy: 0.8779 - 146ms/epoch - 29ms/step\n",
            "Epoch 55/60\n",
            "5/5 - 0s - loss: 0.0256 - accuracy: 0.9581 - val_loss: 0.3281 - val_accuracy: 0.8793 - 156ms/epoch - 31ms/step\n",
            "Epoch 56/60\n",
            "5/5 - 0s - loss: 0.0258 - accuracy: 0.9573 - val_loss: 0.3274 - val_accuracy: 0.8778 - 162ms/epoch - 32ms/step\n",
            "Epoch 57/60\n",
            "5/5 - 0s - loss: 0.0249 - accuracy: 0.9579 - val_loss: 0.3320 - val_accuracy: 0.8749 - 167ms/epoch - 33ms/step\n",
            "Epoch 58/60\n",
            "5/5 - 0s - loss: 0.0259 - accuracy: 0.9577 - val_loss: 0.3371 - val_accuracy: 0.8773 - 164ms/epoch - 33ms/step\n",
            "Epoch 59/60\n",
            "5/5 - 0s - loss: 0.0247 - accuracy: 0.9579 - val_loss: 0.3423 - val_accuracy: 0.8775 - 168ms/epoch - 34ms/step\n",
            "Epoch 60/60\n",
            "5/5 - 0s - loss: 0.0248 - accuracy: 0.9578 - val_loss: 0.3269 - val_accuracy: 0.8769 - 151ms/epoch - 30ms/step\n"
          ]
        },
        {
          "output_type": "execute_result",
          "data": {
            "text/plain": [
              "<keras.src.callbacks.History at 0x7cbbb4122ef0>"
            ]
          },
          "metadata": {},
          "execution_count": 15
        }
      ]
    },
    {
      "cell_type": "markdown",
      "source": [
        "Создадим функцию для отображения прогноза модели на изображении."
      ],
      "metadata": {
        "id": "ySXGBsCs4W7D"
      }
    },
    {
      "cell_type": "code",
      "source": [
        "def display_mask(i):\n",
        "\n",
        "    mask = np.argmax(val_preds[i], axis=-1)\n",
        "    mask = np.expand_dims(mask, axis=-1)\n",
        "    img = ImageOps.autocontrast(keras.utils.array_to_img(mask))\n",
        "    img = img.resize((500, 500), Im.LANCZOS)\n",
        "    display(img)"
      ],
      "metadata": {
        "id": "QKCLyOIz4JC2"
      },
      "execution_count": 16,
      "outputs": []
    },
    {
      "cell_type": "code",
      "source": [
        "def check_one_image(i):\n",
        "    # Отображение входного изображения\n",
        "    display(Image(filename=val_input_img_paths[i]))\n",
        "\n",
        "    # Отображение истинной маски и\n",
        "    img = ImageOps.autocontrast(load_img(val_target_img_paths[i]))\n",
        "    display(img)\n",
        "\n",
        "    # Отображение предсказанной маски\n",
        "    display_mask(i)"
      ],
      "metadata": {
        "id": "_aIHCYpt4Ndo"
      },
      "execution_count": 17,
      "outputs": []
    },
    {
      "cell_type": "markdown",
      "source": [
        "Прогноз на валидационном наборе данных."
      ],
      "metadata": {
        "id": "qvgAq6w64uHo"
      }
    },
    {
      "cell_type": "code",
      "source": [
        "val_preds = model.predict(valid_dataset)"
      ],
      "metadata": {
        "colab": {
          "base_uri": "https://localhost:8080/"
        },
        "id": "WEQ0Nsp-4lmZ",
        "outputId": "5ea6a8c2-2bb0-4ad2-f0a5-4e5d23b411f7"
      },
      "execution_count": 18,
      "outputs": [
        {
          "output_type": "stream",
          "name": "stdout",
          "text": [
            "5/5 [==============================] - 1s 10ms/step\n"
          ]
        }
      ]
    },
    {
      "cell_type": "code",
      "source": [
        "check_one_image(9)"
      ],
      "metadata": {
        "colab": {
          "base_uri": "https://localhost:8080/",
          "height": 837
        },
        "id": "T9VcFI7o40Q1",
        "outputId": "91667701-b124-4fc4-f0c5-301229732038"
      },
      "execution_count": 23,
      "outputs": [
        {
          "output_type": "display_data",
          "data": {
            "image/png": "[encoded data removed]",
            "text/plain": [
              "<IPython.core.display.Image object>"
            ]
          },
          "metadata": {}
        },
        {
          "output_type": "display_data",
          "data": {
            "text/plain": [
              "<PIL.Image.Image image mode=RGB size=160x160>"
            ],
            "image/png": "[encoded data removed]"
          },
          "metadata": {}
        },
        {
          "output_type": "display_data",
          "data": {
            "text/plain": [
              "<PIL.Image.Image image mode=L size=500x500>"
            ],
            "image/png": "[encoded data removed]"
          },
          "metadata": {}
        }
      ]
    },
    {
      "cell_type": "code",
      "source": [
        "check_one_image(3)"
      ],
      "metadata": {
        "colab": {
          "base_uri": "https://localhost:8080/",
          "height": 837
        },
        "id": "8dSUSGzz4-r8",
        "outputId": "aa230da3-8fe1-47f6-fca4-050899bbf514"
      },
      "execution_count": 21,
      "outputs": [
        {
          "output_type": "display_data",
          "data": {
            "image/png": "[encoded data removed]",
            "text/plain": [
              "<IPython.core.display.Image object>"
            ]
          },
          "metadata": {}
        },
        {
          "output_type": "display_data",
          "data": {
            "text/plain": [
              "<PIL.Image.Image image mode=RGB size=160x160>"
            ],
            "image/png": "[encoded data removed]"
          },
          "metadata": {}
        },
        {
          "output_type": "display_data",
          "data": {
            "text/plain": [
              "<PIL.Image.Image image mode=L size=500x500>"
            ],
            "image/png": "[encoded data removed]"
          },
          "metadata": {}
        }
      ]
    },
    {
      "cell_type": "markdown",
      "source": [
        "У модели val_accuracy: 0.8780 на 20 примерах\n",
        "\n",
        "Создать маску для полипа непросто, тк форма одиноковая, тк полип это доброкачественные образование, то и контуры у него ровные, что и видно по родным маскам, наша модель считавает очертания, но не контур, он вышел зубчатый. Видно, что в местах где тень, более глубокий зубей.\n",
        "\n",
        "Использовать такую модель для первиной диагностики хорошо, чтобы знать сколько образований встретилось на пути исследования и дальше разбираться с ними."
      ],
      "metadata": {
        "id": "Fc4rFOwm6DN0"
      }
    }
  ]
}