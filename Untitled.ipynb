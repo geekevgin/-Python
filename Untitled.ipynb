{
  "nbformat": 4,
  "nbformat_minor": 0,
  "metadata": {
    "colab": {
      "name": "Untitled",
      "provenance": [],
      "authorship_tag": "ABX9TyOvajP212b+Pi/OTiDqKwGA",
      "include_colab_link": true
    },
    "kernelspec": {
      "name": "python3",
      "display_name": "Python 3"
    },
    "language_info": {
      "name": "python"
    }
  },
  "cells": [
    {
      "cell_type": "markdown",
      "metadata": {
        "id": "view-in-github",
        "colab_type": "text"
      },
      "source": [
        "<a href=\"https://colab.research.google.com/github/geekevgin/-Python/blob/main/Untitled.ipynb\" target=\"_parent\"><img src=\"https://colab.research.google.com/assets/colab-badge.svg\" alt=\"Open In Colab\"/></a>"
      ]
    },
    {
      "cell_type": "code",
      "execution_count": 11,
      "metadata": {
        "colab": {
          "base_uri": "https://localhost:8080/",
          "height": 334
        },
        "id": "c7qx4IglT36C",
        "outputId": "cced3bf8-5ed2-47b0-8747-edbdd8209d51"
      },
      "outputs": [
        {
          "output_type": "display_data",
          "data": {
            "image/png": "[encoded data removed]",
            "text/plain": [
              "<Figure size 432x288 with 1 Axes>"
            ]
          },
          "metadata": {
            "needs_background": "light"
          }
        },
        {
          "output_type": "stream",
          "name": "stdout",
          "text": [
            "2.620538882402765\n",
            "444.18129999999996\n",
            "[535.8975 562.1025 942.075  968.28   549.     627.615  585.687  837.255\n",
            " 758.64   732.435 ]\n"
          ]
        }
      ],
      "source": [
        "#с интерсептом с помощью уравнения\n",
        "import numpy as np\n",
        "import matplotlib.pyplot as plt\n",
        "%matplotlib inline\n",
        "plt.scatter(x,y)\n",
        "plt.plot(x, 444.18 + 2.6205*x)\n",
        "plt.show()\n",
        "x = np.array([35, 45, 190, 200, 40, 70, 54, 150, 120, 110])\n",
        "y = np.array([401, 574, 874, 919, 459, 739, 653, 902, 746, 832])\n",
        "\n",
        "b = (np.mean(x*y)-np.mean(x)*np.mean(y))/(np.mean(x**2)-np.mean(x)**2)\n",
        "a = np.mean(y) - 2.6205*np.mean(x)\n",
        "y_with_a_hat = 444.18 + 2.6205*x\n",
        "print(b)\n",
        "print(a)\n",
        "print(y_with_a_hat)"
      ]
    },
    {
      "cell_type": "code",
      "source": [
        "#с интерсептом с помощью матричного метода\n",
        "import numpy as np\n",
        "import seaborn as sns\n",
        "x = np.array([35, 45, 190, 200, 40, 70, 54, 150, 120, 110])\n",
        "y = np.array([401, 574, 874, 919, 459, 739, 653, 902, 746, 832])\n",
        "x = x.reshape((10, 1))\n",
        "y = y.reshape((10, 1))\n",
        "x = np.hstack([np.ones((10,1)), x])\n",
        "b = np.dot(np.linalg.inv(np.dot(x.T,x)),x.T@y)\n",
        "print(b)"
      ],
      "metadata": {
        "colab": {
          "base_uri": "https://localhost:8080/"
        },
        "id": "l4DdqLstFBsD",
        "outputId": "a6752082-a86f-4a3e-a764-241b045c4807"
      },
      "execution_count": 2,
      "outputs": [
        {
          "output_type": "stream",
          "name": "stdout",
          "text": [
            "[[444.17735732]\n",
            " [  2.62053888]]\n"
          ]
        }
      ]
    },
    {
      "cell_type": "code",
      "source": [
        "#без интерсепта с помощью матричного метода\n",
        "x = np.array([35, 45, 190, 200, 40, 70, 54, 150, 120, 110])\n",
        "y = np.array([401, 574, 874, 919, 459, 739, 653, 902, 746, 832])\n",
        "x = x.reshape((10,1))\n",
        "y = y.reshape((10,1))\n",
        "b = np.dot(np.linalg.inv(np.dot(x.T,x)),x.T@y)\n",
        "print(x)\n",
        "print(y)\n",
        "print(b)"
      ],
      "metadata": {
        "colab": {
          "base_uri": "https://localhost:8080/"
        },
        "id": "VV6lqhCNYEj4",
        "outputId": "af92079e-2304-4654-83c3-aafcc37ad177"
      },
      "execution_count": 5,
      "outputs": [
        {
          "output_type": "stream",
          "name": "stdout",
          "text": [
            "[[ 35]\n",
            " [ 45]\n",
            " [190]\n",
            " [200]\n",
            " [ 40]\n",
            " [ 70]\n",
            " [ 54]\n",
            " [150]\n",
            " [120]\n",
            " [110]]\n",
            "[[401]\n",
            " [574]\n",
            " [874]\n",
            " [919]\n",
            " [459]\n",
            " [739]\n",
            " [653]\n",
            " [902]\n",
            " [746]\n",
            " [832]]\n",
            "[[5.88982042]]\n"
          ]
        }
      ]
    },
    {
      "cell_type": "code",
      "source": [
        "x = np.array([35, 45, 190, 200, 40, 70, 54, 150, 120, 110])\n",
        "y = np.array([401, 574, 874, 919, 459, 739, 653, 902, 746, 832])\n",
        "b1 = 0.1\n",
        "n = 10\n",
        "def mse_(b1, y=y, x=x, n = 10):\n",
        "  return np.sum((b1*x-y)**2)/n\n",
        "alpha = 1*10**-6\n",
        "for i in range(10):\n",
        "  b1 -= alpha*(2/n)*np.sum((b1*x-y)*x)\n",
        "  print('b1={}'.format(b1))\n",
        "for i in range(5000):\n",
        "  b1 -= alpha*(2/n)*np.sum((b1*x-y)*x)\n",
        "  if i%1000==0:\n",
        "    print('iteration:{i},b1={b1}, mse={mse}'.format(i=i, b1=b1, mse=mse_(b1)))\n",
        "\n",
        "mse_(5.889)"
      ],
      "metadata": {
        "colab": {
          "base_uri": "https://localhost:8080/"
        },
        "id": "D7DCembYVSSa",
        "outputId": "9a284748-0dd0-4025-df5e-684279182f1d"
      },
      "execution_count": 7,
      "outputs": [
        {
          "output_type": "stream",
          "name": "stdout",
          "text": [
            "b1=0.25952808\n",
            "b1=0.414660650906144\n",
            "b1=0.5655188230595969\n",
            "b1=0.7122203698240712\n",
            "b1=0.8548798195302346\n",
            "b1=0.9936085448867542\n",
            "b1=1.1285148499277806\n",
            "b1=1.2597040545647504\n",
            "b1=1.387278576808517\n",
            "b1=1.5113380127259965\n",
            "iteration:0,b1=1.6319792141937546, mse=306275.7568040035\n",
            "iteration:1000,b1=5.8898204201295625, mse=56516.85841571941\n",
            "iteration:2000,b1=5.889820420132673, mse=56516.85841571943\n",
            "iteration:3000,b1=5.889820420132673, mse=56516.85841571943\n",
            "iteration:4000,b1=5.889820420132673, mse=56516.85841571943\n"
          ]
        },
        {
          "output_type": "execute_result",
          "data": {
            "text/plain": [
              "56516.86768859999"
            ]
          },
          "metadata": {},
          "execution_count": 7
        }
      ]
    }
  ]
}