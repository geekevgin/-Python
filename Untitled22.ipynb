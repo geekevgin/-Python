{
  "nbformat": 4,
  "nbformat_minor": 0,
  "metadata": {
    "colab": {
      "name": "Untitled22.ipynb",
      "provenance": [],
      "authorship_tag": "ABX9TyPzDfSNN6nY/DEZMYujjNWH",
      "include_colab_link": true
    },
    "kernelspec": {
      "name": "python3",
      "display_name": "Python 3"
    },
    "language_info": {
      "name": "python"
    }
  },
  "cells": [
    {
      "cell_type": "markdown",
      "metadata": {
        "id": "view-in-github",
        "colab_type": "text"
      },
      "source": [
        "<a href=\"https://colab.research.google.com/github/geekevgin/-Python/blob/main/Untitled22.ipynb\" target=\"_parent\"><img src=\"https://colab.research.google.com/assets/colab-badge.svg\" alt=\"Open In Colab\"/></a>"
      ]
    },
    {
      "cell_type": "code",
      "execution_count": 1,
      "metadata": {
        "colab": {
          "base_uri": "https://localhost:8080/"
        },
        "id": "Q8P_9vnIYUYp",
        "outputId": "f6241bd6-6ba3-46bf-b194-82470e251d50"
      },
      "outputs": [
        {
          "output_type": "stream",
          "name": "stdout",
          "text": [
            "Скалярное произведение a и b: 33\n"
          ]
        }
      ],
      "source": [
        "#Lesson1 part 2\n",
        "#1\n",
        "import numpy as np\n",
        "a = np.array([0,-3, 6])\n",
        "b = np.array([-4, 7, 9])\n",
        "c = np.dot(a,b)\n",
        "print(f'Скалярное произведение a и b: {c}')\n"
      ]
    },
    {
      "cell_type": "code",
      "source": [
        "#1\n",
        "\n",
        "a = np.array([7,-4, 0, 1])\n",
        "b = np.array([-3, 1, 11,2])\n",
        "c = np.dot(a,b)\n",
        "print(f'Скалярное произведение a и b: {c}')"
      ],
      "metadata": {
        "colab": {
          "base_uri": "https://localhost:8080/"
        },
        "id": "nqEpCMpOYW1m",
        "outputId": "09d29e09-e6c0-464d-8865-db170b1ceadb"
      },
      "execution_count": 2,
      "outputs": [
        {
          "output_type": "stream",
          "name": "stdout",
          "text": [
            "Скалярное произведение a и b: -23\n"
          ]
        }
      ]
    },
    {
      "cell_type": "code",
      "source": [
        "#2\n",
        "\n",
        "\n",
        "from numpy.linalg import norm\n",
        "a = np.array([4,2,3])\n",
        "b = np.array([12,3,4])\n",
        "norm_a_m = norm(a, ord = 1)\n",
        "norm_b_m = norm(b, ord = 1)\n",
        "norm_a_ev = norm(a, ord = 2)\n",
        "norm_b_ev = norm(b, ord =2)\n",
        "scal = a @ b\n",
        "angel = scal/(norm_a_ev*norm_b_ev)\n",
        "print(f'Норма вектора а: {norm_a_m}')\n",
        "print(f'Норма вектора b: {norm_b_m}')\n",
        "print(f'Норма вектoра а: {norm_a_ev}')\n",
        "print(f'Норма вектора b: {norm_b_ev}')\n",
        "print(angel)\n"
      ],
      "metadata": {
        "colab": {
          "base_uri": "https://localhost:8080/"
        },
        "id": "BwQPZvEEbDd_",
        "outputId": "2bc474fd-5e80-43be-810c-c8d6a5e14508"
      },
      "execution_count": 3,
      "outputs": [
        {
          "output_type": "stream",
          "name": "stdout",
          "text": [
            "Норма вектора а: 9.0\n",
            "Норма вектора b: 19.0\n",
            "Норма вектoра а: 5.385164807134504\n",
            "Норма вектора b: 13.0\n",
            "0.9427609476681096\n"
          ]
        }
      ]
    }
  ]
}