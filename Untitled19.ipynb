{
  "nbformat": 4,
  "nbformat_minor": 0,
  "metadata": {
    "colab": {
      "name": "Untitled19.ipynb",
      "provenance": [],
      "authorship_tag": "ABX9TyOT0Kr+fKM09Y55+c2+LkGh",
      "include_colab_link": true
    },
    "kernelspec": {
      "name": "python3",
      "display_name": "Python 3"
    },
    "language_info": {
      "name": "python"
    }
  },
  "cells": [
    {
      "cell_type": "markdown",
      "metadata": {
        "id": "view-in-github",
        "colab_type": "text"
      },
      "source": [
        "<a href=\"https://colab.research.google.com/github/geekevgin/-Python/blob/main/Untitled19.ipynb\" target=\"_parent\"><img src=\"https://colab.research.google.com/assets/colab-badge.svg\" alt=\"Open In Colab\"/></a>"
      ]
    },
    {
      "cell_type": "code",
      "execution_count": 1,
      "metadata": {
        "colab": {
          "base_uri": "https://localhost:8080/"
        },
        "id": "HwxUSTXhY1SI",
        "outputId": "65e59d81-af14-4638-f3e3-96c7996454ff"
      },
      "outputs": [
        {
          "output_type": "stream",
          "name": "stdout",
          "text": [
            "118.1\n",
            "10.54566788359614\n",
            "125.64339223691834\n",
            "110.55660776308164\n"
          ]
        }
      ],
      "source": [
        "#задача 2\n",
        "import numpy as np\n",
        "x = np.array([131, 125, 115, 122, 131, 115, 107, 99, 125, 111])\n",
        "mu = x.mean()\n",
        "v = x.var(ddof=1)\n",
        "s = (v)**0.5\n",
        "b = (10.54 * 2.262)/(10)**0/5\n",
        "c = mu + (2.262 * s)/np.sqrt(10)\n",
        "d = mu - (2.262*s)/np.sqrt(10)\n",
        "\n",
        "print(mu)\n",
        "print(s)\n",
        "print(c)\n",
        "print(d)"
      ]
    },
    {
      "cell_type": "code",
      "source": [
        "#задача 1\n",
        "zp  = np.array([35, 45, 190, 200, 40, 70, 54, 150, 120, 110])\n",
        "ks = np.array([401, 574, 874, 919, 459, 739, 653, 902, 746, 832])\n",
        "cov = np.mean(zp*ks) - np.mean(zp)*np.mean(ks)\n",
        "a = np.corrcoef(zp, ks)\n",
        "b = np.cov(zp, ks, ddof=1)\n",
        "c = np.cov(zp, ks, ddof=0)\n",
        "s_zp = np.std(zp)\n",
        "s_ks = np.std(ks)\n",
        "s_zp_n = np.std(zp, ddof=1)\n",
        "s_ks_n = np.std(ks, ddof=1)\n",
        "p_zp = 10175.37777778/(62.31318747531162*183.99544076477068)\n",
        "p_ks = 9157.84/(59.115480206118605*174.55340157098058)\n",
        "print(cov)\n",
        "print(a)\n",
        "print(b)\n",
        "print(c)\n",
        "print(s_zp)\n",
        "print(s_ks)\n",
        "print(s_zp_n)\n",
        "print(s_ks_n)\n",
        "print(p_zp)\n",
        "print(p_ks)\n"
      ],
      "metadata": {
        "colab": {
          "base_uri": "https://localhost:8080/"
        },
        "id": "AdcmaChtllyA",
        "outputId": "996d12e2-2f53-444b-9f7b-de273703b8ca"
      },
      "execution_count": 25,
      "outputs": [
        {
          "output_type": "stream",
          "name": "stdout",
          "text": [
            "9157.839999999997\n",
            "[[1.         0.88749009]\n",
            " [0.88749009 1.        ]]\n",
            "[[ 3882.93333333 10175.37777778]\n",
            " [10175.37777778 33854.32222222]]\n",
            "[[ 3494.64  9157.84]\n",
            " [ 9157.84 30468.89]]\n",
            "59.115480206118605\n",
            "174.55340157098058\n",
            "62.31318747531162\n",
            "183.99544076477068\n",
            "0.88749009207411\n",
            "0.8874900920739162\n"
          ]
        }
      ]
    }
  ]
}