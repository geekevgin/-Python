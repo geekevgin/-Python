{
  "nbformat": 4,
  "nbformat_minor": 0,
  "metadata": {
    "colab": {
      "provenance": [],
      "authorship_tag": "ABX9TyMrvvms8MOgqTgHgg94VAGE",
      "include_colab_link": true
    },
    "kernelspec": {
      "name": "python3",
      "display_name": "Python 3"
    },
    "language_info": {
      "name": "python"
    },
    "accelerator": "GPU",
    "gpuClass": "standard"
  },
  "cells": [
    {
      "cell_type": "markdown",
      "metadata": {
        "id": "view-in-github",
        "colab_type": "text"
      },
      "source": [
        "<a href=\"https://colab.research.google.com/github/geekevgin/-Python/blob/main/Untitled72.ipynb\" target=\"_parent\"><img src=\"https://colab.research.google.com/assets/colab-badge.svg\" alt=\"Open In Colab\"/></a>"
      ]
    },
    {
      "cell_type": "code",
      "source": [
        "import os\n",
        "import numpy as np\n",
        "import math\n",
        "from torch.utils.data import DataLoader\n",
        "import torchvision.transforms as transforms\n",
        "from torchvision import datasets\n",
        "from torch.autograd import Variable\n",
        "import torch.nn as nn\n",
        "import torch\n",
        "import matplotlib.pyplot as plt\n",
        "from IPython import display\n",
        "from torchvision.utils import save_image, make_grid"
      ],
      "metadata": {
        "id": "DCbSiyo9n7oP"
      },
      "execution_count": null,
      "outputs": []
    },
    {
      "cell_type": "code",
      "source": [
        "import numpy as np\n",
        "import matplotlib.pyplot as plt\n",
        "\n",
        "def summand(n, x):\n",
        "  return (np.sin(x)*x - 10*x)\n",
        "\n",
        "\n",
        "def f(x, N=5):\n",
        "  return sum(summand(n, x) for n in range(1, N+1))\n",
        "\n",
        "\n",
        "x = np.linspace(-50,50, 500)\n",
        "\n",
        "plt.plot(x, f(x))\n",
        "\n",
        "\n",
        "plt.show()"
      ],
      "metadata": {
        "colab": {
          "base_uri": "https://localhost:8080/",
          "height": 265
        },
        "id": "E8TYJl5kJ0nd",
        "outputId": "6d7ff5f2-3c97-412c-8101-9f44795288bf"
      },
      "execution_count": 31,
      "outputs": [
        {
          "output_type": "display_data",
          "data": {
            "text/plain": [
              "<Figure size 432x288 with 1 Axes>"
            ],
            "image/png": "[encoded data removed]"
          },
          "metadata": {
            "needs_background": "light"
          }
        }
      ]
    },
    {
      "cell_type": "code",
      "source": [
        "train_data_length = 1024\n",
        "train_data = torch.zeros((train_data_length, 2))\n",
        "train_data[:, 0] = math.sin(train_data_length)*train_data_length - 10*train_data_length\n",
        "train_data[:, 1] = torch.sin(train_data[:, 0])\n",
        "train_labels = torch.zeros(train_data_length)\n",
        "train_set = [(train_data[i], train_labels[i]) for i in range(train_data_length)]"
      ],
      "metadata": {
        "id": "Wq1SG-7iQN-y"
      },
      "execution_count": 94,
      "outputs": []
    },
    {
      "cell_type": "code",
      "source": [
        "batch_size = 32\n",
        "train_loader = torch.utils.data.DataLoader(train_set, batch_size=batch_size, shuffle=True)"
      ],
      "metadata": {
        "id": "79_ziEasNJqn"
      },
      "execution_count": 95,
      "outputs": []
    },
    {
      "cell_type": "code",
      "source": [
        "class Generator(nn.Module):\n",
        "    def __init__(self):\n",
        "        super().__init__()\n",
        "        self.model = nn.Sequential(\n",
        "            nn.Linear(2, 16),\n",
        "            nn.ReLU(),\n",
        "            nn.Linear(16, 32),\n",
        "            nn.ReLU(),\n",
        "            nn.Linear(32, 2))\n",
        "\n",
        "    def forward(self, x):\n",
        "        output = self.model(x)\n",
        "        return output"
      ],
      "metadata": {
        "id": "RzJma7AHNPtc"
      },
      "execution_count": 96,
      "outputs": []
    },
    {
      "cell_type": "code",
      "source": [
        "generator = Generator()"
      ],
      "metadata": {
        "id": "Fcjf9I0-NSRl"
      },
      "execution_count": 97,
      "outputs": []
    },
    {
      "cell_type": "code",
      "source": [
        "class Discriminator(nn.Module):\n",
        "    def __init__(self):\n",
        "        super().__init__()\n",
        "        self.model = nn.Sequential(\n",
        "            nn.Linear(2, 256),\n",
        "            nn.ReLU(),\n",
        "            nn.Dropout(0.3),\n",
        "            nn.Linear(256, 128),\n",
        "            nn.ReLU(),\n",
        "            nn.Dropout(0.3),\n",
        "            nn.Linear(128, 64),\n",
        "            nn.ReLU(),\n",
        "            nn.Dropout(0.3),\n",
        "            nn.Linear(64, 1),\n",
        "            nn.Sigmoid())\n",
        "    \n",
        "    def forward(self, x):\n",
        "        output = self.model(x)\n",
        "        return output"
      ],
      "metadata": {
        "id": "Wj9-S6z1NXmP"
      },
      "execution_count": 98,
      "outputs": []
    },
    {
      "cell_type": "code",
      "source": [
        "discriminator = Discriminator()"
      ],
      "metadata": {
        "id": "sU6tB7kaNcD6"
      },
      "execution_count": 99,
      "outputs": []
    },
    {
      "cell_type": "code",
      "source": [
        "lr = 0.001\n",
        "num_epochs = 300\n",
        "loss_function = nn.CrossEntropyLoss()"
      ],
      "metadata": {
        "id": "Ho9-4BhBNjoW"
      },
      "execution_count": 100,
      "outputs": []
    },
    {
      "cell_type": "code",
      "source": [
        "optimizer_discriminator = torch.optim.Adam(discriminator.parameters(), lr=lr)\n",
        "optimizer_generator = torch.optim.Adam(generator.parameters(), lr=lr)"
      ],
      "metadata": {
        "id": "uHeYE-9-NkqK"
      },
      "execution_count": 101,
      "outputs": []
    },
    {
      "cell_type": "code",
      "source": [
        "for epoch in range(num_epochs):\n",
        "    for n, (real_samples, _) in enumerate(train_loader):\n",
        "        # Данные для обучения дискриминатора\n",
        "        real_samples_labels = torch.ones((batch_size, 1))\n",
        "        latent_space_samples = torch.randn((batch_size, 2))\n",
        "        generated_samples = generator(latent_space_samples)\n",
        "        generated_samples_labels = torch.zeros((batch_size, 1))\n",
        "        all_samples = torch.cat((real_samples, generated_samples))\n",
        "        all_samples_labels = torch.cat((real_samples_labels, generated_samples_labels))\n",
        "    \n",
        "        # Обучение дискриминатора\n",
        "        discriminator.zero_grad()\n",
        "        output_discriminator = discriminator(all_samples)\n",
        "        loss_discriminator = loss_function(output_discriminator, all_samples_labels)\n",
        "        loss_discriminator.backward()\n",
        "        optimizer_discriminator.step()\n",
        "\n",
        "        # Данные для обучения генератора\n",
        "        latent_space_samples = torch.randn((batch_size, 2))\n",
        "\n",
        "        # Обучение генератора\n",
        "        generator.zero_grad()\n",
        "        generated_samples = generator(latent_space_samples)\n",
        "        output_discriminator_generated = discriminator(generated_samples)\n",
        "        loss_generator = loss_function(output_discriminator_generated, real_samples_labels)\n",
        "        loss_generator.backward()\n",
        "        optimizer_generator.step()\n",
        "         # Выводим значения функций потерь\n",
        "        if epoch % 10 == 0 and n == batch_size - 1:\n",
        "            print(f\"Epoch: {epoch} Loss D.: {loss_discriminator}\")\n",
        "            print(f\"Epoch: {epoch} Loss G.: {loss_generator}\")"
      ],
      "metadata": {
        "colab": {
          "base_uri": "https://localhost:8080/"
        },
        "id": "tI3XDHxDNrPa",
        "outputId": "1d3ad1e6-0df5-4c91-c603-27a86df12ef4"
      },
      "execution_count": 102,
      "outputs": [
        {
          "output_type": "stream",
          "name": "stdout",
          "text": [
            "Epoch: 0 Loss D.: -0.0\n",
            "Epoch: 0 Loss G.: -0.0\n",
            "Epoch: 10 Loss D.: -0.0\n",
            "Epoch: 10 Loss G.: -0.0\n",
            "Epoch: 20 Loss D.: -0.0\n",
            "Epoch: 20 Loss G.: -0.0\n",
            "Epoch: 30 Loss D.: -0.0\n",
            "Epoch: 30 Loss G.: -0.0\n",
            "Epoch: 40 Loss D.: -0.0\n",
            "Epoch: 40 Loss G.: -0.0\n",
            "Epoch: 50 Loss D.: -0.0\n",
            "Epoch: 50 Loss G.: -0.0\n",
            "Epoch: 60 Loss D.: -0.0\n",
            "Epoch: 60 Loss G.: -0.0\n",
            "Epoch: 70 Loss D.: -0.0\n",
            "Epoch: 70 Loss G.: -0.0\n",
            "Epoch: 80 Loss D.: -0.0\n",
            "Epoch: 80 Loss G.: -0.0\n",
            "Epoch: 90 Loss D.: -0.0\n",
            "Epoch: 90 Loss G.: -0.0\n",
            "Epoch: 100 Loss D.: -0.0\n",
            "Epoch: 100 Loss G.: -0.0\n",
            "Epoch: 110 Loss D.: -0.0\n",
            "Epoch: 110 Loss G.: -0.0\n",
            "Epoch: 120 Loss D.: -0.0\n",
            "Epoch: 120 Loss G.: -0.0\n",
            "Epoch: 130 Loss D.: -0.0\n",
            "Epoch: 130 Loss G.: -0.0\n",
            "Epoch: 140 Loss D.: -0.0\n",
            "Epoch: 140 Loss G.: -0.0\n",
            "Epoch: 150 Loss D.: -0.0\n",
            "Epoch: 150 Loss G.: -0.0\n",
            "Epoch: 160 Loss D.: -0.0\n",
            "Epoch: 160 Loss G.: -0.0\n",
            "Epoch: 170 Loss D.: -0.0\n",
            "Epoch: 170 Loss G.: -0.0\n",
            "Epoch: 180 Loss D.: -0.0\n",
            "Epoch: 180 Loss G.: -0.0\n",
            "Epoch: 190 Loss D.: -0.0\n",
            "Epoch: 190 Loss G.: -0.0\n",
            "Epoch: 200 Loss D.: -0.0\n",
            "Epoch: 200 Loss G.: -0.0\n",
            "Epoch: 210 Loss D.: -0.0\n",
            "Epoch: 210 Loss G.: -0.0\n",
            "Epoch: 220 Loss D.: -0.0\n",
            "Epoch: 220 Loss G.: -0.0\n",
            "Epoch: 230 Loss D.: -0.0\n",
            "Epoch: 230 Loss G.: -0.0\n",
            "Epoch: 240 Loss D.: -0.0\n",
            "Epoch: 240 Loss G.: -0.0\n",
            "Epoch: 250 Loss D.: -0.0\n",
            "Epoch: 250 Loss G.: -0.0\n",
            "Epoch: 260 Loss D.: -0.0\n",
            "Epoch: 260 Loss G.: -0.0\n",
            "Epoch: 270 Loss D.: -0.0\n",
            "Epoch: 270 Loss G.: -0.0\n",
            "Epoch: 280 Loss D.: -0.0\n",
            "Epoch: 280 Loss G.: -0.0\n",
            "Epoch: 290 Loss D.: -0.0\n",
            "Epoch: 290 Loss G.: -0.0\n"
          ]
        }
      ]
    },
    {
      "cell_type": "code",
      "source": [
        "latent_space_samples = torch.randn(100, 2)\n",
        "generated_samples = generator(latent_space_samples)"
      ],
      "metadata": {
        "id": "YpYXKFSxZJiA"
      },
      "execution_count": 104,
      "outputs": []
    },
    {
      "cell_type": "code",
      "source": [
        "generated_samples = generated_samples.detach()\n",
        "plt.plot(generated_samples[:, 0], generated_samples[:, 1], \".\")"
      ],
      "metadata": {
        "colab": {
          "base_uri": "https://localhost:8080/",
          "height": 282
        },
        "id": "agsfv6i-ZSTq",
        "outputId": "65cc25ca-7890-4059-a510-cc5db65421aa"
      },
      "execution_count": 105,
      "outputs": [
        {
          "output_type": "execute_result",
          "data": {
            "text/plain": [
              "[<matplotlib.lines.Line2D at 0x7fd243a7afd0>]"
            ]
          },
          "metadata": {},
          "execution_count": 105
        },
        {
          "output_type": "display_data",
          "data": {
            "text/plain": [
              "<Figure size 432x288 with 1 Axes>"
            ],
            "image/png": "[encoded data removed]"
          },
          "metadata": {
            "needs_background": "light"
          }
        }
      ]
    },
    {
      "cell_type": "code",
      "source": [
        "#кажется, что D очень слаб и не способен выявить правду и ложь"
      ],
      "metadata": {
        "id": "xjIPkxJvZXUu"
      },
      "execution_count": null,
      "outputs": []
    }
  ]
}