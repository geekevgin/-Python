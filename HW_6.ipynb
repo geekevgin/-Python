{
  "nbformat": 4,
  "nbformat_minor": 0,
  "metadata": {
    "colab": {
      "provenance": [],
      "mount_file_id": "1OERHM-ZTZUO7fTSWuONhD4jJ7MeDZRRl",
      "authorship_tag": "ABX9TyPRlw7AIkE5fMp6xRu0z0jX",
      "include_colab_link": true
    },
    "kernelspec": {
      "name": "python3",
      "display_name": "Python 3"
    },
    "language_info": {
      "name": "python"
    }
  },
  "cells": [
    {
      "cell_type": "markdown",
      "metadata": {
        "id": "view-in-github",
        "colab_type": "text"
      },
      "source": [
        "<a href=\"https://colab.research.google.com/github/geekevgin/-Python/blob/main/HW_6.ipynb\" target=\"_parent\"><img src=\"https://colab.research.google.com/assets/colab-badge.svg\" alt=\"Open In Colab\"/></a>"
      ]
    },
    {
      "cell_type": "code",
      "source": [
        "# Исследования проводились на бактретии Pseudomonas aeruginosa. Усиливает ли медь антибиотикорезистентность у резистентных видов и/или вызывает устойчивость\n",
        "# у чувствительных мо.\n"
      ],
      "metadata": {
        "id": "TCksg8YQKKcx"
      },
      "execution_count": null,
      "outputs": []
    },
    {
      "cell_type": "code",
      "execution_count": 1,
      "metadata": {
        "colab": {
          "base_uri": "https://localhost:8080/"
        },
        "id": "d7OvqcIA433Y",
        "outputId": "b2dc80e2-b27f-4ae4-dc4d-2d4a2a9bfece"
      },
      "outputs": [
        {
          "output_type": "stream",
          "name": "stdout",
          "text": [
            "Reading package lists... Done\n",
            "Building dependency tree... Done\n",
            "Reading state information... Done\n",
            "The following additional packages will be installed:\n",
            "  default-jre default-jre-headless fonts-dejavu-core fonts-dejavu-extra\n",
            "  libapache-pom-java libargs4j-java libatk-wrapper-java\n",
            "  libatk-wrapper-java-jni libcommons-compress-java libcommons-io-java\n",
            "  libcommons-jexl2-java libcommons-lang3-java libcommons-logging-java\n",
            "  libcommons-math3-java libcommons-parent-java libfindbin-libs-perl\n",
            "  libfontenc1 libhts3 libhtscodecs2 libhtsjdk-java libjbzip2-java\n",
            "  libjson-simple-java libngs-java libngs-sdk-dev libngs-sdk2 libsis-base-java\n",
            "  libsis-base-jni libsis-jhdf5-java libsis-jhdf5-jni libsnappy-java\n",
            "  libsnappy-jni libxkbfile1 libxtst6 libxxf86dga1 openjdk-11-jre x11-utils\n",
            "Suggested packages:\n",
            "  samtools libxz-java libcommons-io-java-doc libcommons-lang3-java-doc\n",
            "  libavalon-framework-java libcommons-logging-java-doc\n",
            "  libexcalibur-logkit-java liblog4j1.2-java picard-tools libjson-simple-doc\n",
            "  mesa-utils\n",
            "The following NEW packages will be installed:\n",
            "  bwa default-jre default-jre-headless fastqc fonts-dejavu-core\n",
            "  fonts-dejavu-extra libapache-pom-java libargs4j-java libatk-wrapper-java\n",
            "  libatk-wrapper-java-jni libcommons-compress-java libcommons-io-java\n",
            "  libcommons-jexl2-java libcommons-lang3-java libcommons-logging-java\n",
            "  libcommons-math3-java libcommons-parent-java libfindbin-libs-perl\n",
            "  libfontenc1 libhts3 libhtscodecs2 libhtsjdk-java libjbzip2-java\n",
            "  libjson-simple-java libngs-java libngs-sdk-dev libngs-sdk2 libsis-base-java\n",
            "  libsis-base-jni libsis-jhdf5-java libsis-jhdf5-jni libsnappy-java\n",
            "  libsnappy-jni libxkbfile1 libxtst6 libxxf86dga1 openjdk-11-jre rna-star\n",
            "  x11-utils\n",
            "0 upgraded, 39 newly installed, 0 to remove and 15 not upgraded.\n",
            "Need to get 14.1 MB of archives.\n",
            "After this operation, 43.2 MB of additional disk space will be used.\n",
            "Get:1 http://archive.ubuntu.com/ubuntu jammy/universe amd64 bwa amd64 0.7.17-6 [195 kB]\n",
            "Get:2 http://archive.ubuntu.com/ubuntu jammy/main amd64 default-jre-headless amd64 2:1.11-72build2 [3,042 B]\n",
            "Get:3 http://archive.ubuntu.com/ubuntu jammy/main amd64 libxtst6 amd64 2:1.2.3-1build4 [13.4 kB]\n",
            "Get:4 http://archive.ubuntu.com/ubuntu jammy-updates/main amd64 openjdk-11-jre amd64 11.0.20+8-1ubuntu1~22.04 [213 kB]\n",
            "Get:5 http://archive.ubuntu.com/ubuntu jammy/main amd64 default-jre amd64 2:1.11-72build2 [896 B]\n",
            "Get:6 http://archive.ubuntu.com/ubuntu jammy/universe amd64 libcommons-math3-java all 3.6.1-3 [2,016 kB]\n",
            "Get:7 http://archive.ubuntu.com/ubuntu jammy/universe amd64 libjbzip2-java all 0.9.1-7 [42.8 kB]\n",
            "Get:8 http://archive.ubuntu.com/ubuntu jammy/universe amd64 libapache-pom-java all 18-1 [4,720 B]\n",
            "Get:9 http://archive.ubuntu.com/ubuntu jammy/universe amd64 libcommons-parent-java all 43-1 [10.8 kB]\n",
            "Get:10 http://archive.ubuntu.com/ubuntu jammy/universe amd64 libcommons-compress-java all 1.21-1 [575 kB]\n",
            "Get:11 http://archive.ubuntu.com/ubuntu jammy/universe amd64 libcommons-logging-java all 1.2-2 [60.3 kB]\n",
            "Get:12 http://archive.ubuntu.com/ubuntu jammy/universe amd64 libcommons-jexl2-java all 2.1.1-5 [251 kB]\n",
            "Get:13 http://archive.ubuntu.com/ubuntu jammy/universe amd64 libjson-simple-java all 2.3.0-1 [61.0 kB]\n",
            "Get:14 http://archive.ubuntu.com/ubuntu jammy/universe amd64 libngs-sdk2 amd64 2.11.2-3 [65.6 kB]\n",
            "Get:15 http://archive.ubuntu.com/ubuntu jammy/universe amd64 libngs-sdk-dev amd64 2.11.2-3 [111 kB]\n",
            "Get:16 http://archive.ubuntu.com/ubuntu jammy/universe amd64 libngs-java amd64 2.11.2-3 [75.8 kB]\n",
            "Get:17 http://archive.ubuntu.com/ubuntu jammy/universe amd64 libsnappy-jni amd64 1.1.8.3-1 [6,756 B]\n",
            "Get:18 http://archive.ubuntu.com/ubuntu jammy/universe amd64 libsnappy-java all 1.1.8.3-1 [93.9 kB]\n",
            "Get:19 http://archive.ubuntu.com/ubuntu jammy/universe amd64 libhtsjdk-java all 2.24.1+dfsg-1 [1,644 kB]\n",
            "Get:20 http://archive.ubuntu.com/ubuntu jammy/universe amd64 libfindbin-libs-perl all 2.190.02-1 [23.2 kB]\n",
            "Get:21 http://archive.ubuntu.com/ubuntu jammy/universe amd64 libargs4j-java all 2.33-1.1 [137 kB]\n",
            "Get:22 http://archive.ubuntu.com/ubuntu jammy/universe amd64 libcommons-io-java all 2.11.0-2 [297 kB]\n",
            "Get:23 http://archive.ubuntu.com/ubuntu jammy/universe amd64 libcommons-lang3-java all 3.11-1 [526 kB]\n",
            "Get:24 http://archive.ubuntu.com/ubuntu jammy/universe amd64 libsis-base-jni amd64 18.09~pre1+git20180928.45fbd31+dfsg-3 [12.7 kB]\n",
            "Get:25 http://archive.ubuntu.com/ubuntu jammy/universe amd64 libsis-base-java all 18.09~pre1+git20180928.45fbd31+dfsg-3 [96.4 kB]\n",
            "Get:26 http://archive.ubuntu.com/ubuntu jammy/universe amd64 libsis-jhdf5-jni amd64 19.04.0+dfsg-4 [96.6 kB]\n",
            "Get:27 http://archive.ubuntu.com/ubuntu jammy/universe amd64 libsis-jhdf5-java all 19.04.0+dfsg-4 [1,490 kB]\n",
            "Get:28 http://archive.ubuntu.com/ubuntu jammy/universe amd64 fastqc all 0.11.9+dfsg-5 [370 kB]\n",
            "Get:29 http://archive.ubuntu.com/ubuntu jammy/main amd64 fonts-dejavu-core all 2.37-2build1 [1,041 kB]\n",
            "Get:30 http://archive.ubuntu.com/ubuntu jammy/main amd64 fonts-dejavu-extra all 2.37-2build1 [2,041 kB]\n",
            "Get:31 http://archive.ubuntu.com/ubuntu jammy/main amd64 libfontenc1 amd64 1:1.1.4-1build3 [14.7 kB]\n",
            "Get:32 http://archive.ubuntu.com/ubuntu jammy/main amd64 libxkbfile1 amd64 1:1.1.0-1build3 [71.8 kB]\n",
            "Get:33 http://archive.ubuntu.com/ubuntu jammy/main amd64 libxxf86dga1 amd64 2:1.1.5-0ubuntu3 [12.6 kB]\n",
            "Get:34 http://archive.ubuntu.com/ubuntu jammy/main amd64 x11-utils amd64 7.7+5build2 [206 kB]\n",
            "Get:35 http://archive.ubuntu.com/ubuntu jammy/main amd64 libatk-wrapper-java all 0.38.0-5build1 [53.1 kB]\n",
            "Get:36 http://archive.ubuntu.com/ubuntu jammy/main amd64 libatk-wrapper-java-jni amd64 0.38.0-5build1 [49.0 kB]\n",
            "Get:37 http://archive.ubuntu.com/ubuntu jammy/universe amd64 libhtscodecs2 amd64 1.1.1-3 [53.2 kB]\n",
            "Get:38 http://archive.ubuntu.com/ubuntu jammy/universe amd64 libhts3 amd64 1.13+ds-2build1 [390 kB]\n",
            "Get:39 http://archive.ubuntu.com/ubuntu jammy/universe amd64 rna-star amd64 2.7.10a+dfsg-1 [1,685 kB]\n",
            "Fetched 14.1 MB in 7s (2,152 kB/s)\n",
            "Extracting templates from packages: 100%\n",
            "Selecting previously unselected package bwa.\n",
            "(Reading database ... 120500 files and directories currently installed.)\n",
            "Preparing to unpack .../00-bwa_0.7.17-6_amd64.deb ...\n",
            "Unpacking bwa (0.7.17-6) ...\n",
            "Selecting previously unselected package default-jre-headless.\n",
            "Preparing to unpack .../01-default-jre-headless_2%3a1.11-72build2_amd64.deb ...\n",
            "Unpacking default-jre-headless (2:1.11-72build2) ...\n",
            "Selecting previously unselected package libxtst6:amd64.\n",
            "Preparing to unpack .../02-libxtst6_2%3a1.2.3-1build4_amd64.deb ...\n",
            "Unpacking libxtst6:amd64 (2:1.2.3-1build4) ...\n",
            "Selecting previously unselected package openjdk-11-jre:amd64.\n",
            "Preparing to unpack .../03-openjdk-11-jre_11.0.20+8-1ubuntu1~22.04_amd64.deb ...\n",
            "Unpacking openjdk-11-jre:amd64 (11.0.20+8-1ubuntu1~22.04) ...\n",
            "Selecting previously unselected package default-jre.\n",
            "Preparing to unpack .../04-default-jre_2%3a1.11-72build2_amd64.deb ...\n",
            "Unpacking default-jre (2:1.11-72build2) ...\n",
            "Selecting previously unselected package libcommons-math3-java.\n",
            "Preparing to unpack .../05-libcommons-math3-java_3.6.1-3_all.deb ...\n",
            "Unpacking libcommons-math3-java (3.6.1-3) ...\n",
            "Selecting previously unselected package libjbzip2-java.\n",
            "Preparing to unpack .../06-libjbzip2-java_0.9.1-7_all.deb ...\n",
            "Unpacking libjbzip2-java (0.9.1-7) ...\n",
            "Selecting previously unselected package libapache-pom-java.\n",
            "Preparing to unpack .../07-libapache-pom-java_18-1_all.deb ...\n",
            "Unpacking libapache-pom-java (18-1) ...\n",
            "Selecting previously unselected package libcommons-parent-java.\n",
            "Preparing to unpack .../08-libcommons-parent-java_43-1_all.deb ...\n",
            "Unpacking libcommons-parent-java (43-1) ...\n",
            "Selecting previously unselected package libcommons-compress-java.\n",
            "Preparing to unpack .../09-libcommons-compress-java_1.21-1_all.deb ...\n",
            "Unpacking libcommons-compress-java (1.21-1) ...\n",
            "Selecting previously unselected package libcommons-logging-java.\n",
            "Preparing to unpack .../10-libcommons-logging-java_1.2-2_all.deb ...\n",
            "Unpacking libcommons-logging-java (1.2-2) ...\n",
            "Selecting previously unselected package libcommons-jexl2-java.\n",
            "Preparing to unpack .../11-libcommons-jexl2-java_2.1.1-5_all.deb ...\n",
            "Unpacking libcommons-jexl2-java (2.1.1-5) ...\n",
            "Selecting previously unselected package libjson-simple-java.\n",
            "Preparing to unpack .../12-libjson-simple-java_2.3.0-1_all.deb ...\n",
            "Unpacking libjson-simple-java (2.3.0-1) ...\n",
            "Selecting previously unselected package libngs-sdk2:amd64.\n",
            "Preparing to unpack .../13-libngs-sdk2_2.11.2-3_amd64.deb ...\n",
            "Unpacking libngs-sdk2:amd64 (2.11.2-3) ...\n",
            "Selecting previously unselected package libngs-sdk-dev:amd64.\n",
            "Preparing to unpack .../14-libngs-sdk-dev_2.11.2-3_amd64.deb ...\n",
            "Unpacking libngs-sdk-dev:amd64 (2.11.2-3) ...\n",
            "Selecting previously unselected package libngs-java:amd64.\n",
            "Preparing to unpack .../15-libngs-java_2.11.2-3_amd64.deb ...\n",
            "Unpacking libngs-java:amd64 (2.11.2-3) ...\n",
            "Selecting previously unselected package libsnappy-jni.\n",
            "Preparing to unpack .../16-libsnappy-jni_1.1.8.3-1_amd64.deb ...\n",
            "Unpacking libsnappy-jni (1.1.8.3-1) ...\n",
            "Selecting previously unselected package libsnappy-java.\n",
            "Preparing to unpack .../17-libsnappy-java_1.1.8.3-1_all.deb ...\n",
            "Unpacking libsnappy-java (1.1.8.3-1) ...\n",
            "Selecting previously unselected package libhtsjdk-java.\n",
            "Preparing to unpack .../18-libhtsjdk-java_2.24.1+dfsg-1_all.deb ...\n",
            "Unpacking libhtsjdk-java (2.24.1+dfsg-1) ...\n",
            "Selecting previously unselected package libfindbin-libs-perl.\n",
            "Preparing to unpack .../19-libfindbin-libs-perl_2.190.02-1_all.deb ...\n",
            "Unpacking libfindbin-libs-perl (2.190.02-1) ...\n",
            "Selecting previously unselected package libargs4j-java.\n",
            "Preparing to unpack .../20-libargs4j-java_2.33-1.1_all.deb ...\n",
            "Unpacking libargs4j-java (2.33-1.1) ...\n",
            "Selecting previously unselected package libcommons-io-java.\n",
            "Preparing to unpack .../21-libcommons-io-java_2.11.0-2_all.deb ...\n",
            "Unpacking libcommons-io-java (2.11.0-2) ...\n",
            "Selecting previously unselected package libcommons-lang3-java.\n",
            "Preparing to unpack .../22-libcommons-lang3-java_3.11-1_all.deb ...\n",
            "Unpacking libcommons-lang3-java (3.11-1) ...\n",
            "Selecting previously unselected package libsis-base-jni.\n",
            "Preparing to unpack .../23-libsis-base-jni_18.09~pre1+git20180928.45fbd31+dfsg-3_amd64.deb ...\n",
            "Unpacking libsis-base-jni (18.09~pre1+git20180928.45fbd31+dfsg-3) ...\n",
            "Selecting previously unselected package libsis-base-java.\n",
            "Preparing to unpack .../24-libsis-base-java_18.09~pre1+git20180928.45fbd31+dfsg-3_all.deb ...\n",
            "Unpacking libsis-base-java (18.09~pre1+git20180928.45fbd31+dfsg-3) ...\n",
            "Selecting previously unselected package libsis-jhdf5-jni.\n",
            "Preparing to unpack .../25-libsis-jhdf5-jni_19.04.0+dfsg-4_amd64.deb ...\n",
            "Unpacking libsis-jhdf5-jni (19.04.0+dfsg-4) ...\n",
            "Selecting previously unselected package libsis-jhdf5-java.\n",
            "Preparing to unpack .../26-libsis-jhdf5-java_19.04.0+dfsg-4_all.deb ...\n",
            "Unpacking libsis-jhdf5-java (19.04.0+dfsg-4) ...\n",
            "Selecting previously unselected package fastqc.\n",
            "Preparing to unpack .../27-fastqc_0.11.9+dfsg-5_all.deb ...\n",
            "Unpacking fastqc (0.11.9+dfsg-5) ...\n",
            "Selecting previously unselected package fonts-dejavu-core.\n",
            "Preparing to unpack .../28-fonts-dejavu-core_2.37-2build1_all.deb ...\n",
            "Unpacking fonts-dejavu-core (2.37-2build1) ...\n",
            "Selecting previously unselected package fonts-dejavu-extra.\n",
            "Preparing to unpack .../29-fonts-dejavu-extra_2.37-2build1_all.deb ...\n",
            "Unpacking fonts-dejavu-extra (2.37-2build1) ...\n",
            "Selecting previously unselected package libfontenc1:amd64.\n",
            "Preparing to unpack .../30-libfontenc1_1%3a1.1.4-1build3_amd64.deb ...\n",
            "Unpacking libfontenc1:amd64 (1:1.1.4-1build3) ...\n",
            "Selecting previously unselected package libxkbfile1:amd64.\n",
            "Preparing to unpack .../31-libxkbfile1_1%3a1.1.0-1build3_amd64.deb ...\n",
            "Unpacking libxkbfile1:amd64 (1:1.1.0-1build3) ...\n",
            "Selecting previously unselected package libxxf86dga1:amd64.\n",
            "Preparing to unpack .../32-libxxf86dga1_2%3a1.1.5-0ubuntu3_amd64.deb ...\n",
            "Unpacking libxxf86dga1:amd64 (2:1.1.5-0ubuntu3) ...\n",
            "Selecting previously unselected package x11-utils.\n",
            "Preparing to unpack .../33-x11-utils_7.7+5build2_amd64.deb ...\n",
            "Unpacking x11-utils (7.7+5build2) ...\n",
            "Selecting previously unselected package libatk-wrapper-java.\n",
            "Preparing to unpack .../34-libatk-wrapper-java_0.38.0-5build1_all.deb ...\n",
            "Unpacking libatk-wrapper-java (0.38.0-5build1) ...\n",
            "Selecting previously unselected package libatk-wrapper-java-jni:amd64.\n",
            "Preparing to unpack .../35-libatk-wrapper-java-jni_0.38.0-5build1_amd64.deb ...\n",
            "Unpacking libatk-wrapper-java-jni:amd64 (0.38.0-5build1) ...\n",
            "Selecting previously unselected package libhtscodecs2:amd64.\n",
            "Preparing to unpack .../36-libhtscodecs2_1.1.1-3_amd64.deb ...\n",
            "Unpacking libhtscodecs2:amd64 (1.1.1-3) ...\n",
            "Selecting previously unselected package libhts3:amd64.\n",
            "Preparing to unpack .../37-libhts3_1.13+ds-2build1_amd64.deb ...\n",
            "Unpacking libhts3:amd64 (1.13+ds-2build1) ...\n",
            "Selecting previously unselected package rna-star.\n",
            "Preparing to unpack .../38-rna-star_2.7.10a+dfsg-1_amd64.deb ...\n",
            "Unpacking rna-star (2.7.10a+dfsg-1) ...\n",
            "Setting up libhtscodecs2:amd64 (1.1.1-3) ...\n",
            "Setting up libhts3:amd64 (1.13+ds-2build1) ...\n",
            "Setting up default-jre-headless (2:1.11-72build2) ...\n",
            "Setting up bwa (0.7.17-6) ...\n",
            "Setting up libxtst6:amd64 (2:1.2.3-1build4) ...\n",
            "Setting up libngs-sdk2:amd64 (2.11.2-3) ...\n",
            "Setting up libxxf86dga1:amd64 (2:1.1.5-0ubuntu3) ...\n",
            "Setting up openjdk-11-jre:amd64 (11.0.20+8-1ubuntu1~22.04) ...\n",
            "Setting up libfindbin-libs-perl (2.190.02-1) ...\n",
            "Setting up default-jre (2:1.11-72build2) ...\n",
            "Setting up libjson-simple-java (2.3.0-1) ...\n",
            "Setting up rna-star (2.7.10a+dfsg-1) ...\n",
            "Setting up libsis-base-jni (18.09~pre1+git20180928.45fbd31+dfsg-3) ...\n",
            "Setting up libfontenc1:amd64 (1:1.1.4-1build3) ...\n",
            "Setting up libapache-pom-java (18-1) ...\n",
            "Setting up fonts-dejavu-core (2.37-2build1) ...\n",
            "Setting up libjbzip2-java (0.9.1-7) ...\n",
            "Setting up libngs-sdk-dev:amd64 (2.11.2-3) ...\n",
            "Setting up fonts-dejavu-extra (2.37-2build1) ...\n",
            "Setting up libcommons-math3-java (3.6.1-3) ...\n",
            "Setting up libsis-jhdf5-jni (19.04.0+dfsg-4) ...\n",
            "Setting up libxkbfile1:amd64 (1:1.1.0-1build3) ...\n",
            "Setting up libngs-java:amd64 (2.11.2-3) ...\n",
            "Setting up libsnappy-jni (1.1.8.3-1) ...\n",
            "Setting up libargs4j-java (2.33-1.1) ...\n",
            "Setting up libcommons-parent-java (43-1) ...\n",
            "Setting up libcommons-logging-java (1.2-2) ...\n",
            "Setting up libcommons-jexl2-java (2.1.1-5) ...\n",
            "Setting up libcommons-lang3-java (3.11-1) ...\n",
            "Setting up x11-utils (7.7+5build2) ...\n",
            "Setting up libsnappy-java (1.1.8.3-1) ...\n",
            "Setting up libatk-wrapper-java (0.38.0-5build1) ...\n",
            "Setting up libcommons-compress-java (1.21-1) ...\n",
            "Setting up libcommons-io-java (2.11.0-2) ...\n",
            "Setting up libatk-wrapper-java-jni:amd64 (0.38.0-5build1) ...\n",
            "Setting up libsis-base-java (18.09~pre1+git20180928.45fbd31+dfsg-3) ...\n",
            "Setting up libhtsjdk-java (2.24.1+dfsg-1) ...\n",
            "Setting up libsis-jhdf5-java (19.04.0+dfsg-4) ...\n",
            "Setting up fastqc (0.11.9+dfsg-5) ...\n",
            "Processing triggers for man-db (2.10.2-1) ...\n",
            "Processing triggers for fontconfig (2.13.1-4.2ubuntu5) ...\n",
            "Processing triggers for hicolor-icon-theme (0.17-2) ...\n",
            "Processing triggers for libc-bin (2.35-0ubuntu3.1) ...\n"
          ]
        }
      ],
      "source": [
        "!apt-get -y install fastqc bwa rna-star"
      ]
    },
    {
      "cell_type": "code",
      "source": [
        "google_drive_url = \"https://drive.google.com/uc?export=download&id=\""
      ],
      "metadata": {
        "id": "Qz3gIQ8g6eW2"
      },
      "execution_count": 2,
      "outputs": []
    },
    {
      "cell_type": "code",
      "source": [
        "reads_file_id = \"1N4uHhyaTuKFd-vyvNNM_e9WisI9w3INO\"\n",
        "reads_filename = 'SRR12905311.fastq.gz'\n",
        "\n"
      ],
      "metadata": {
        "id": "3VGbcjcn9dB5"
      },
      "execution_count": 3,
      "outputs": []
    },
    {
      "cell_type": "code",
      "source": [
        "# Архив с ридами скачать сложнее, так как надо кликнуть согласие на пропуск антивирусной проверки\n",
        "!wget --save-cookies cookies.txt \"$google_drive_url$reads_file_id\" -O- | sed -rn \"s/.*confirm=([0-9A-Za-z_]+).*/\\1/p\" > confirm.txt\n",
        "!wget --load-cookies cookies.txt -O $reads_filename \"$google_drive_url$reads_file_id&confirm=$(<confirm.txt)\""
      ],
      "metadata": {
        "colab": {
          "base_uri": "https://localhost:8080/"
        },
        "id": "CtuNketA9yuK",
        "outputId": "17fa6992-8ae4-4260-ddc7-e7afba1d62ca"
      },
      "execution_count": 4,
      "outputs": [
        {
          "output_type": "stream",
          "name": "stdout",
          "text": [
            "--2023-08-05 18:10:53--  https://drive.google.com/uc?export=download&id=1N4uHhyaTuKFd-vyvNNM_e9WisI9w3INO\n",
            "Resolving drive.google.com (drive.google.com)... 142.250.107.139, 142.250.107.113, 142.250.107.138, ...\n",
            "Connecting to drive.google.com (drive.google.com)|142.250.107.139|:443... connected.\n",
            "HTTP request sent, awaiting response... 302 Found\n",
            "Location: https://accounts.google.com/ServiceLogin?service=wise&passive=1209600&continue=https://drive.google.com/uc?export%3Ddownload%26id%3D1N4uHhyaTuKFd-vyvNNM_e9WisI9w3INO&followup=https://drive.google.com/uc?export%3Ddownload%26id%3D1N4uHhyaTuKFd-vyvNNM_e9WisI9w3INO [following]\n",
            "--2023-08-05 18:10:53--  https://accounts.google.com/ServiceLogin?service=wise&passive=1209600&continue=https://drive.google.com/uc?export%3Ddownload%26id%3D1N4uHhyaTuKFd-vyvNNM_e9WisI9w3INO&followup=https://drive.google.com/uc?export%3Ddownload%26id%3D1N4uHhyaTuKFd-vyvNNM_e9WisI9w3INO\n",
            "Resolving accounts.google.com (accounts.google.com)... 142.250.107.84, 2607:f8b0:400e:c08::54\n",
            "Connecting to accounts.google.com (accounts.google.com)|142.250.107.84|:443... connected.\n",
            "HTTP request sent, awaiting response... 302 Found\n",
            "Location: https://accounts.google.com/InteractiveLogin?continue=https://drive.google.com/uc?export%3Ddownload%26id%3D1N4uHhyaTuKFd-vyvNNM_e9WisI9w3INO&followup=https://drive.google.com/uc?export%3Ddownload%26id%3D1N4uHhyaTuKFd-vyvNNM_e9WisI9w3INO&passive=1209600&service=wise&ifkv=AXo7B7UL7u8bvQfQ4Nbq_eDKoqDp2WJr-ys_Z9vzLquoNAVBlHLFI3MjEvFOhdi1rpuCij14tiMouA [following]\n",
            "--2023-08-05 18:10:53--  https://accounts.google.com/InteractiveLogin?continue=https://drive.google.com/uc?export%3Ddownload%26id%3D1N4uHhyaTuKFd-vyvNNM_e9WisI9w3INO&followup=https://drive.google.com/uc?export%3Ddownload%26id%3D1N4uHhyaTuKFd-vyvNNM_e9WisI9w3INO&passive=1209600&service=wise&ifkv=AXo7B7UL7u8bvQfQ4Nbq_eDKoqDp2WJr-ys_Z9vzLquoNAVBlHLFI3MjEvFOhdi1rpuCij14tiMouA\n",
            "Reusing existing connection to accounts.google.com:443.\n",
            "HTTP request sent, awaiting response... 302 Moved Temporarily\n",
            "Location: https://accounts.google.com/v3/signin/identifier?continue=https%3A%2F%2Fdrive.google.com%2Fuc%3Fexport%3Ddownload%26id%3D1N4uHhyaTuKFd-vyvNNM_e9WisI9w3INO&followup=https%3A%2F%2Fdrive.google.com%2Fuc%3Fexport%3Ddownload%26id%3D1N4uHhyaTuKFd-vyvNNM_e9WisI9w3INO&ifkv=AXo7B7W7_31rZBH_mteddeym0ZXcu6bWg9NM6baXdM4US_Zr8LgI03qbV4SNiMU0wXnF-r2Ub8fncA&passive=1209600&service=wise&flowName=WebLiteSignIn&flowEntry=ServiceLogin&dsh=S1292129980%3A1691259053834988 [following]\n",
            "--2023-08-05 18:10:53--  https://accounts.google.com/v3/signin/identifier?continue=https%3A%2F%2Fdrive.google.com%2Fuc%3Fexport%3Ddownload%26id%3D1N4uHhyaTuKFd-vyvNNM_e9WisI9w3INO&followup=https%3A%2F%2Fdrive.google.com%2Fuc%3Fexport%3Ddownload%26id%3D1N4uHhyaTuKFd-vyvNNM_e9WisI9w3INO&ifkv=AXo7B7W7_31rZBH_mteddeym0ZXcu6bWg9NM6baXdM4US_Zr8LgI03qbV4SNiMU0wXnF-r2Ub8fncA&passive=1209600&service=wise&flowName=WebLiteSignIn&flowEntry=ServiceLogin&dsh=S1292129980%3A1691259053834988\n",
            "Reusing existing connection to accounts.google.com:443.\n",
            "HTTP request sent, awaiting response... 200 OK\n",
            "Length: unspecified [text/html]\n",
            "Saving to: ‘STDOUT’\n",
            "\n",
            "-                       [ <=>                ] 567.01K  --.-KB/s    in 0.05s   \n",
            "\n",
            "2023-08-05 18:10:53 (10.8 MB/s) - written to stdout [580618]\n",
            "\n",
            "--2023-08-05 18:10:53--  https://drive.google.com/uc?export=download&id=1N4uHhyaTuKFd-vyvNNM_e9WisI9w3INO&confirm=\n",
            "Resolving drive.google.com (drive.google.com)... 142.250.107.139, 142.250.107.113, 142.250.107.138, ...\n",
            "Connecting to drive.google.com (drive.google.com)|142.250.107.139|:443... connected.\n",
            "HTTP request sent, awaiting response... 302 Found\n",
            "Location: https://accounts.google.com/ServiceLogin?service=wise&passive=1209600&continue=https://drive.google.com/uc?export%3Ddownload%26id%3D1N4uHhyaTuKFd-vyvNNM_e9WisI9w3INO%26confirm&followup=https://drive.google.com/uc?export%3Ddownload%26id%3D1N4uHhyaTuKFd-vyvNNM_e9WisI9w3INO%26confirm [following]\n",
            "--2023-08-05 18:10:54--  https://accounts.google.com/ServiceLogin?service=wise&passive=1209600&continue=https://drive.google.com/uc?export%3Ddownload%26id%3D1N4uHhyaTuKFd-vyvNNM_e9WisI9w3INO%26confirm&followup=https://drive.google.com/uc?export%3Ddownload%26id%3D1N4uHhyaTuKFd-vyvNNM_e9WisI9w3INO%26confirm\n",
            "Resolving accounts.google.com (accounts.google.com)... 142.250.107.84, 2607:f8b0:400e:c08::54\n",
            "Connecting to accounts.google.com (accounts.google.com)|142.250.107.84|:443... connected.\n",
            "HTTP request sent, awaiting response... 302 Found\n",
            "Location: https://accounts.google.com/InteractiveLogin?continue=https://drive.google.com/uc?export%3Ddownload%26id%3D1N4uHhyaTuKFd-vyvNNM_e9WisI9w3INO%26confirm&followup=https://drive.google.com/uc?export%3Ddownload%26id%3D1N4uHhyaTuKFd-vyvNNM_e9WisI9w3INO%26confirm&passive=1209600&service=wise&ifkv=AXo7B7UZeKNRQa-bCVl_3zAZU5OPEWuuDxjqJJB0i4VWTwYIWSb55-nFFP6Hu0P1cEnPctlfifvplA [following]\n",
            "--2023-08-05 18:10:54--  https://accounts.google.com/InteractiveLogin?continue=https://drive.google.com/uc?export%3Ddownload%26id%3D1N4uHhyaTuKFd-vyvNNM_e9WisI9w3INO%26confirm&followup=https://drive.google.com/uc?export%3Ddownload%26id%3D1N4uHhyaTuKFd-vyvNNM_e9WisI9w3INO%26confirm&passive=1209600&service=wise&ifkv=AXo7B7UZeKNRQa-bCVl_3zAZU5OPEWuuDxjqJJB0i4VWTwYIWSb55-nFFP6Hu0P1cEnPctlfifvplA\n",
            "Reusing existing connection to accounts.google.com:443.\n",
            "HTTP request sent, awaiting response... 302 Moved Temporarily\n",
            "Location: https://accounts.google.com/v3/signin/identifier?continue=https%3A%2F%2Fdrive.google.com%2Fuc%3Fexport%3Ddownload%26id%3D1N4uHhyaTuKFd-vyvNNM_e9WisI9w3INO%26confirm&followup=https%3A%2F%2Fdrive.google.com%2Fuc%3Fexport%3Ddownload%26id%3D1N4uHhyaTuKFd-vyvNNM_e9WisI9w3INO%26confirm&ifkv=AXo7B7VTr5CmgW_I0jQrGq6Gx2QoZfZS3C-wbT6ASihAN_1qT0W2go3nnV6aFjp-skDIpWv0uX76zg&passive=1209600&service=wise&flowName=WebLiteSignIn&flowEntry=ServiceLogin&dsh=S1191415405%3A1691259054375533 [following]\n",
            "--2023-08-05 18:10:54--  https://accounts.google.com/v3/signin/identifier?continue=https%3A%2F%2Fdrive.google.com%2Fuc%3Fexport%3Ddownload%26id%3D1N4uHhyaTuKFd-vyvNNM_e9WisI9w3INO%26confirm&followup=https%3A%2F%2Fdrive.google.com%2Fuc%3Fexport%3Ddownload%26id%3D1N4uHhyaTuKFd-vyvNNM_e9WisI9w3INO%26confirm&ifkv=AXo7B7VTr5CmgW_I0jQrGq6Gx2QoZfZS3C-wbT6ASihAN_1qT0W2go3nnV6aFjp-skDIpWv0uX76zg&passive=1209600&service=wise&flowName=WebLiteSignIn&flowEntry=ServiceLogin&dsh=S1191415405%3A1691259054375533\n",
            "Reusing existing connection to accounts.google.com:443.\n",
            "HTTP request sent, awaiting response... 200 OK\n",
            "Length: unspecified [text/html]\n",
            "Saving to: ‘SRR12905311.fastq.gz’\n",
            "\n",
            "SRR12905311.fastq.g     [ <=>                ] 566.92K  --.-KB/s    in 0.05s   \n",
            "\n",
            "2023-08-05 18:10:54 (11.1 MB/s) - ‘SRR12905311.fastq.gz’ saved [580523]\n",
            "\n"
          ]
        }
      ]
    },
    {
      "cell_type": "code",
      "source": [
        "annotation_file_id = \"1cip1xehhZZunD6KiJX3PMan1qman2ZX2\"\n",
        "annotation_filename = \"genomic.gtf\""
      ],
      "metadata": {
        "id": "rC7jVDSP-6PW"
      },
      "execution_count": 5,
      "outputs": []
    },
    {
      "cell_type": "code",
      "source": [
        "!wget -O $annotation_filename \"$google_drive_url$annotation_file_id\""
      ],
      "metadata": {
        "colab": {
          "base_uri": "https://localhost:8080/"
        },
        "id": "TGq8_eckAzKz",
        "outputId": "fb7cb732-7c28-4129-c1b4-1be1a6fe8e57"
      },
      "execution_count": 6,
      "outputs": [
        {
          "output_type": "stream",
          "name": "stdout",
          "text": [
            "--2023-08-05 18:10:59--  https://drive.google.com/uc?export=download&id=1cip1xehhZZunD6KiJX3PMan1qman2ZX2\n",
            "Resolving drive.google.com (drive.google.com)... 142.250.107.139, 142.250.107.113, 142.250.107.138, ...\n",
            "Connecting to drive.google.com (drive.google.com)|142.250.107.139|:443... connected.\n",
            "HTTP request sent, awaiting response... 302 Found\n",
            "Location: https://accounts.google.com/ServiceLogin?service=wise&passive=1209600&continue=https://drive.google.com/uc?export%3Ddownload%26id%3D1cip1xehhZZunD6KiJX3PMan1qman2ZX2&followup=https://drive.google.com/uc?export%3Ddownload%26id%3D1cip1xehhZZunD6KiJX3PMan1qman2ZX2 [following]\n",
            "--2023-08-05 18:10:59--  https://accounts.google.com/ServiceLogin?service=wise&passive=1209600&continue=https://drive.google.com/uc?export%3Ddownload%26id%3D1cip1xehhZZunD6KiJX3PMan1qman2ZX2&followup=https://drive.google.com/uc?export%3Ddownload%26id%3D1cip1xehhZZunD6KiJX3PMan1qman2ZX2\n",
            "Resolving accounts.google.com (accounts.google.com)... 142.250.107.84, 2607:f8b0:400e:c03::54\n",
            "Connecting to accounts.google.com (accounts.google.com)|142.250.107.84|:443... connected.\n",
            "HTTP request sent, awaiting response... 302 Found\n",
            "Location: https://accounts.google.com/InteractiveLogin?continue=https://drive.google.com/uc?export%3Ddownload%26id%3D1cip1xehhZZunD6KiJX3PMan1qman2ZX2&followup=https://drive.google.com/uc?export%3Ddownload%26id%3D1cip1xehhZZunD6KiJX3PMan1qman2ZX2&passive=1209600&service=wise&ifkv=AXo7B7X7JZjKva80zr_YjyXe5POiJTWvdikelDtl6dEF5aNaC2ew1QSZJoihxACNUEl1EjWA1j8KvQ [following]\n",
            "--2023-08-05 18:10:59--  https://accounts.google.com/InteractiveLogin?continue=https://drive.google.com/uc?export%3Ddownload%26id%3D1cip1xehhZZunD6KiJX3PMan1qman2ZX2&followup=https://drive.google.com/uc?export%3Ddownload%26id%3D1cip1xehhZZunD6KiJX3PMan1qman2ZX2&passive=1209600&service=wise&ifkv=AXo7B7X7JZjKva80zr_YjyXe5POiJTWvdikelDtl6dEF5aNaC2ew1QSZJoihxACNUEl1EjWA1j8KvQ\n",
            "Reusing existing connection to accounts.google.com:443.\n",
            "HTTP request sent, awaiting response... 302 Moved Temporarily\n",
            "Location: https://accounts.google.com/v3/signin/identifier?continue=https%3A%2F%2Fdrive.google.com%2Fuc%3Fexport%3Ddownload%26id%3D1cip1xehhZZunD6KiJX3PMan1qman2ZX2&followup=https%3A%2F%2Fdrive.google.com%2Fuc%3Fexport%3Ddownload%26id%3D1cip1xehhZZunD6KiJX3PMan1qman2ZX2&ifkv=AXo7B7WZXyCq7L07rBvD2yQxjBxw2fWY5_QlrnNbMtjkklNP9kgF2Ku1xs0SFHk0r4BPhe7UQU4l_w&passive=1209600&service=wise&flowName=WebLiteSignIn&flowEntry=ServiceLogin&dsh=S-100626831%3A1691259059381622 [following]\n",
            "--2023-08-05 18:10:59--  https://accounts.google.com/v3/signin/identifier?continue=https%3A%2F%2Fdrive.google.com%2Fuc%3Fexport%3Ddownload%26id%3D1cip1xehhZZunD6KiJX3PMan1qman2ZX2&followup=https%3A%2F%2Fdrive.google.com%2Fuc%3Fexport%3Ddownload%26id%3D1cip1xehhZZunD6KiJX3PMan1qman2ZX2&ifkv=AXo7B7WZXyCq7L07rBvD2yQxjBxw2fWY5_QlrnNbMtjkklNP9kgF2Ku1xs0SFHk0r4BPhe7UQU4l_w&passive=1209600&service=wise&flowName=WebLiteSignIn&flowEntry=ServiceLogin&dsh=S-100626831%3A1691259059381622\n",
            "Reusing existing connection to accounts.google.com:443.\n",
            "HTTP request sent, awaiting response... 200 OK\n",
            "Length: unspecified [text/html]\n",
            "Saving to: ‘genomic.gtf’\n",
            "\n",
            "genomic.gtf             [ <=>                ] 566.95K  --.-KB/s    in 0.02s   \n",
            "\n",
            "2023-08-05 18:10:59 (27.2 MB/s) - ‘genomic.gtf’ saved [580556]\n",
            "\n"
          ]
        }
      ]
    },
    {
      "cell_type": "code",
      "source": [
        "reference_file_id = \"1ZEyGjhEPwY6JlKYQPvB-XtkpRYU_olEq\"\n",
        "reference_filename = \"GCF_000006765.1_ASM676v1_genomic.fna\""
      ],
      "metadata": {
        "id": "AdIqVjiqA6yV"
      },
      "execution_count": 7,
      "outputs": []
    },
    {
      "cell_type": "code",
      "source": [
        "!wget -O $reference_filename \"$google_drive_url$reference_file_id\""
      ],
      "metadata": {
        "id": "6lswhAhABOBC",
        "outputId": "6c7f2597-e5e2-435a-8cc9-f01e5d2fef19",
        "colab": {
          "base_uri": "https://localhost:8080/"
        }
      },
      "execution_count": 8,
      "outputs": [
        {
          "output_type": "stream",
          "name": "stdout",
          "text": [
            "--2023-08-05 18:11:05--  https://drive.google.com/uc?export=download&id=1ZEyGjhEPwY6JlKYQPvB-XtkpRYU_olEq\n",
            "Resolving drive.google.com (drive.google.com)... 142.250.107.139, 142.250.107.113, 142.250.107.138, ...\n",
            "Connecting to drive.google.com (drive.google.com)|142.250.107.139|:443... connected.\n",
            "HTTP request sent, awaiting response... 302 Found\n",
            "Location: https://accounts.google.com/ServiceLogin?service=wise&passive=1209600&continue=https://drive.google.com/uc?export%3Ddownload%26id%3D1ZEyGjhEPwY6JlKYQPvB-XtkpRYU_olEq&followup=https://drive.google.com/uc?export%3Ddownload%26id%3D1ZEyGjhEPwY6JlKYQPvB-XtkpRYU_olEq [following]\n",
            "--2023-08-05 18:11:05--  https://accounts.google.com/ServiceLogin?service=wise&passive=1209600&continue=https://drive.google.com/uc?export%3Ddownload%26id%3D1ZEyGjhEPwY6JlKYQPvB-XtkpRYU_olEq&followup=https://drive.google.com/uc?export%3Ddownload%26id%3D1ZEyGjhEPwY6JlKYQPvB-XtkpRYU_olEq\n",
            "Resolving accounts.google.com (accounts.google.com)... 142.250.107.84, 2607:f8b0:400e:c03::54\n",
            "Connecting to accounts.google.com (accounts.google.com)|142.250.107.84|:443... connected.\n",
            "HTTP request sent, awaiting response... 302 Found\n",
            "Location: https://accounts.google.com/InteractiveLogin?continue=https://drive.google.com/uc?export%3Ddownload%26id%3D1ZEyGjhEPwY6JlKYQPvB-XtkpRYU_olEq&followup=https://drive.google.com/uc?export%3Ddownload%26id%3D1ZEyGjhEPwY6JlKYQPvB-XtkpRYU_olEq&passive=1209600&service=wise&ifkv=AXo7B7XCd-L-eRf2TPbBjOJM8LVstecsF_7yqk0i5H8seS98SOvf4IktjrmA_XLnKvUT07jafg7rTg [following]\n",
            "--2023-08-05 18:11:05--  https://accounts.google.com/InteractiveLogin?continue=https://drive.google.com/uc?export%3Ddownload%26id%3D1ZEyGjhEPwY6JlKYQPvB-XtkpRYU_olEq&followup=https://drive.google.com/uc?export%3Ddownload%26id%3D1ZEyGjhEPwY6JlKYQPvB-XtkpRYU_olEq&passive=1209600&service=wise&ifkv=AXo7B7XCd-L-eRf2TPbBjOJM8LVstecsF_7yqk0i5H8seS98SOvf4IktjrmA_XLnKvUT07jafg7rTg\n",
            "Reusing existing connection to accounts.google.com:443.\n",
            "HTTP request sent, awaiting response... 302 Moved Temporarily\n",
            "Location: https://accounts.google.com/v3/signin/identifier?continue=https%3A%2F%2Fdrive.google.com%2Fuc%3Fexport%3Ddownload%26id%3D1ZEyGjhEPwY6JlKYQPvB-XtkpRYU_olEq&followup=https%3A%2F%2Fdrive.google.com%2Fuc%3Fexport%3Ddownload%26id%3D1ZEyGjhEPwY6JlKYQPvB-XtkpRYU_olEq&ifkv=AXo7B7U2PxJGcnQR8aW3rcjtj2VcD4KWcDzYil0PSQLkU6fna1TpY8QnhoB6VD4OWuILBUOlOCNtpA&passive=1209600&service=wise&flowName=WebLiteSignIn&flowEntry=ServiceLogin&dsh=S-385147526%3A1691259065655215 [following]\n",
            "--2023-08-05 18:11:05--  https://accounts.google.com/v3/signin/identifier?continue=https%3A%2F%2Fdrive.google.com%2Fuc%3Fexport%3Ddownload%26id%3D1ZEyGjhEPwY6JlKYQPvB-XtkpRYU_olEq&followup=https%3A%2F%2Fdrive.google.com%2Fuc%3Fexport%3Ddownload%26id%3D1ZEyGjhEPwY6JlKYQPvB-XtkpRYU_olEq&ifkv=AXo7B7U2PxJGcnQR8aW3rcjtj2VcD4KWcDzYil0PSQLkU6fna1TpY8QnhoB6VD4OWuILBUOlOCNtpA&passive=1209600&service=wise&flowName=WebLiteSignIn&flowEntry=ServiceLogin&dsh=S-385147526%3A1691259065655215\n",
            "Reusing existing connection to accounts.google.com:443.\n",
            "HTTP request sent, awaiting response... 200 OK\n",
            "Length: unspecified [text/html]\n",
            "Saving to: ‘GCF_000006765.1_ASM676v1_genomic.fna’\n",
            "\n",
            "GCF_000006765.1_ASM     [ <=>                ] 566.90K  --.-KB/s    in 0.05s   \n",
            "\n",
            "2023-08-05 18:11:05 (11.8 MB/s) - ‘GCF_000006765.1_ASM676v1_genomic.fna’ saved [580507]\n",
            "\n"
          ]
        }
      ]
    },
    {
      "cell_type": "code",
      "source": [
        "!gunzip $reads_filename\n",
        "!ls -al"
      ],
      "metadata": {
        "colab": {
          "base_uri": "https://localhost:8080/"
        },
        "id": "Z-XNuS2e5Y6W",
        "outputId": "35171fb1-b73b-4f8b-e92b-bdbe8901f6a6"
      },
      "execution_count": 9,
      "outputs": [
        {
          "output_type": "stream",
          "name": "stdout",
          "text": [
            "\n",
            "gzip: SRR12905311.fastq.gz: not in gzip format\n",
            "total 1728\n",
            "drwxr-xr-x 1 root root   4096 Aug  5 18:11 .\n",
            "drwxr-xr-x 1 root root   4096 Aug  5 18:07 ..\n",
            "drwxr-xr-x 4 root root   4096 Aug  3 13:44 .config\n",
            "-rw-r--r-- 1 root root      0 Aug  5 18:10 confirm.txt\n",
            "-rw-r--r-- 1 root root    195 Aug  5 18:10 cookies.txt\n",
            "drwx------ 5 root root   4096 Aug  5 18:10 drive\n",
            "-rw-r--r-- 1 root root 580507 Aug  5 18:11 GCF_000006765.1_ASM676v1_genomic.fna\n",
            "-rw-r--r-- 1 root root 580556 Aug  5 18:10 genomic.gtf\n",
            "drwxr-xr-x 1 root root   4096 Aug  3 13:45 sample_data\n",
            "-rw-r--r-- 1 root root 580523 Aug  5 18:10 SRR12905311.fastq.gz\n"
          ]
        }
      ]
    },
    {
      "cell_type": "code",
      "source": [
        "reads_filename = reads_filename.removesuffix(\".gz\")\n",
        "reads_filename"
      ],
      "metadata": {
        "id": "wfB86z4T5coI"
      },
      "execution_count": null,
      "outputs": []
    },
    {
      "cell_type": "code",
      "source": [
        "!fastqc $reads_filename"
      ],
      "metadata": {
        "id": "QFTfyVzA5iQS"
      },
      "execution_count": null,
      "outputs": []
    },
    {
      "cell_type": "code",
      "source": [
        "!bwa index $reference_filename"
      ],
      "metadata": {
        "colab": {
          "base_uri": "https://localhost:8080/"
        },
        "id": "Mxgkf0_b5iw9",
        "outputId": "ec625fca-ae30-4321-881e-3f9153334216"
      },
      "execution_count": 10,
      "outputs": [
        {
          "output_type": "stream",
          "name": "stdout",
          "text": [
            "[bwa_index] Pack FASTA... 0.11 sec\n",
            "[bwa_index] Construct BWT for the packed sequence...\n",
            "[bwa_index] 0.12 seconds elapse.\n",
            "[bwa_index] Update BWT... 0.00 sec\n",
            "[bwa_index] Pack forward-only FASTA... 0.10 sec\n",
            "[bwa_index] Construct SA from BWT and Occ... 0.06 sec\n",
            "[main] Version: 0.7.17-r1188\n",
            "[main] CMD: bwa index GCF_000006765.1_ASM676v1_genomic.fna\n",
            "[main] Real time: 0.477 sec; CPU: 0.399 sec\n"
          ]
        }
      ]
    },
    {
      "cell_type": "code",
      "source": [
        "alignment_filename = reads_filename.removesuffix(\".fastq\") + \"_alignment.sam\"\n"
      ],
      "metadata": {
        "id": "oDYcefy85mzV"
      },
      "execution_count": 12,
      "outputs": []
    },
    {
      "cell_type": "code",
      "source": [
        "!bwa mem $reference_filename $reads_filename > $alignment_filename"
      ],
      "metadata": {
        "colab": {
          "base_uri": "https://localhost:8080/"
        },
        "id": "JL5qry135pjk",
        "outputId": "b404ca3c-ced4-48a5-c58e-32cdf4d2aef2"
      },
      "execution_count": 13,
      "outputs": [
        {
          "output_type": "stream",
          "name": "stdout",
          "text": [
            "[bns_restore_core] Parse error reading GCF_000006765.1_ASM676v1_genomic.fna.amb\n",
            "\n"
          ]
        }
      ]
    },
    {
      "cell_type": "code",
      "source": [
        "!samtools stats $alignment_filename | head -n 30"
      ],
      "metadata": {
        "id": "q7Gza3g35tvE"
      },
      "execution_count": null,
      "outputs": []
    },
    {
      "cell_type": "code",
      "source": [
        "!mkdir -p star_genome"
      ],
      "metadata": {
        "id": "h_MuuxTm5wEA"
      },
      "execution_count": null,
      "outputs": []
    },
    {
      "cell_type": "code",
      "source": [
        "!STAR --runMode genomeGenerate --genomeDir star_genome --genomeFastaFiles $reference_filename"
      ],
      "metadata": {
        "id": "vC2a3sLb5x-j"
      },
      "execution_count": null,
      "outputs": []
    },
    {
      "cell_type": "code",
      "source": [
        "!STAR --runMode alignReads --genomeDir star_genome --quantMode GeneCounts \\\n",
        "\t  --outFileNamePrefix map_prefix --sjdbGTFfile $annotation_filename \\\n",
        "\t  --readFilesIn $reads_filename"
      ],
      "metadata": {
        "id": "kLkoQqWS509Q"
      },
      "execution_count": null,
      "outputs": []
    }
  ]
}