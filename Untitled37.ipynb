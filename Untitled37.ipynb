{
  "nbformat": 4,
  "nbformat_minor": 0,
  "metadata": {
    "colab": {
      "name": "Untitled37.ipynb",
      "provenance": [],
      "authorship_tag": "ABX9TyMH6tuOdxMBEozagYOeijF8",
      "include_colab_link": true
    },
    "kernelspec": {
      "name": "python3",
      "display_name": "Python 3"
    },
    "language_info": {
      "name": "python"
    }
  },
  "cells": [
    {
      "cell_type": "markdown",
      "metadata": {
        "id": "view-in-github",
        "colab_type": "text"
      },
      "source": [
        "<a href=\"https://colab.research.google.com/github/geekevgin/-Python/blob/main/Untitled37.ipynb\" target=\"_parent\"><img src=\"https://colab.research.google.com/assets/colab-badge.svg\" alt=\"Open In Colab\"/></a>"
      ]
    },
    {
      "cell_type": "code",
      "execution_count": 1,
      "metadata": {
        "id": "7H2NycF2gutC"
      },
      "outputs": [],
      "source": [
        "import matplotlib.pyplot as plt\n",
        "import random\n",
        "from matplotlib.colors import ListedColormap\n",
        "from sklearn import datasets\n",
        "import numpy as np"
      ]
    },
    {
      "cell_type": "code",
      "source": [
        "classification_data, classification_labels = datasets.make_classification(n_features = 2, n_informative = 2, \n",
        "                                                      n_classes = 2, n_redundant=0, \n",
        "                                                      n_clusters_per_class=1, random_state=5)\n",
        "\n",
        "colors = ListedColormap(['red', 'blue'])\n",
        "light_colors = ListedColormap(['lightcoral', 'lightblue'])\n",
        "\n",
        "plt.figure(figsize=(8,8))\n",
        "plt.scatter(list(map(lambda x: x[1], classification_data)), list(map(lambda x: x[0], classification_data)), \n",
        "              c=classification_labels, cmap=colors)"
      ],
      "metadata": {
        "colab": {
          "base_uri": "https://localhost:8080/",
          "height": 500
        },
        "id": "0UkkOcfyg7xM",
        "outputId": "ff3f321e-2830-49ef-f8c2-12eeaa63e341"
      },
      "execution_count": 2,
      "outputs": [
        {
          "output_type": "execute_result",
          "data": {
            "text/plain": [
              "<matplotlib.collections.PathCollection at 0x7f302ae29f10>"
            ]
          },
          "metadata": {},
          "execution_count": 2
        },
        {
          "output_type": "display_data",
          "data": {
            "text/plain": [
              "<Figure size 576x576 with 1 Axes>"
            ],
            "image/png": "[encoded data removed]"
          },
          "metadata": {
            "needs_background": "light"
          }
        }
      ]
    },
    {
      "cell_type": "code",
      "source": [
        "class Node:\n",
        "    \n",
        "    def __init__(self, index, t, true_branch, false_branch):\n",
        "        self.index = index  \n",
        "        self.t = t \n",
        "        self.true_branch = true_branch  \n",
        "        self.false_branch = false_branch  \n",
        "\n",
        "class Leaf:\n",
        "    \n",
        "    def __init__(self, data, labels):\n",
        "        self.data = data\n",
        "        self.labels = labels\n",
        "        self.prediction = self.predict()\n",
        "        \n",
        "    def predict(self):\n",
        "        \n",
        "        classes = {}  \n",
        "        for label in self.labels:\n",
        "            if label not in classes:\n",
        "                classes[label] = 0\n",
        "            classes[label] += 1   \n",
        "        prediction = max(classes, key=classes.get)\n",
        "        return prediction "
      ],
      "metadata": {
        "id": "P22zm26dg9VS"
      },
      "execution_count": 3,
      "outputs": []
    },
    {
      "cell_type": "code",
      "source": [
        "def gini(labels):\n",
        "    classes = {}\n",
        "    for label in labels:\n",
        "        if label not in classes:\n",
        "            classes[label] = 0\n",
        "        classes[label] += 1\n",
        "\n",
        "    impurity = 1\n",
        "    for label in classes:\n",
        "        p = classes[label] / len(labels)\n",
        "        impurity = - np.sum(p*np.log(p))\n",
        "        \n",
        "    return impurity"
      ],
      "metadata": {
        "id": "gNHgX2iJhUS5"
      },
      "execution_count": 4,
      "outputs": []
    },
    {
      "cell_type": "code",
      "source": [
        "def split(data, labels, index, t):\n",
        "    \n",
        "    left = np.where(data[:, index] <= t)\n",
        "    right = np.where(data[:, index] > t)\n",
        "        \n",
        "    true_data = data[left]\n",
        "    false_data = data[right]\n",
        "    true_labels = labels[left]\n",
        "    false_labels = labels[right]\n",
        "        \n",
        "    return true_data, false_data, true_labels, false_labels"
      ],
      "metadata": {
        "id": "vesF20PjhgZZ"
      },
      "execution_count": 5,
      "outputs": []
    },
    {
      "cell_type": "code",
      "source": [
        "def quality(left_labels, right_labels, current_gini):\n",
        "    p = float(left_labels.shape[0]) / (left_labels.shape[0] + right_labels.shape[0])\n",
        "    \n",
        "    return current_gini - p * gini(left_labels) - (1 - p) * gini(right_labels)\n",
        "\n",
        "def split(data, labels, index, t):\n",
        "    \n",
        "    left = np.where(data[:, index] <= t)\n",
        "    right = np.where(data[:, index] > t)\n",
        "        \n",
        "    true_data = data[left]\n",
        "    false_data = data[right]\n",
        "    true_labels = labels[left]\n",
        "    false_labels = labels[right]\n",
        "        \n",
        "    return true_data, false_data, true_labels, false_labels\n"
      ],
      "metadata": {
        "id": "cfvnuknuhlUQ"
      },
      "execution_count": 6,
      "outputs": []
    },
    {
      "cell_type": "code",
      "source": [
        "def find_best_split(data, labels):\n",
        "    min_leaf = 5\n",
        "    current_gini = gini(labels)\n",
        "    best_quality = 0\n",
        "    best_t = None\n",
        "    best_index = None\n",
        "    \n",
        "    n_features = data.shape[1]\n",
        "    \n",
        "    for index in range(n_features):\n",
        "        t_values = np.unique([row[index] for row in data])\n",
        "        \n",
        "        for t in t_values:\n",
        "            true_data, false_data, true_labels, false_labels = split(data, labels, index, t)\n",
        "            if len(true_data) < min_leaf or len(false_data) < min_leaf:\n",
        "                continue\n",
        "            \n",
        "            current_quality = quality(true_labels, false_labels, current_gini)\n",
        "            \n",
        "            if current_quality > best_quality:\n",
        "                best_quality, best_t, best_index = current_quality, t, index\n",
        "\n",
        "    return best_quality, best_t, best_index\n",
        "\n",
        "def build_tree(data, labels, depth_lim = 20, depth = 2):\n",
        "    quality, t, index = find_best_split(data, labels)\n",
        "    if quality == 0 and depth == 2:\n",
        "        return Leaf(data, labels)\n",
        "\n",
        "    true_data, false_data, true_labels, false_labels = split(data, labels, index, t)\n",
        "\n",
        "    true_branch = build_tree(true_data, true_labels)\n",
        "    false_branch = build_tree(false_data, false_labels)\n",
        "\n",
        "    return Node(index, t, true_branch, false_branch)\n",
        "\n",
        "\n",
        "\n",
        "def classify_object(obj, node):\n",
        "    if isinstance(node, Leaf):\n",
        "        answer = node.prediction\n",
        "        return answer\n",
        "    if obj[node.index] <= node.t:\n",
        "        return classify_object(obj, node.true_branch)\n",
        "    else:\n",
        "        return classify_object(obj, node.false_branch)\n",
        "    \n",
        "    \n",
        "def predict(data, tree):\n",
        "    \n",
        "    classes = []\n",
        "    for obj in data:\n",
        "        prediction = classify_object(obj, tree)\n",
        "        classes.append(prediction)\n",
        "    return np.array(classes)"
      ],
      "metadata": {
        "id": "PvRpSLSdhssb"
      },
      "execution_count": 32,
      "outputs": []
    },
    {
      "cell_type": "code",
      "source": [
        "from sklearn import model_selection\n",
        "\n",
        "train_data, test_data, train_labels, test_labels = model_selection.train_test_split(classification_data, \n",
        "                                                                                     classification_labels, \n",
        "                                                                                     test_size = 0.3,\n",
        "                                                                                     random_state = 1)\n",
        "my_tree = build_tree(train_data, train_labels)\n",
        "def print_tree(node, spacing=\"\"):\n",
        "    if isinstance(node, Leaf):\n",
        "        print(spacing + \"Прогноз:\", node.prediction)\n",
        "        return\n",
        "\n",
        "    print(spacing + 'Индекс', str(node.index))\n",
        "    print(spacing + 'Порог', str(node.t))\n",
        "    print (spacing + '--> True:')\n",
        "    print_tree(node.true_branch, spacing + \"  \")\n",
        "    print (spacing + '--> False:')\n",
        "    print_tree(node.false_branch, spacing + \"  \")\n",
        "    \n",
        "print_tree(my_tree)"
      ],
      "metadata": {
        "colab": {
          "base_uri": "https://localhost:8080/"
        },
        "id": "Ft7toDHnh95a",
        "outputId": "de30051f-f245-420b-c499-560faec5904c"
      },
      "execution_count": 33,
      "outputs": [
        {
          "output_type": "stream",
          "name": "stdout",
          "text": [
            "Индекс 0\n",
            "Порог 0.663389024866191\n",
            "--> True:\n",
            "  Индекс 1\n",
            "  Порог -1.4822288912188288\n",
            "  --> True:\n",
            "    Индекс 0\n",
            "    Порог -0.4942656820712277\n",
            "    --> True:\n",
            "      Прогноз: 0\n",
            "    --> False:\n",
            "      Прогноз: 1\n",
            "  --> False:\n",
            "    Индекс 0\n",
            "    Порог -0.05059925053749681\n",
            "    --> True:\n",
            "      Прогноз: 0\n",
            "    --> False:\n",
            "      Прогноз: 1\n",
            "--> False:\n",
            "  Прогноз: 1\n"
          ]
        }
      ]
    },
    {
      "cell_type": "code",
      "source": [
        "train_answers = predict(train_data, my_tree)\n",
        "answers = predict(test_data, my_tree)\n",
        "\n",
        "def accuracy_metric(actual, predicted):\n",
        "    return np.sum(actual==predicted)/len(actual)\n",
        "\n",
        "def balanced_accuracy_metric(actual, predicted):\n",
        "    true_predicted=(actual==predicted).astype(int)\n",
        "    sensitivity=np.sum(actual*true_predicted)/np.sum(actual==1)\n",
        "    specificity=np.sum((1-actual)*true_predicted)/np.sum(actual==0)\n",
        "    return 0.5*(sensitivity+specificity)"
      ],
      "metadata": {
        "id": "ANrvAKm4i_xV"
      },
      "execution_count": 34,
      "outputs": []
    },
    {
      "cell_type": "code",
      "source": [
        "train_accuracy=accuracy_metric(train_labels, train_answers)\n",
        "accuracy_metric(train_labels, train_answers), balanced_accuracy_metric(train_labels, train_answers)"
      ],
      "metadata": {
        "colab": {
          "base_uri": "https://localhost:8080/"
        },
        "id": "L0NV2B4LjEdF",
        "outputId": "b34cdb76-6885-41d9-d357-644dcfb076d2"
      },
      "execution_count": 35,
      "outputs": [
        {
          "output_type": "execute_result",
          "data": {
            "text/plain": [
              "(0.9571428571428572, 0.9571428571428571)"
            ]
          },
          "metadata": {},
          "execution_count": 35
        }
      ]
    },
    {
      "cell_type": "code",
      "source": [
        "test_accuracy=accuracy_metric(test_labels, answers)\n",
        "accuracy_metric(test_labels, answers), balanced_accuracy_metric(test_labels, answers)"
      ],
      "metadata": {
        "colab": {
          "base_uri": "https://localhost:8080/"
        },
        "id": "1lJj-ejTjJI8",
        "outputId": "9b8194c0-6819-4520-f395-c81b76493032"
      },
      "execution_count": 36,
      "outputs": [
        {
          "output_type": "execute_result",
          "data": {
            "text/plain": [
              "(0.9666666666666667, 0.9666666666666667)"
            ]
          },
          "metadata": {},
          "execution_count": 36
        }
      ]
    },
    {
      "cell_type": "code",
      "source": [
        "def get_meshgrid(data, step=.05, border=1.2):\n",
        "    x_min, x_max = data[:, 0].min() - border, data[:, 0].max() + border\n",
        "    y_min, y_max = data[:, 1].min() - border, data[:, 1].max() + border\n",
        "    return np.meshgrid(np.arange(x_min, x_max, step), np.arange(y_min, y_max, step))\n",
        "\n",
        "plt.figure(figsize = (16, 7))\n",
        "\n",
        "# график обучающей выборки\n",
        "plt.subplot(1,2,1)\n",
        "xx, yy = get_meshgrid(train_data)\n",
        "mesh_predictions = np.array(predict(np.c_[xx.ravel(), yy.ravel()], my_tree)).reshape(xx.shape)\n",
        "plt.pcolormesh(xx, yy, mesh_predictions, cmap = light_colors)\n",
        "plt.scatter(train_data[:, 0], train_data[:, 1], c = train_labels, cmap = colors)\n",
        "plt.title(f'Train accuracy={train_accuracy:.2f}')\n",
        "\n",
        "# график тестовой выборки\n",
        "plt.subplot(1,2,2)\n",
        "plt.pcolormesh(xx, yy, mesh_predictions, cmap = light_colors)\n",
        "plt.scatter(test_data[:, 0], test_data[:, 1], c = test_labels, cmap = colors)\n",
        "plt.title(f'Test accuracy={test_accuracy:.2f}')"
      ],
      "metadata": {
        "colab": {
          "base_uri": "https://localhost:8080/",
          "height": 461
        },
        "id": "TqJxyT_xjMsV",
        "outputId": "997cb3d2-c3ee-438b-adab-af2fb0361083"
      },
      "execution_count": 37,
      "outputs": [
        {
          "output_type": "execute_result",
          "data": {
            "text/plain": [
              "Text(0.5, 1.0, 'Test accuracy=0.97')"
            ]
          },
          "metadata": {},
          "execution_count": 37
        },
        {
          "output_type": "display_data",
          "data": {
            "text/plain": [
              "<Figure size 1152x504 with 2 Axes>"
            ],
            "image/png": "[encoded data removed]"
          },
          "metadata": {
            "needs_background": "light"
          }
        }
      ]
    }
  ]
}