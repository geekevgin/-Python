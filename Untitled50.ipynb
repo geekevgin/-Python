{
  "nbformat": 4,
  "nbformat_minor": 0,
  "metadata": {
    "colab": {
      "provenance": [],
      "authorship_tag": "ABX9TyMY1V2R2bje4Wlid516MDpE",
      "include_colab_link": true
    },
    "kernelspec": {
      "name": "python3",
      "display_name": "Python 3"
    },
    "language_info": {
      "name": "python"
    }
  },
  "cells": [
    {
      "cell_type": "markdown",
      "metadata": {
        "id": "view-in-github",
        "colab_type": "text"
      },
      "source": [
        "<a href=\"https://colab.research.google.com/github/geekevgin/-Python/blob/main/Untitled50.ipynb\" target=\"_parent\"><img src=\"https://colab.research.google.com/assets/colab-badge.svg\" alt=\"Open In Colab\"/></a>"
      ]
    },
    {
      "cell_type": "code",
      "execution_count": 2,
      "metadata": {
        "colab": {
          "base_uri": "https://localhost:8080/"
        },
        "id": "36HyHXFzv7Gc",
        "outputId": "a1be9302-15f8-4d87-d68e-c2a86d709732"
      },
      "outputs": [
        {
          "output_type": "stream",
          "name": "stdout",
          "text": [
            "Looking in indexes: https://pypi.org/simple, https://us-python.pkg.dev/colab-wheels/public/simple/\n",
            "Requirement already satisfied: torch in /usr/local/lib/python3.8/dist-packages (1.13.0+cu116)\n",
            "Requirement already satisfied: torchvision in /usr/local/lib/python3.8/dist-packages (0.14.0+cu116)\n",
            "Requirement already satisfied: typing-extensions in /usr/local/lib/python3.8/dist-packages (from torch) (4.4.0)\n",
            "Requirement already satisfied: pillow!=8.3.*,>=5.3.0 in /usr/local/lib/python3.8/dist-packages (from torchvision) (7.1.2)\n",
            "Requirement already satisfied: numpy in /usr/local/lib/python3.8/dist-packages (from torchvision) (1.21.6)\n",
            "Requirement already satisfied: requests in /usr/local/lib/python3.8/dist-packages (from torchvision) (2.25.1)\n",
            "Requirement already satisfied: urllib3<1.27,>=1.21.1 in /usr/local/lib/python3.8/dist-packages (from requests->torchvision) (1.24.3)\n",
            "Requirement already satisfied: certifi>=2017.4.17 in /usr/local/lib/python3.8/dist-packages (from requests->torchvision) (2022.12.7)\n",
            "Requirement already satisfied: chardet<5,>=3.0.2 in /usr/local/lib/python3.8/dist-packages (from requests->torchvision) (4.0.0)\n",
            "Requirement already satisfied: idna<3,>=2.5 in /usr/local/lib/python3.8/dist-packages (from requests->torchvision) (2.10)\n"
          ]
        }
      ],
      "source": [
        "!pip3 install torch torchvision"
      ]
    },
    {
      "cell_type": "code",
      "source": [
        "from IPython import display\n",
        "import numpy as np\n",
        "import random\n",
        "import torch"
      ],
      "metadata": {
        "id": "zfne6Q7OwJIU"
      },
      "execution_count": 3,
      "outputs": []
    },
    {
      "cell_type": "code",
      "source": [
        "def print_tens_info(tensor):\n",
        "    print(\"X :\\n%s\\n\" % tensor)\n",
        "    print(\"X количество измерений:\\n%s\\n\" % tensor.dim())\n",
        "    print(\"X размеры : \",  tensor.size())\n",
        "    print(\"X тип : %s\\n\" % (tensor.type()))"
      ],
      "metadata": {
        "id": "6VBFsG9cwD4k"
      },
      "execution_count": 4,
      "outputs": []
    },
    {
      "cell_type": "code",
      "source": [
        "# task 1\n",
        "# Создайте случайный FloatTensor размера 3x4x5\n",
        "x = torch.FloatTensor(3,4,5)\n",
        "x"
      ],
      "metadata": {
        "colab": {
          "base_uri": "https://localhost:8080/"
        },
        "id": "b7PZ3HTI_KWs",
        "outputId": "ffa8f79a-af9e-45b7-b7f9-3ca89e33e6a4"
      },
      "execution_count": 5,
      "outputs": [
        {
          "output_type": "execute_result",
          "data": {
            "text/plain": [
              "tensor([[[1.4932e-36, 0.0000e+00, 1.6816e-43, 0.0000e+00, 1.4931e-36],\n",
              "         [0.0000e+00, 1.4931e-36, 0.0000e+00, 3.5733e-43, 0.0000e+00],\n",
              "         [0.0000e+00, 0.0000e+00, 0.0000e+00, 0.0000e+00, 0.0000e+00],\n",
              "         [0.0000e+00, 3.5733e-43, 0.0000e+00, 2.3822e-44, 0.0000e+00]],\n",
              "\n",
              "        [[1.4931e-36, 0.0000e+00, 1.4931e-36, 0.0000e+00, 3.5733e-43],\n",
              "         [0.0000e+00, 0.0000e+00, 0.0000e+00, 0.0000e+00, 0.0000e+00],\n",
              "         [0.0000e+00, 0.0000e+00, 3.5733e-43, 0.0000e+00, 0.0000e+00],\n",
              "         [0.0000e+00, 0.0000e+00, 0.0000e+00, 0.0000e+00, 0.0000e+00]],\n",
              "\n",
              "        [[3.5733e-43, 0.0000e+00, 0.0000e+00, 0.0000e+00, 0.0000e+00],\n",
              "         [0.0000e+00, 0.0000e+00, 0.0000e+00, 3.5733e-43, 0.0000e+00],\n",
              "         [0.0000e+00, 0.0000e+00, 0.0000e+00, 0.0000e+00, 0.0000e+00],\n",
              "         [0.0000e+00, 0.0000e+00, 0.0000e+00, 0.0000e+00, 0.0000e+00]]])"
            ]
          },
          "metadata": {},
          "execution_count": 5
        }
      ]
    },
    {
      "cell_type": "code",
      "source": [
        "#task 1\n",
        "print_tens_info(x)"
      ],
      "metadata": {
        "colab": {
          "base_uri": "https://localhost:8080/"
        },
        "id": "Pp5ywZRvvR3M",
        "outputId": "58776728-164c-47cb-c1f1-578d1bd6d4f4"
      },
      "execution_count": 6,
      "outputs": [
        {
          "output_type": "stream",
          "name": "stdout",
          "text": [
            "X :\n",
            "tensor([[[1.4932e-36, 0.0000e+00, 1.6816e-43, 0.0000e+00, 1.4931e-36],\n",
            "         [0.0000e+00, 1.4931e-36, 0.0000e+00, 3.5733e-43, 0.0000e+00],\n",
            "         [0.0000e+00, 0.0000e+00, 0.0000e+00, 0.0000e+00, 0.0000e+00],\n",
            "         [0.0000e+00, 3.5733e-43, 0.0000e+00, 2.3822e-44, 0.0000e+00]],\n",
            "\n",
            "        [[1.4931e-36, 0.0000e+00, 1.4931e-36, 0.0000e+00, 3.5733e-43],\n",
            "         [0.0000e+00, 0.0000e+00, 0.0000e+00, 0.0000e+00, 0.0000e+00],\n",
            "         [0.0000e+00, 0.0000e+00, 3.5733e-43, 0.0000e+00, 0.0000e+00],\n",
            "         [0.0000e+00, 0.0000e+00, 0.0000e+00, 0.0000e+00, 0.0000e+00]],\n",
            "\n",
            "        [[3.5733e-43, 0.0000e+00, 0.0000e+00, 0.0000e+00, 0.0000e+00],\n",
            "         [0.0000e+00, 0.0000e+00, 0.0000e+00, 3.5733e-43, 0.0000e+00],\n",
            "         [0.0000e+00, 0.0000e+00, 0.0000e+00, 0.0000e+00, 0.0000e+00],\n",
            "         [0.0000e+00, 0.0000e+00, 0.0000e+00, 0.0000e+00, 0.0000e+00]]])\n",
            "\n",
            "X количество измерений:\n",
            "3\n",
            "\n",
            "X размеры :  torch.Size([3, 4, 5])\n",
            "X тип : torch.FloatTensor\n",
            "\n"
          ]
        }
      ]
    },
    {
      "cell_type": "code",
      "source": [
        "# task 2\n",
        "# Выведите его форму (shape)\n",
        "x.shape"
      ],
      "metadata": {
        "colab": {
          "base_uri": "https://localhost:8080/"
        },
        "id": "JxgPQbZpwnR1",
        "outputId": "96183484-95b7-4fdf-e438-2d901225aae7"
      },
      "execution_count": 7,
      "outputs": [
        {
          "output_type": "execute_result",
          "data": {
            "text/plain": [
              "torch.Size([3, 4, 5])"
            ]
          },
          "metadata": {},
          "execution_count": 7
        }
      ]
    },
    {
      "cell_type": "code",
      "source": [
        "#task3\n",
        "# Приведите его к форме 6 X 10\n",
        "a = torch.reshape(x, (6, 10))\n",
        "a"
      ],
      "metadata": {
        "colab": {
          "base_uri": "https://localhost:8080/"
        },
        "id": "4-dhXJCEwsNZ",
        "outputId": "bdd1dbec-5ab9-4a55-e93c-d0a99cc16dde"
      },
      "execution_count": 8,
      "outputs": [
        {
          "output_type": "execute_result",
          "data": {
            "text/plain": [
              "tensor([[1.4932e-36, 0.0000e+00, 1.6816e-43, 0.0000e+00, 1.4931e-36, 0.0000e+00,\n",
              "         1.4931e-36, 0.0000e+00, 3.5733e-43, 0.0000e+00],\n",
              "        [0.0000e+00, 0.0000e+00, 0.0000e+00, 0.0000e+00, 0.0000e+00, 0.0000e+00,\n",
              "         3.5733e-43, 0.0000e+00, 2.3822e-44, 0.0000e+00],\n",
              "        [1.4931e-36, 0.0000e+00, 1.4931e-36, 0.0000e+00, 3.5733e-43, 0.0000e+00,\n",
              "         0.0000e+00, 0.0000e+00, 0.0000e+00, 0.0000e+00],\n",
              "        [0.0000e+00, 0.0000e+00, 3.5733e-43, 0.0000e+00, 0.0000e+00, 0.0000e+00,\n",
              "         0.0000e+00, 0.0000e+00, 0.0000e+00, 0.0000e+00],\n",
              "        [3.5733e-43, 0.0000e+00, 0.0000e+00, 0.0000e+00, 0.0000e+00, 0.0000e+00,\n",
              "         0.0000e+00, 0.0000e+00, 3.5733e-43, 0.0000e+00],\n",
              "        [0.0000e+00, 0.0000e+00, 0.0000e+00, 0.0000e+00, 0.0000e+00, 0.0000e+00,\n",
              "         0.0000e+00, 0.0000e+00, 0.0000e+00, 0.0000e+00]])"
            ]
          },
          "metadata": {},
          "execution_count": 8
        }
      ]
    },
    {
      "cell_type": "code",
      "source": [
        "\n",
        "#task4\n",
        "#Создайте случайный IntTensor размера 10\n",
        "k = torch.randn(10)\n",
        "print(k)\n",
        "v = k.type_as(torch.IntTensor())\n",
        "print(v)\n"
      ],
      "metadata": {
        "id": "rKuMsNnrF-qz",
        "colab": {
          "base_uri": "https://localhost:8080/"
        },
        "outputId": "e32ae735-d3fb-45fe-cb03-745e1a0fc893"
      },
      "execution_count": 19,
      "outputs": [
        {
          "output_type": "stream",
          "name": "stdout",
          "text": [
            "tensor([ 1.3393,  0.8862, -0.0169,  0.6012,  0.4012, -0.2419, -0.7332, -1.8413,\n",
            "        -0.7767,  0.5831])\n",
            "tensor([ 1,  0,  0,  0,  0,  0,  0, -1,  0,  0], dtype=torch.int32)\n"
          ]
        }
      ]
    },
    {
      "cell_type": "code",
      "source": [
        "#task5\n",
        "# Умножьте его на вектор [1, 4, 2, 2, 1] поэлементно\n",
        "b = torch.tensor([1,4,2,2,1])\n",
        "x.mul_(b)"
      ],
      "metadata": {
        "colab": {
          "base_uri": "https://localhost:8080/"
        },
        "id": "OyDbeGGixM8S",
        "outputId": "52ab0eca-ea77-4850-ae97-ac6df5d43bf3"
      },
      "execution_count": null,
      "outputs": [
        {
          "output_type": "execute_result",
          "data": {
            "text/plain": [
              "tensor([[[3.4181e-36, 0.0000e+00, 3.3631e-43, 0.0000e+00, 3.4189e-36],\n",
              "         [0.0000e+00, 1.3675e-35, 0.0000e+00, 7.1466e-43, 0.0000e+00],\n",
              "         [0.0000e+00, 0.0000e+00, 0.0000e+00, 0.0000e+00, 0.0000e+00],\n",
              "         [0.0000e+00, 1.4293e-42, 0.0000e+00, 4.7644e-44, 0.0000e+00]],\n",
              "\n",
              "        [[3.4189e-36, 0.0000e+00, 6.8378e-36, 0.0000e+00, 3.5733e-43],\n",
              "         [0.0000e+00, 0.0000e+00, 0.0000e+00, 0.0000e+00, 0.0000e+00],\n",
              "         [0.0000e+00, 0.0000e+00, 7.1466e-43, 0.0000e+00, 0.0000e+00],\n",
              "         [0.0000e+00, 0.0000e+00, 0.0000e+00, 0.0000e+00, 0.0000e+00]],\n",
              "\n",
              "        [[3.5733e-43, 0.0000e+00, 0.0000e+00, 0.0000e+00, 0.0000e+00],\n",
              "         [0.0000e+00, 0.0000e+00, 0.0000e+00, 7.1466e-43, 0.0000e+00],\n",
              "         [0.0000e+00, 0.0000e+00, 0.0000e+00, 0.0000e+00, 0.0000e+00],\n",
              "         [0.0000e+00, 0.0000e+00, 0.0000e+00, 0.0000e+00, 0.0000e+00]]])"
            ]
          },
          "metadata": {},
          "execution_count": 31
        }
      ]
    },
    {
      "cell_type": "code",
      "source": [
        "#task5\n",
        "#Умножьте созданный FloatTensor на созданный IntTensor поэлементно\n",
        "k.mul_(v)"
      ],
      "metadata": {
        "colab": {
          "base_uri": "https://localhost:8080/"
        },
        "id": "9ngtMkISMNoh",
        "outputId": "8f0cb4a3-34e4-45bc-f1f8-b387530b1a1f"
      },
      "execution_count": 20,
      "outputs": [
        {
          "output_type": "execute_result",
          "data": {
            "text/plain": [
              "tensor([1.3393, 0.0000, -0.0000, 0.0000, 0.0000, -0.0000, -0.0000, 1.8413, -0.0000,\n",
              "        0.0000])"
            ]
          },
          "metadata": {},
          "execution_count": 20
        }
      ]
    },
    {
      "cell_type": "code",
      "source": [
        "#task6\n",
        "# Умножьте тензор матрично на себя, чтобы результат был размерности 6x6\n",
        "a.mul(a)\n"
      ],
      "metadata": {
        "colab": {
          "base_uri": "https://localhost:8080/"
        },
        "id": "fnpcStd2zvof",
        "outputId": "fad3cc06-8a4e-4d2a-9a30-8de7ccbbc701"
      },
      "execution_count": null,
      "outputs": [
        {
          "output_type": "execute_result",
          "data": {
            "text/plain": [
              "tensor([[0., 0., 0., 0., 0., 0., 0., 0., 0., 0.],\n",
              "        [0., 0., 0., 0., 0., 0., 0., 0., 0., 0.],\n",
              "        [0., 0., 0., 0., 0., 0., 0., 0., 0., 0.],\n",
              "        [0., 0., 0., 0., 0., 0., 0., 0., 0., 0.],\n",
              "        [0., 0., 0., 0., 0., 0., 0., 0., 0., 0.],\n",
              "        [0., 0., 0., 0., 0., 0., 0., 0., 0., 0.]])"
            ]
          },
          "metadata": {},
          "execution_count": 46
        }
      ]
    },
    {
      "cell_type": "code",
      "source": [
        "#task7\n",
        "# Посчитайте производную функции y = x**3 + z - 75t в точке (1, 0.5, 2)\n",
        "\n",
        "x = torch.tensor(1.0, requires_grad=True)\n",
        "z = torch.tensor(0.5, requires_grad=True)\n",
        "t = torch.tensor(2.0, requires_grad=True)\n",
        "y = x**3 + z - 75*t \n",
        "y.backward()\n",
        "x.grad\n"
      ],
      "metadata": {
        "colab": {
          "base_uri": "https://localhost:8080/"
        },
        "id": "EGrX5_BS2mdr",
        "outputId": "56e0415d-77e5-4b04-f85d-5c9fe1637ab7"
      },
      "execution_count": null,
      "outputs": [
        {
          "output_type": "execute_result",
          "data": {
            "text/plain": [
              "tensor(3.)"
            ]
          },
          "metadata": {},
          "execution_count": 73
        }
      ]
    },
    {
      "cell_type": "code",
      "source": [
        "z.grad"
      ],
      "metadata": {
        "colab": {
          "base_uri": "https://localhost:8080/"
        },
        "id": "FQ-6JFGh8B3h",
        "outputId": "a1b7fadd-3a31-44b1-eae1-86a3c55175f8"
      },
      "execution_count": null,
      "outputs": [
        {
          "output_type": "execute_result",
          "data": {
            "text/plain": [
              "tensor(1.)"
            ]
          },
          "metadata": {},
          "execution_count": 74
        }
      ]
    },
    {
      "cell_type": "code",
      "source": [
        "t.grad"
      ],
      "metadata": {
        "colab": {
          "base_uri": "https://localhost:8080/"
        },
        "id": "zKfjHAOb8Ecw",
        "outputId": "986e1f67-9e38-4f84-e2ea-809f3b2f0fc5"
      },
      "execution_count": null,
      "outputs": [
        {
          "output_type": "execute_result",
          "data": {
            "text/plain": [
              "tensor(-75.)"
            ]
          },
          "metadata": {},
          "execution_count": 58
        }
      ]
    },
    {
      "cell_type": "code",
      "source": [
        "#task8\n",
        "# Создайте единичный тензор размера 5x6\n",
        "\n",
        "f = torch.ones(5, 6)\n",
        "f"
      ],
      "metadata": {
        "colab": {
          "base_uri": "https://localhost:8080/"
        },
        "id": "UThwPzBZ8QOu",
        "outputId": "d6d6edeb-c37b-466e-d08c-5f7408627b2f"
      },
      "execution_count": null,
      "outputs": [
        {
          "output_type": "execute_result",
          "data": {
            "text/plain": [
              "tensor([[1., 1., 1., 1., 1., 1.],\n",
              "        [1., 1., 1., 1., 1., 1.],\n",
              "        [1., 1., 1., 1., 1., 1.],\n",
              "        [1., 1., 1., 1., 1., 1.],\n",
              "        [1., 1., 1., 1., 1., 1.]])"
            ]
          },
          "metadata": {},
          "execution_count": 68
        }
      ]
    },
    {
      "cell_type": "code",
      "source": [
        "#task9\n",
        "# Переведите его в формат numpy\n",
        "f = f.numpy()\n",
        "f"
      ],
      "metadata": {
        "colab": {
          "base_uri": "https://localhost:8080/"
        },
        "id": "DyG0MQIc8jPg",
        "outputId": "40ee1d42-bcf4-403d-9e5e-3b859fe6adc8"
      },
      "execution_count": null,
      "outputs": [
        {
          "output_type": "execute_result",
          "data": {
            "text/plain": [
              "array([[1., 1., 1., 1., 1., 1.],\n",
              "       [1., 1., 1., 1., 1., 1.],\n",
              "       [1., 1., 1., 1., 1., 1.],\n",
              "       [1., 1., 1., 1., 1., 1.],\n",
              "       [1., 1., 1., 1., 1., 1.]], dtype=float32)"
            ]
          },
          "metadata": {},
          "execution_count": 69
        }
      ]
    },
    {
      "cell_type": "code",
      "source": [],
      "metadata": {
        "id": "Pwzr6Mmw9xf-"
      },
      "execution_count": null,
      "outputs": []
    }
  ]
}