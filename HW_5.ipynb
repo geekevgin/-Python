{
  "nbformat": 4,
  "nbformat_minor": 0,
  "metadata": {
    "colab": {
      "provenance": [],
      "authorship_tag": "ABX9TyNqjH/4CTZXoI2akJZZ00uA",
      "include_colab_link": true
    },
    "kernelspec": {
      "name": "python3",
      "display_name": "Python 3"
    },
    "language_info": {
      "name": "python"
    }
  },
  "cells": [
    {
      "cell_type": "markdown",
      "metadata": {
        "id": "view-in-github",
        "colab_type": "text"
      },
      "source": [
        "<a href=\"https://colab.research.google.com/github/geekevgin/-Python/blob/main/HW_5.ipynb\" target=\"_parent\"><img src=\"https://colab.research.google.com/assets/colab-badge.svg\" alt=\"Open In Colab\"/></a>"
      ]
    },
    {
      "cell_type": "code",
      "execution_count": 1,
      "metadata": {
        "colab": {
          "base_uri": "https://localhost:8080/"
        },
        "id": "M_0W-64TCiHD",
        "outputId": "1490c537-14c1-43a1-e4cc-a617786737d4"
      },
      "outputs": [
        {
          "output_type": "stream",
          "name": "stdout",
          "text": [
            "Reading package lists... Done\n",
            "Building dependency tree... Done\n",
            "Reading state information... Done\n",
            "The following additional packages will be installed:\n",
            "  default-jre default-jre-headless fonts-dejavu-core fonts-dejavu-extra\n",
            "  libapache-pom-java libargs4j-java libatk-wrapper-java\n",
            "  libatk-wrapper-java-jni libcommons-compress-java libcommons-io-java\n",
            "  libcommons-jexl2-java libcommons-lang3-java libcommons-logging-java\n",
            "  libcommons-math3-java libcommons-parent-java libfindbin-libs-perl\n",
            "  libfontenc1 libhts3 libhtscodecs2 libhtsjdk-java libjbzip2-java\n",
            "  libjson-simple-java libngs-java libngs-sdk-dev libngs-sdk2 libsis-base-java\n",
            "  libsis-base-jni libsis-jhdf5-java libsis-jhdf5-jni libsnappy-java\n",
            "  libsnappy-jni libxkbfile1 libxtst6 libxxf86dga1 openjdk-11-jre x11-utils\n",
            "Suggested packages:\n",
            "  libxz-java libcommons-io-java-doc libcommons-lang3-java-doc\n",
            "  libavalon-framework-java libcommons-logging-java-doc\n",
            "  libexcalibur-logkit-java liblog4j1.2-java picard-tools libjson-simple-doc\n",
            "  cwltool mesa-utils\n",
            "The following NEW packages will be installed:\n",
            "  bwa default-jre default-jre-headless fastqc fonts-dejavu-core\n",
            "  fonts-dejavu-extra libapache-pom-java libargs4j-java libatk-wrapper-java\n",
            "  libatk-wrapper-java-jni libcommons-compress-java libcommons-io-java\n",
            "  libcommons-jexl2-java libcommons-lang3-java libcommons-logging-java\n",
            "  libcommons-math3-java libcommons-parent-java libfindbin-libs-perl\n",
            "  libfontenc1 libhts3 libhtscodecs2 libhtsjdk-java libjbzip2-java\n",
            "  libjson-simple-java libngs-java libngs-sdk-dev libngs-sdk2 libsis-base-java\n",
            "  libsis-base-jni libsis-jhdf5-java libsis-jhdf5-jni libsnappy-java\n",
            "  libsnappy-jni libxkbfile1 libxtst6 libxxf86dga1 openjdk-11-jre rna-star\n",
            "  samtools x11-utils\n",
            "0 upgraded, 40 newly installed, 0 to remove and 15 not upgraded.\n",
            "Need to get 14.6 MB of archives.\n",
            "After this operation, 44.3 MB of additional disk space will be used.\n",
            "Get:1 http://archive.ubuntu.com/ubuntu jammy/universe amd64 bwa amd64 0.7.17-6 [195 kB]\n",
            "Get:2 http://archive.ubuntu.com/ubuntu jammy/main amd64 default-jre-headless amd64 2:1.11-72build2 [3,042 B]\n",
            "Get:3 http://archive.ubuntu.com/ubuntu jammy/main amd64 libxtst6 amd64 2:1.2.3-1build4 [13.4 kB]\n",
            "Get:4 http://archive.ubuntu.com/ubuntu jammy-updates/main amd64 openjdk-11-jre amd64 11.0.20+8-1ubuntu1~22.04 [213 kB]\n",
            "Get:5 http://archive.ubuntu.com/ubuntu jammy/main amd64 default-jre amd64 2:1.11-72build2 [896 B]\n",
            "Get:6 http://archive.ubuntu.com/ubuntu jammy/universe amd64 libcommons-math3-java all 3.6.1-3 [2,016 kB]\n",
            "Get:7 http://archive.ubuntu.com/ubuntu jammy/universe amd64 libjbzip2-java all 0.9.1-7 [42.8 kB]\n",
            "Get:8 http://archive.ubuntu.com/ubuntu jammy/universe amd64 libapache-pom-java all 18-1 [4,720 B]\n",
            "Get:9 http://archive.ubuntu.com/ubuntu jammy/universe amd64 libcommons-parent-java all 43-1 [10.8 kB]\n",
            "Get:10 http://archive.ubuntu.com/ubuntu jammy/universe amd64 libcommons-compress-java all 1.21-1 [575 kB]\n",
            "Get:11 http://archive.ubuntu.com/ubuntu jammy/universe amd64 libcommons-logging-java all 1.2-2 [60.3 kB]\n",
            "Get:12 http://archive.ubuntu.com/ubuntu jammy/universe amd64 libcommons-jexl2-java all 2.1.1-5 [251 kB]\n",
            "Get:13 http://archive.ubuntu.com/ubuntu jammy/universe amd64 libjson-simple-java all 2.3.0-1 [61.0 kB]\n",
            "Get:14 http://archive.ubuntu.com/ubuntu jammy/universe amd64 libngs-sdk2 amd64 2.11.2-3 [65.6 kB]\n",
            "Get:15 http://archive.ubuntu.com/ubuntu jammy/universe amd64 libngs-sdk-dev amd64 2.11.2-3 [111 kB]\n",
            "Get:16 http://archive.ubuntu.com/ubuntu jammy/universe amd64 libngs-java amd64 2.11.2-3 [75.8 kB]\n",
            "Get:17 http://archive.ubuntu.com/ubuntu jammy/universe amd64 libsnappy-jni amd64 1.1.8.3-1 [6,756 B]\n",
            "Get:18 http://archive.ubuntu.com/ubuntu jammy/universe amd64 libsnappy-java all 1.1.8.3-1 [93.9 kB]\n",
            "Get:19 http://archive.ubuntu.com/ubuntu jammy/universe amd64 libhtsjdk-java all 2.24.1+dfsg-1 [1,644 kB]\n",
            "Get:20 http://archive.ubuntu.com/ubuntu jammy/universe amd64 libfindbin-libs-perl all 2.190.02-1 [23.2 kB]\n",
            "Get:21 http://archive.ubuntu.com/ubuntu jammy/universe amd64 libargs4j-java all 2.33-1.1 [137 kB]\n",
            "Get:22 http://archive.ubuntu.com/ubuntu jammy/universe amd64 libcommons-io-java all 2.11.0-2 [297 kB]\n",
            "Get:23 http://archive.ubuntu.com/ubuntu jammy/universe amd64 libcommons-lang3-java all 3.11-1 [526 kB]\n",
            "Get:24 http://archive.ubuntu.com/ubuntu jammy/universe amd64 libsis-base-jni amd64 18.09~pre1+git20180928.45fbd31+dfsg-3 [12.7 kB]\n",
            "Get:25 http://archive.ubuntu.com/ubuntu jammy/universe amd64 libsis-base-java all 18.09~pre1+git20180928.45fbd31+dfsg-3 [96.4 kB]\n",
            "Get:26 http://archive.ubuntu.com/ubuntu jammy/universe amd64 libsis-jhdf5-jni amd64 19.04.0+dfsg-4 [96.6 kB]\n",
            "Get:27 http://archive.ubuntu.com/ubuntu jammy/universe amd64 libsis-jhdf5-java all 19.04.0+dfsg-4 [1,490 kB]\n",
            "Get:28 http://archive.ubuntu.com/ubuntu jammy/universe amd64 fastqc all 0.11.9+dfsg-5 [370 kB]\n",
            "Get:29 http://archive.ubuntu.com/ubuntu jammy/main amd64 fonts-dejavu-core all 2.37-2build1 [1,041 kB]\n",
            "Get:30 http://archive.ubuntu.com/ubuntu jammy/main amd64 fonts-dejavu-extra all 2.37-2build1 [2,041 kB]\n",
            "Get:31 http://archive.ubuntu.com/ubuntu jammy/main amd64 libfontenc1 amd64 1:1.1.4-1build3 [14.7 kB]\n",
            "Get:32 http://archive.ubuntu.com/ubuntu jammy/main amd64 libxkbfile1 amd64 1:1.1.0-1build3 [71.8 kB]\n",
            "Get:33 http://archive.ubuntu.com/ubuntu jammy/main amd64 libxxf86dga1 amd64 2:1.1.5-0ubuntu3 [12.6 kB]\n",
            "Get:34 http://archive.ubuntu.com/ubuntu jammy/main amd64 x11-utils amd64 7.7+5build2 [206 kB]\n",
            "Get:35 http://archive.ubuntu.com/ubuntu jammy/main amd64 libatk-wrapper-java all 0.38.0-5build1 [53.1 kB]\n",
            "Get:36 http://archive.ubuntu.com/ubuntu jammy/main amd64 libatk-wrapper-java-jni amd64 0.38.0-5build1 [49.0 kB]\n",
            "Get:37 http://archive.ubuntu.com/ubuntu jammy/universe amd64 libhtscodecs2 amd64 1.1.1-3 [53.2 kB]\n",
            "Get:38 http://archive.ubuntu.com/ubuntu jammy/universe amd64 libhts3 amd64 1.13+ds-2build1 [390 kB]\n",
            "Get:39 http://archive.ubuntu.com/ubuntu jammy/universe amd64 rna-star amd64 2.7.10a+dfsg-1 [1,685 kB]\n",
            "Get:40 http://archive.ubuntu.com/ubuntu jammy/universe amd64 samtools amd64 1.13-4 [520 kB]\n",
            "Fetched 14.6 MB in 10s (1,426 kB/s)\n",
            "Extracting templates from packages: 100%\n",
            "Selecting previously unselected package bwa.\n",
            "(Reading database ... 120500 files and directories currently installed.)\n",
            "Preparing to unpack .../00-bwa_0.7.17-6_amd64.deb ...\n",
            "Unpacking bwa (0.7.17-6) ...\n",
            "Selecting previously unselected package default-jre-headless.\n",
            "Preparing to unpack .../01-default-jre-headless_2%3a1.11-72build2_amd64.deb ...\n",
            "Unpacking default-jre-headless (2:1.11-72build2) ...\n",
            "Selecting previously unselected package libxtst6:amd64.\n",
            "Preparing to unpack .../02-libxtst6_2%3a1.2.3-1build4_amd64.deb ...\n",
            "Unpacking libxtst6:amd64 (2:1.2.3-1build4) ...\n",
            "Selecting previously unselected package openjdk-11-jre:amd64.\n",
            "Preparing to unpack .../03-openjdk-11-jre_11.0.20+8-1ubuntu1~22.04_amd64.deb ...\n",
            "Unpacking openjdk-11-jre:amd64 (11.0.20+8-1ubuntu1~22.04) ...\n",
            "Selecting previously unselected package default-jre.\n",
            "Preparing to unpack .../04-default-jre_2%3a1.11-72build2_amd64.deb ...\n",
            "Unpacking default-jre (2:1.11-72build2) ...\n",
            "Selecting previously unselected package libcommons-math3-java.\n",
            "Preparing to unpack .../05-libcommons-math3-java_3.6.1-3_all.deb ...\n",
            "Unpacking libcommons-math3-java (3.6.1-3) ...\n",
            "Selecting previously unselected package libjbzip2-java.\n",
            "Preparing to unpack .../06-libjbzip2-java_0.9.1-7_all.deb ...\n",
            "Unpacking libjbzip2-java (0.9.1-7) ...\n",
            "Selecting previously unselected package libapache-pom-java.\n",
            "Preparing to unpack .../07-libapache-pom-java_18-1_all.deb ...\n",
            "Unpacking libapache-pom-java (18-1) ...\n",
            "Selecting previously unselected package libcommons-parent-java.\n",
            "Preparing to unpack .../08-libcommons-parent-java_43-1_all.deb ...\n",
            "Unpacking libcommons-parent-java (43-1) ...\n",
            "Selecting previously unselected package libcommons-compress-java.\n",
            "Preparing to unpack .../09-libcommons-compress-java_1.21-1_all.deb ...\n",
            "Unpacking libcommons-compress-java (1.21-1) ...\n",
            "Selecting previously unselected package libcommons-logging-java.\n",
            "Preparing to unpack .../10-libcommons-logging-java_1.2-2_all.deb ...\n",
            "Unpacking libcommons-logging-java (1.2-2) ...\n",
            "Selecting previously unselected package libcommons-jexl2-java.\n",
            "Preparing to unpack .../11-libcommons-jexl2-java_2.1.1-5_all.deb ...\n",
            "Unpacking libcommons-jexl2-java (2.1.1-5) ...\n",
            "Selecting previously unselected package libjson-simple-java.\n",
            "Preparing to unpack .../12-libjson-simple-java_2.3.0-1_all.deb ...\n",
            "Unpacking libjson-simple-java (2.3.0-1) ...\n",
            "Selecting previously unselected package libngs-sdk2:amd64.\n",
            "Preparing to unpack .../13-libngs-sdk2_2.11.2-3_amd64.deb ...\n",
            "Unpacking libngs-sdk2:amd64 (2.11.2-3) ...\n",
            "Selecting previously unselected package libngs-sdk-dev:amd64.\n",
            "Preparing to unpack .../14-libngs-sdk-dev_2.11.2-3_amd64.deb ...\n",
            "Unpacking libngs-sdk-dev:amd64 (2.11.2-3) ...\n",
            "Selecting previously unselected package libngs-java:amd64.\n",
            "Preparing to unpack .../15-libngs-java_2.11.2-3_amd64.deb ...\n",
            "Unpacking libngs-java:amd64 (2.11.2-3) ...\n",
            "Selecting previously unselected package libsnappy-jni.\n",
            "Preparing to unpack .../16-libsnappy-jni_1.1.8.3-1_amd64.deb ...\n",
            "Unpacking libsnappy-jni (1.1.8.3-1) ...\n",
            "Selecting previously unselected package libsnappy-java.\n",
            "Preparing to unpack .../17-libsnappy-java_1.1.8.3-1_all.deb ...\n",
            "Unpacking libsnappy-java (1.1.8.3-1) ...\n",
            "Selecting previously unselected package libhtsjdk-java.\n",
            "Preparing to unpack .../18-libhtsjdk-java_2.24.1+dfsg-1_all.deb ...\n",
            "Unpacking libhtsjdk-java (2.24.1+dfsg-1) ...\n",
            "Selecting previously unselected package libfindbin-libs-perl.\n",
            "Preparing to unpack .../19-libfindbin-libs-perl_2.190.02-1_all.deb ...\n",
            "Unpacking libfindbin-libs-perl (2.190.02-1) ...\n",
            "Selecting previously unselected package libargs4j-java.\n",
            "Preparing to unpack .../20-libargs4j-java_2.33-1.1_all.deb ...\n",
            "Unpacking libargs4j-java (2.33-1.1) ...\n",
            "Selecting previously unselected package libcommons-io-java.\n",
            "Preparing to unpack .../21-libcommons-io-java_2.11.0-2_all.deb ...\n",
            "Unpacking libcommons-io-java (2.11.0-2) ...\n",
            "Selecting previously unselected package libcommons-lang3-java.\n",
            "Preparing to unpack .../22-libcommons-lang3-java_3.11-1_all.deb ...\n",
            "Unpacking libcommons-lang3-java (3.11-1) ...\n",
            "Selecting previously unselected package libsis-base-jni.\n",
            "Preparing to unpack .../23-libsis-base-jni_18.09~pre1+git20180928.45fbd31+dfsg-3_amd64.deb ...\n",
            "Unpacking libsis-base-jni (18.09~pre1+git20180928.45fbd31+dfsg-3) ...\n",
            "Selecting previously unselected package libsis-base-java.\n",
            "Preparing to unpack .../24-libsis-base-java_18.09~pre1+git20180928.45fbd31+dfsg-3_all.deb ...\n",
            "Unpacking libsis-base-java (18.09~pre1+git20180928.45fbd31+dfsg-3) ...\n",
            "Selecting previously unselected package libsis-jhdf5-jni.\n",
            "Preparing to unpack .../25-libsis-jhdf5-jni_19.04.0+dfsg-4_amd64.deb ...\n",
            "Unpacking libsis-jhdf5-jni (19.04.0+dfsg-4) ...\n",
            "Selecting previously unselected package libsis-jhdf5-java.\n",
            "Preparing to unpack .../26-libsis-jhdf5-java_19.04.0+dfsg-4_all.deb ...\n",
            "Unpacking libsis-jhdf5-java (19.04.0+dfsg-4) ...\n",
            "Selecting previously unselected package fastqc.\n",
            "Preparing to unpack .../27-fastqc_0.11.9+dfsg-5_all.deb ...\n",
            "Unpacking fastqc (0.11.9+dfsg-5) ...\n",
            "Selecting previously unselected package fonts-dejavu-core.\n",
            "Preparing to unpack .../28-fonts-dejavu-core_2.37-2build1_all.deb ...\n",
            "Unpacking fonts-dejavu-core (2.37-2build1) ...\n",
            "Selecting previously unselected package fonts-dejavu-extra.\n",
            "Preparing to unpack .../29-fonts-dejavu-extra_2.37-2build1_all.deb ...\n",
            "Unpacking fonts-dejavu-extra (2.37-2build1) ...\n",
            "Selecting previously unselected package libfontenc1:amd64.\n",
            "Preparing to unpack .../30-libfontenc1_1%3a1.1.4-1build3_amd64.deb ...\n",
            "Unpacking libfontenc1:amd64 (1:1.1.4-1build3) ...\n",
            "Selecting previously unselected package libxkbfile1:amd64.\n",
            "Preparing to unpack .../31-libxkbfile1_1%3a1.1.0-1build3_amd64.deb ...\n",
            "Unpacking libxkbfile1:amd64 (1:1.1.0-1build3) ...\n",
            "Selecting previously unselected package libxxf86dga1:amd64.\n",
            "Preparing to unpack .../32-libxxf86dga1_2%3a1.1.5-0ubuntu3_amd64.deb ...\n",
            "Unpacking libxxf86dga1:amd64 (2:1.1.5-0ubuntu3) ...\n",
            "Selecting previously unselected package x11-utils.\n",
            "Preparing to unpack .../33-x11-utils_7.7+5build2_amd64.deb ...\n",
            "Unpacking x11-utils (7.7+5build2) ...\n",
            "Selecting previously unselected package libatk-wrapper-java.\n",
            "Preparing to unpack .../34-libatk-wrapper-java_0.38.0-5build1_all.deb ...\n",
            "Unpacking libatk-wrapper-java (0.38.0-5build1) ...\n",
            "Selecting previously unselected package libatk-wrapper-java-jni:amd64.\n",
            "Preparing to unpack .../35-libatk-wrapper-java-jni_0.38.0-5build1_amd64.deb ...\n",
            "Unpacking libatk-wrapper-java-jni:amd64 (0.38.0-5build1) ...\n",
            "Selecting previously unselected package libhtscodecs2:amd64.\n",
            "Preparing to unpack .../36-libhtscodecs2_1.1.1-3_amd64.deb ...\n",
            "Unpacking libhtscodecs2:amd64 (1.1.1-3) ...\n",
            "Selecting previously unselected package libhts3:amd64.\n",
            "Preparing to unpack .../37-libhts3_1.13+ds-2build1_amd64.deb ...\n",
            "Unpacking libhts3:amd64 (1.13+ds-2build1) ...\n",
            "Selecting previously unselected package rna-star.\n",
            "Preparing to unpack .../38-rna-star_2.7.10a+dfsg-1_amd64.deb ...\n",
            "Unpacking rna-star (2.7.10a+dfsg-1) ...\n",
            "Selecting previously unselected package samtools.\n",
            "Preparing to unpack .../39-samtools_1.13-4_amd64.deb ...\n",
            "Unpacking samtools (1.13-4) ...\n",
            "Setting up libhtscodecs2:amd64 (1.1.1-3) ...\n",
            "Setting up libhts3:amd64 (1.13+ds-2build1) ...\n",
            "Setting up default-jre-headless (2:1.11-72build2) ...\n",
            "Setting up bwa (0.7.17-6) ...\n",
            "Setting up libxtst6:amd64 (2:1.2.3-1build4) ...\n",
            "Setting up libngs-sdk2:amd64 (2.11.2-3) ...\n",
            "Setting up libxxf86dga1:amd64 (2:1.1.5-0ubuntu3) ...\n",
            "Setting up openjdk-11-jre:amd64 (11.0.20+8-1ubuntu1~22.04) ...\n",
            "Setting up libfindbin-libs-perl (2.190.02-1) ...\n",
            "Setting up default-jre (2:1.11-72build2) ...\n",
            "Setting up libjson-simple-java (2.3.0-1) ...\n",
            "Setting up rna-star (2.7.10a+dfsg-1) ...\n",
            "Setting up samtools (1.13-4) ...\n",
            "Setting up libsis-base-jni (18.09~pre1+git20180928.45fbd31+dfsg-3) ...\n",
            "Setting up libfontenc1:amd64 (1:1.1.4-1build3) ...\n",
            "Setting up libapache-pom-java (18-1) ...\n",
            "Setting up fonts-dejavu-core (2.37-2build1) ...\n",
            "Setting up libjbzip2-java (0.9.1-7) ...\n",
            "Setting up libngs-sdk-dev:amd64 (2.11.2-3) ...\n",
            "Setting up fonts-dejavu-extra (2.37-2build1) ...\n",
            "Setting up libcommons-math3-java (3.6.1-3) ...\n",
            "Setting up libsis-jhdf5-jni (19.04.0+dfsg-4) ...\n",
            "Setting up libxkbfile1:amd64 (1:1.1.0-1build3) ...\n",
            "Setting up libngs-java:amd64 (2.11.2-3) ...\n",
            "Setting up libsnappy-jni (1.1.8.3-1) ...\n",
            "Setting up libargs4j-java (2.33-1.1) ...\n",
            "Setting up libcommons-parent-java (43-1) ...\n",
            "Setting up libcommons-logging-java (1.2-2) ...\n",
            "Setting up libcommons-jexl2-java (2.1.1-5) ...\n",
            "Setting up libcommons-lang3-java (3.11-1) ...\n",
            "Setting up x11-utils (7.7+5build2) ...\n",
            "Setting up libsnappy-java (1.1.8.3-1) ...\n",
            "Setting up libatk-wrapper-java (0.38.0-5build1) ...\n",
            "Setting up libcommons-compress-java (1.21-1) ...\n",
            "Setting up libcommons-io-java (2.11.0-2) ...\n",
            "Setting up libatk-wrapper-java-jni:amd64 (0.38.0-5build1) ...\n",
            "Setting up libsis-base-java (18.09~pre1+git20180928.45fbd31+dfsg-3) ...\n",
            "Setting up libhtsjdk-java (2.24.1+dfsg-1) ...\n",
            "Setting up libsis-jhdf5-java (19.04.0+dfsg-4) ...\n",
            "Setting up fastqc (0.11.9+dfsg-5) ...\n",
            "Processing triggers for man-db (2.10.2-1) ...\n",
            "Processing triggers for fontconfig (2.13.1-4.2ubuntu5) ...\n",
            "Processing triggers for hicolor-icon-theme (0.17-2) ...\n",
            "Processing triggers for libc-bin (2.35-0ubuntu3.1) ...\n"
          ]
        }
      ],
      "source": [
        "!apt-get -y install fastqc bwa rna-star samtools"
      ]
    },
    {
      "cell_type": "code",
      "source": [
        "google_drive_url = \"https://drive.google.com/uc?export=download&id=\""
      ],
      "metadata": {
        "id": "iJqig0LzCmOi"
      },
      "execution_count": 2,
      "outputs": []
    },
    {
      "cell_type": "code",
      "source": [
        "reference_file_id = \"1blT4WukSab1CGJn9sECZMuKOSjW_ciM2\"\n",
        "reference = \"Cl_perfringens.fa\"\n",
        "!wget -O $reference \"$google_drive_url$reference_file_id\""
      ],
      "metadata": {
        "colab": {
          "base_uri": "https://localhost:8080/"
        },
        "id": "oQQjk62oCuh0",
        "outputId": "762e9c87-8c72-437a-f596-ff37e089f97c"
      },
      "execution_count": 3,
      "outputs": [
        {
          "output_type": "stream",
          "name": "stdout",
          "text": [
            "--2023-08-04 19:34:47--  https://drive.google.com/uc?export=download&id=1blT4WukSab1CGJn9sECZMuKOSjW_ciM2\n",
            "Resolving drive.google.com (drive.google.com)... 173.194.174.100, 173.194.174.102, 173.194.174.139, ...\n",
            "Connecting to drive.google.com (drive.google.com)|173.194.174.100|:443... connected.\n",
            "HTTP request sent, awaiting response... 303 See Other\n",
            "Location: https://doc-0g-8s-docs.googleusercontent.com/docs/securesc/ha0ro937gcuc7l7deffksulhg5h7mbp1/54a9nc4sr6kv7te6vq6tmt6p8n4q8ka5/1691177625000/16531863302665455688/*/1blT4WukSab1CGJn9sECZMuKOSjW_ciM2?e=download&uuid=d2e90559-4ffe-4d8f-b03c-abe2174845b5 [following]\n",
            "Warning: wildcards not supported in HTTP.\n",
            "--2023-08-04 19:34:49--  https://doc-0g-8s-docs.googleusercontent.com/docs/securesc/ha0ro937gcuc7l7deffksulhg5h7mbp1/54a9nc4sr6kv7te6vq6tmt6p8n4q8ka5/1691177625000/16531863302665455688/*/1blT4WukSab1CGJn9sECZMuKOSjW_ciM2?e=download&uuid=d2e90559-4ffe-4d8f-b03c-abe2174845b5\n",
            "Resolving doc-0g-8s-docs.googleusercontent.com (doc-0g-8s-docs.googleusercontent.com)... 74.125.204.132, 2404:6800:4008:c04::84\n",
            "Connecting to doc-0g-8s-docs.googleusercontent.com (doc-0g-8s-docs.googleusercontent.com)|74.125.204.132|:443... connected.\n",
            "HTTP request sent, awaiting response... 200 OK\n",
            "Length: 3124454 (3.0M) [application/octet-stream]\n",
            "Saving to: ‘Cl_perfringens.fa’\n",
            "\n",
            "Cl_perfringens.fa   100%[===================>]   2.98M  --.-KB/s    in 0.01s   \n",
            "\n",
            "2023-08-04 19:34:50 (238 MB/s) - ‘Cl_perfringens.fa’ saved [3124454/3124454]\n",
            "\n"
          ]
        }
      ]
    },
    {
      "cell_type": "code",
      "source": [
        "annotation_file_id = \"1G-pQj4APLTQmFmrxcw2-8V4jREW7rwMM\"\n",
        "annotation = \"Cl_perfringens.gtf\"\n",
        "!wget -O $annotation\"$google_drive_url$annotation_file_id\""
      ],
      "metadata": {
        "colab": {
          "base_uri": "https://localhost:8080/"
        },
        "id": "EJ5ensKDC7rt",
        "outputId": "3bf8abd1-38d0-4e27-e50a-bf2722081ef0"
      },
      "execution_count": 4,
      "outputs": [
        {
          "output_type": "stream",
          "name": "stdout",
          "text": [
            "--2023-08-04 19:35:30--  https://drive.google.com/uc?export=download&id=1G-pQj4APLTQmFmrxcw2-8V4jREW7rwMM\n",
            "Resolving drive.google.com (drive.google.com)... 173.194.174.102, 173.194.174.139, 173.194.174.101, ...\n",
            "Connecting to drive.google.com (drive.google.com)|173.194.174.102|:443... connected.\n",
            "HTTP request sent, awaiting response... 303 See Other\n",
            "Location: https://doc-08-8s-docs.googleusercontent.com/docs/securesc/ha0ro937gcuc7l7deffksulhg5h7mbp1/l6rd15q32l5l21bu0lasan3oa0rf47mn/1691177700000/16531863302665455688/*/1G-pQj4APLTQmFmrxcw2-8V4jREW7rwMM?e=download&uuid=b0a58341-679b-4ca3-b928-96cb14746ba7 [following]\n",
            "Warning: wildcards not supported in HTTP.\n",
            "--2023-08-04 19:35:30--  https://doc-08-8s-docs.googleusercontent.com/docs/securesc/ha0ro937gcuc7l7deffksulhg5h7mbp1/l6rd15q32l5l21bu0lasan3oa0rf47mn/1691177700000/16531863302665455688/*/1G-pQj4APLTQmFmrxcw2-8V4jREW7rwMM?e=download&uuid=b0a58341-679b-4ca3-b928-96cb14746ba7\n",
            "Resolving doc-08-8s-docs.googleusercontent.com (doc-08-8s-docs.googleusercontent.com)... 74.125.204.132, 2404:6800:4008:c04::84\n",
            "Connecting to doc-08-8s-docs.googleusercontent.com (doc-08-8s-docs.googleusercontent.com)|74.125.204.132|:443... connected.\n",
            "HTTP request sent, awaiting response... 200 OK\n",
            "Length: 555875 (543K) [application/octet-stream]\n",
            "Saving to: ‘Cl_perfringens.gtf’\n",
            "\n",
            "Cl_perfringens.gtf  100%[===================>] 542.85K  --.-KB/s    in 0.004s  \n",
            "\n",
            "2023-08-04 19:35:31 (150 MB/s) - ‘Cl_perfringens.gtf’ saved [555875/555875]\n",
            "\n"
          ]
        }
      ]
    },
    {
      "cell_type": "code",
      "source": [
        "reads_file_id = \"1i3A5xIZiyWJBbQKUPS5ZkFWnBQzWAg0X\"\n",
        "reads = \"SRR5365416.fastq.gz\"\n",
        "!wget --save-cookies cookies.txt \"$google_drive_url$reads_file_id\" -O- | sed -rn \"s/.*confirm=([0-9A-Za-z_]+).*/\\1/p\" > confirm.txt\n",
        "!wget --load-cookies cookies.txt -O $reads \"$google_drive_url$reads_file_id&confirm=$(<confirm.txt)\""
      ],
      "metadata": {
        "colab": {
          "base_uri": "https://localhost:8080/"
        },
        "id": "XHI8fxNjDEOU",
        "outputId": "10f736f7-1957-4af1-92cc-9b159eee759e"
      },
      "execution_count": 5,
      "outputs": [
        {
          "output_type": "stream",
          "name": "stdout",
          "text": [
            "--2023-08-04 19:36:09--  https://drive.google.com/uc?export=download&id=1i3A5xIZiyWJBbQKUPS5ZkFWnBQzWAg0X\n",
            "Resolving drive.google.com (drive.google.com)... 173.194.174.138, 173.194.174.139, 173.194.174.101, ...\n",
            "Connecting to drive.google.com (drive.google.com)|173.194.174.138|:443... connected.\n",
            "HTTP request sent, awaiting response... 200 OK\n",
            "Length: unspecified [text/html]\n",
            "Saving to: ‘STDOUT’\n",
            "\n",
            "-                       [ <=>                ]   2.23K  --.-KB/s    in 0s      \n",
            "\n",
            "2023-08-04 19:36:10 (45.9 MB/s) - written to stdout [2281]\n",
            "\n",
            "--2023-08-04 19:36:10--  https://drive.google.com/uc?export=download&id=1i3A5xIZiyWJBbQKUPS5ZkFWnBQzWAg0X&confirm=t\n",
            "Resolving drive.google.com (drive.google.com)... 173.194.174.138, 173.194.174.139, 173.194.174.101, ...\n",
            "Connecting to drive.google.com (drive.google.com)|173.194.174.138|:443... connected.\n",
            "HTTP request sent, awaiting response... 303 See Other\n",
            "Location: https://doc-0k-8s-docs.googleusercontent.com/docs/securesc/ha0ro937gcuc7l7deffksulhg5h7mbp1/bdhsb5vh5g1jsnf6klgdu45nudlmq2hq/1691177700000/16531863302665455688/*/1i3A5xIZiyWJBbQKUPS5ZkFWnBQzWAg0X?e=download&uuid=9b01d3f0-3557-4d3d-945a-ef128a6e621f [following]\n",
            "Warning: wildcards not supported in HTTP.\n",
            "--2023-08-04 19:36:10--  https://doc-0k-8s-docs.googleusercontent.com/docs/securesc/ha0ro937gcuc7l7deffksulhg5h7mbp1/bdhsb5vh5g1jsnf6klgdu45nudlmq2hq/1691177700000/16531863302665455688/*/1i3A5xIZiyWJBbQKUPS5ZkFWnBQzWAg0X?e=download&uuid=9b01d3f0-3557-4d3d-945a-ef128a6e621f\n",
            "Resolving doc-0k-8s-docs.googleusercontent.com (doc-0k-8s-docs.googleusercontent.com)... 74.125.204.132, 2404:6800:4008:c04::84\n",
            "Connecting to doc-0k-8s-docs.googleusercontent.com (doc-0k-8s-docs.googleusercontent.com)|74.125.204.132|:443... connected.\n",
            "HTTP request sent, awaiting response... 200 OK\n",
            "Length: 44700532 (43M) [application/gzip]\n",
            "Saving to: ‘SRR5365416.fastq.gz’\n",
            "\n",
            "SRR5365416.fastq.gz 100%[===================>]  42.63M  45.9MB/s    in 0.9s    \n",
            "\n",
            "2023-08-04 19:36:12 (45.9 MB/s) - ‘SRR5365416.fastq.gz’ saved [44700532/44700532]\n",
            "\n"
          ]
        }
      ]
    },
    {
      "cell_type": "code",
      "source": [
        "!gunzip $reads\n",
        "!ls -al"
      ],
      "metadata": {
        "colab": {
          "base_uri": "https://localhost:8080/"
        },
        "id": "6I16Ju9CDZkO",
        "outputId": "ff8a1a7e-65cf-44ab-ec0b-e59f5e7bf1f0"
      },
      "execution_count": 6,
      "outputs": [
        {
          "output_type": "stream",
          "name": "stdout",
          "text": [
            "total 170232\n",
            "drwxr-xr-x 1 root root      4096 Aug  4 19:37 .\n",
            "drwxr-xr-x 1 root root      4096 Aug  4 19:31 ..\n",
            "-rw-r--r-- 1 root root   3124454 Jun 21 14:32 Cl_perfringens.fa\n",
            "-rw-r--r-- 1 root root    555875 Jun 21 14:32 Cl_perfringens.gtf\n",
            "drwxr-xr-x 4 root root      4096 Aug  3 13:44 .config\n",
            "-rw-r--r-- 1 root root         1 Aug  4 19:36 confirm.txt\n",
            "-rw-r--r-- 1 root root        89 Aug  4 19:36 cookies.txt\n",
            "drwxr-xr-x 1 root root      4096 Aug  3 13:45 sample_data\n",
            "-rw-r--r-- 1 root root 170608904 Jun 21 14:32 SRR5365416.fastq\n"
          ]
        }
      ]
    },
    {
      "cell_type": "code",
      "source": [
        "reads = reads.removesuffix(\".gz\")"
      ],
      "metadata": {
        "id": "CtmgYSORDanF"
      },
      "execution_count": 7,
      "outputs": []
    },
    {
      "cell_type": "code",
      "source": [
        "!fastqc $reads #проверка качества(95%)"
      ],
      "metadata": {
        "colab": {
          "base_uri": "https://localhost:8080/"
        },
        "id": "jfzl2BlbDgUG",
        "outputId": "d1940108-409e-44ad-b9be-b6b2874b8141"
      },
      "execution_count": 8,
      "outputs": [
        {
          "output_type": "stream",
          "name": "stdout",
          "text": [
            "Started analysis of SRR5365416.fastq\n",
            "Approx 5% complete for SRR5365416.fastq\n",
            "Approx 10% complete for SRR5365416.fastq\n",
            "Approx 15% complete for SRR5365416.fastq\n",
            "Approx 20% complete for SRR5365416.fastq\n",
            "Approx 25% complete for SRR5365416.fastq\n",
            "Approx 30% complete for SRR5365416.fastq\n",
            "Approx 35% complete for SRR5365416.fastq\n",
            "Approx 40% complete for SRR5365416.fastq\n",
            "Approx 45% complete for SRR5365416.fastq\n",
            "Approx 50% complete for SRR5365416.fastq\n",
            "Approx 55% complete for SRR5365416.fastq\n",
            "Approx 60% complete for SRR5365416.fastq\n",
            "Approx 65% complete for SRR5365416.fastq\n",
            "Approx 70% complete for SRR5365416.fastq\n",
            "Approx 75% complete for SRR5365416.fastq\n",
            "Approx 80% complete for SRR5365416.fastq\n",
            "Approx 85% complete for SRR5365416.fastq\n",
            "Approx 90% complete for SRR5365416.fastq\n",
            "Approx 95% complete for SRR5365416.fastq\n",
            "Analysis complete for SRR5365416.fastq\n"
          ]
        }
      ]
    },
    {
      "cell_type": "code",
      "source": [
        "!bwa index $reference #генерация индексов для выравнимания reads на геном"
      ],
      "metadata": {
        "colab": {
          "base_uri": "https://localhost:8080/"
        },
        "id": "4PwFevnqDoFC",
        "outputId": "38df1229-07e6-47a6-921c-60ceb19bcd7a"
      },
      "execution_count": 9,
      "outputs": [
        {
          "output_type": "stream",
          "name": "stdout",
          "text": [
            "[bwa_index] Pack FASTA... 0.03 sec\n",
            "[bwa_index] Construct BWT for the packed sequence...\n",
            "[bwa_index] 0.80 seconds elapse.\n",
            "[bwa_index] Update BWT... 0.02 sec\n",
            "[bwa_index] Pack forward-only FASTA... 0.02 sec\n",
            "[bwa_index] Construct SA from BWT and Occ... 0.43 sec\n",
            "[main] Version: 0.7.17-r1188\n",
            "[main] CMD: bwa index Cl_perfringens.fa\n",
            "[main] Real time: 1.373 sec; CPU: 1.290 sec\n"
          ]
        }
      ]
    },
    {
      "cell_type": "code",
      "source": [
        "alignment = reads.removesuffix(\".fastq\") + \"_alignment.sam\" #sam файил"
      ],
      "metadata": {
        "id": "RkaeDzVbD8W3"
      },
      "execution_count": 10,
      "outputs": []
    },
    {
      "cell_type": "code",
      "source": [
        "!bwa mem $reference $reads > $alignment #выравнивание"
      ],
      "metadata": {
        "colab": {
          "base_uri": "https://localhost:8080/"
        },
        "id": "nyFhhThPEERr",
        "outputId": "bfb53900-0ca0-4e13-be3d-664fa3878989"
      },
      "execution_count": 11,
      "outputs": [
        {
          "output_type": "stream",
          "name": "stdout",
          "text": [
            "[M::bwa_idx_load_from_disk] read 0 ALT contigs\n",
            "[M::process] read 196080 sequences (10000080 bp)...\n",
            "[M::process] read 196080 sequences (10000080 bp)...\n",
            "[M::mem_process_seqs] Processed 196080 reads in 5.074 CPU sec, 4.956 real sec\n",
            "[M::process] read 196080 sequences (10000080 bp)...\n",
            "[M::mem_process_seqs] Processed 196080 reads in 6.202 CPU sec, 6.013 real sec\n",
            "[M::process] read 196080 sequences (10000080 bp)...\n",
            "[M::mem_process_seqs] Processed 196080 reads in 5.251 CPU sec, 5.005 real sec\n",
            "[M::process] read 196080 sequences (10000080 bp)...\n",
            "[M::mem_process_seqs] Processed 196080 reads in 6.177 CPU sec, 5.979 real sec\n",
            "[M::process] read 196080 sequences (10000080 bp)...\n",
            "[M::mem_process_seqs] Processed 196080 reads in 5.350 CPU sec, 5.244 real sec\n",
            "[M::process] read 94337 sequences (4811187 bp)...\n",
            "[M::mem_process_seqs] Processed 196080 reads in 7.382 CPU sec, 8.371 real sec\n",
            "[M::mem_process_seqs] Processed 94337 reads in 2.996 CPU sec, 3.168 real sec\n",
            "[main] Version: 0.7.17-r1188\n",
            "[main] CMD: bwa mem Cl_perfringens.fa SRR5365416.fastq\n",
            "[main] Real time: 39.002 sec; CPU: 38.607 sec\n"
          ]
        }
      ]
    },
    {
      "cell_type": "code",
      "source": [
        "!samtools stats $alignment| head -n 30 #проверка качества выравнивания(99%)"
      ],
      "metadata": {
        "colab": {
          "base_uri": "https://localhost:8080/"
        },
        "id": "2ZZcLps8EQ2B",
        "outputId": "541d1117-e8f6-4ab0-8817-4c73a1b45c16"
      },
      "execution_count": 12,
      "outputs": [
        {
          "output_type": "stream",
          "name": "stdout",
          "text": [
            "# This file was produced by samtools stats (1.13+htslib-1.13+ds) and can be plotted using plot-bamstats\n",
            "# This file contains statistics for all reads.\n",
            "# The command line was:  stats SRR5365416_alignment.sam\n",
            "# CHK, Checksum\t[2]Read Names\t[3]Sequences\t[4]Qualities\n",
            "# CHK, CRC32 of reads which passed filtering followed by addition (32bit overflow)\n",
            "CHK\tb3e1f71b\t24c8f523\ta9ed6aa8\n",
            "# Summary Numbers. Use `grep ^SN | cut -f 2-` to extract this part.\n",
            "SN\traw total sequences:\t1270817\t# excluding supplementary and secondary reads\n",
            "SN\tfiltered sequences:\t0\n",
            "SN\tsequences:\t1270817\n",
            "SN\tis sorted:\t0\n",
            "SN\t1st fragments:\t1270817\n",
            "SN\tlast fragments:\t0\n",
            "SN\treads mapped:\t1260202\n",
            "SN\treads mapped and paired:\t0\t# paired-end technology bit set + both mates mapped\n",
            "SN\treads unmapped:\t10615\n",
            "SN\treads properly paired:\t0\t# proper-pair bit set\n",
            "SN\treads paired:\t0\t# paired-end technology bit set\n",
            "SN\treads duplicated:\t0\t# PCR or optical duplicate bit set\n",
            "SN\treads MQ0:\t97690\t# mapped and MQ=0\n",
            "SN\treads QC failed:\t0\n",
            "SN\tnon-primary alignments:\t0\n",
            "SN\tsupplementary alignments:\t57\n",
            "SN\ttotal length:\t64811667\t# ignores clipping\n",
            "SN\ttotal first fragment length:\t64811667\t# ignores clipping\n",
            "SN\ttotal last fragment length:\t0\t# ignores clipping\n",
            "SN\tbases mapped:\t64270302\t# ignores clipping\n",
            "SN\tbases mapped (cigar):\t64142923\t# more accurate\n",
            "SN\tbases trimmed:\t0\n",
            "SN\tbases duplicated:\t0\n"
          ]
        }
      ]
    }
  ]
}